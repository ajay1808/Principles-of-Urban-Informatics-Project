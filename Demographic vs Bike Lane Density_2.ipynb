{
 "cells": [
  {
   "cell_type": "code",
   "execution_count": 1,
   "id": "b33d153d",
   "metadata": {},
   "outputs": [],
   "source": [
    "import pandas as pd\n",
    "import numpy as np\n",
    "from sklearn.svm import SVR\n",
    "from sklearn.linear_model import SGDRegressor,LinearRegression\n",
    "from sklearn.pipeline import make_pipeline\n",
    "from sklearn.preprocessing import StandardScaler\n",
    "from sklearn.metrics import explained_variance_score,r2_score\n",
    "from sklearn.model_selection import train_test_split, GridSearchCV\n",
    "import matplotlib.pyplot as plt\n",
    "import seaborn as sns\n",
    "import statsmodels.formula.api as smf\n",
    "from sklearn.tree import DecisionTreeRegressor\n",
    "from sklearn.neighbors import LocalOutlierFactor\n",
    "from sklearn.ensemble import RandomForestRegressor, GradientBoostingRegressor\n",
    "from sklearn.gaussian_process import GaussianProcessRegressor\n",
    "from sklearn.gaussian_process.kernels import RBF, ConstantKernel,WhiteKernel\n",
    "%matplotlib inline\n",
    "import warnings\n",
    "warnings.filterwarnings(\"ignore\")\n",
    "from statsmodels.stats.outliers_influence import variance_inflation_factor\n",
    "import geopandas as gpd"
   ]
  },
  {
   "cell_type": "code",
   "execution_count": 2,
   "id": "0e115d5f",
   "metadata": {},
   "outputs": [
    {
     "data": {
      "text/html": [
       "<div>\n",
       "<style scoped>\n",
       "    .dataframe tbody tr th:only-of-type {\n",
       "        vertical-align: middle;\n",
       "    }\n",
       "\n",
       "    .dataframe tbody tr th {\n",
       "        vertical-align: top;\n",
       "    }\n",
       "\n",
       "    .dataframe thead th {\n",
       "        text-align: right;\n",
       "    }\n",
       "</style>\n",
       "<table border=\"1\" class=\"dataframe\">\n",
       "  <thead>\n",
       "    <tr style=\"text-align: right;\">\n",
       "      <th></th>\n",
       "      <th>geometry</th>\n",
       "    </tr>\n",
       "  </thead>\n",
       "  <tbody>\n",
       "    <tr>\n",
       "      <th>0</th>\n",
       "      <td>POLYGON ((1038098.252 188138.380, 1038141.936 ...</td>\n",
       "    </tr>\n",
       "    <tr>\n",
       "      <th>1</th>\n",
       "      <td>POLYGON ((1001613.713 186926.440, 1002314.243 ...</td>\n",
       "    </tr>\n",
       "    <tr>\n",
       "      <th>2</th>\n",
       "      <td>POLYGON ((1011174.276 183696.338, 1011373.584 ...</td>\n",
       "    </tr>\n",
       "    <tr>\n",
       "      <th>3</th>\n",
       "      <td>POLYGON ((995908.365 183617.613, 996522.848 18...</td>\n",
       "    </tr>\n",
       "    <tr>\n",
       "      <th>4</th>\n",
       "      <td>POLYGON ((991997.113 176307.496, 992042.798 17...</td>\n",
       "    </tr>\n",
       "  </tbody>\n",
       "</table>\n",
       "</div>"
      ],
      "text/plain": [
       "                                            geometry\n",
       "0  POLYGON ((1038098.252 188138.380, 1038141.936 ...\n",
       "1  POLYGON ((1001613.713 186926.440, 1002314.243 ...\n",
       "2  POLYGON ((1011174.276 183696.338, 1011373.584 ...\n",
       "3  POLYGON ((995908.365 183617.613, 996522.848 18...\n",
       "4  POLYGON ((991997.113 176307.496, 992042.798 17..."
      ]
     },
     "execution_count": 2,
     "metadata": {},
     "output_type": "execute_result"
    }
   ],
   "source": [
    "zips=gpd.read_file('ZIP_CODE_040114.shp')\n",
    "zips.head()"
   ]
  },
  {
   "cell_type": "code",
   "execution_count": 3,
   "id": "35d0a547",
   "metadata": {},
   "outputs": [],
   "source": [
    "data = pd.read_csv('Features_Zipcode_Final.csv')"
   ]
  },
  {
   "cell_type": "code",
   "execution_count": 4,
   "id": "97082929",
   "metadata": {},
   "outputs": [],
   "source": [
    "data['Area'] = zips.area*1e7"
   ]
  },
  {
   "cell_type": "code",
   "execution_count": 5,
   "id": "10a460ec",
   "metadata": {
    "scrolled": true
   },
   "outputs": [
    {
     "data": {
      "text/html": [
       "<div>\n",
       "<style scoped>\n",
       "    .dataframe tbody tr th:only-of-type {\n",
       "        vertical-align: middle;\n",
       "    }\n",
       "\n",
       "    .dataframe tbody tr th {\n",
       "        vertical-align: top;\n",
       "    }\n",
       "\n",
       "    .dataframe thead th {\n",
       "        text-align: right;\n",
       "    }\n",
       "</style>\n",
       "<table border=\"1\" class=\"dataframe\">\n",
       "  <thead>\n",
       "    <tr style=\"text-align: right;\">\n",
       "      <th></th>\n",
       "      <th>ZIPCODE</th>\n",
       "      <th>TOTAL STREET LENGTH</th>\n",
       "      <th>TOTAL BIKE LANE LENGTH</th>\n",
       "      <th>BIKE LANE DENSITY</th>\n",
       "      <th>NUM_DOCKS_AVAILABLE</th>\n",
       "      <th>TRIPS</th>\n",
       "      <th>NORMALIZED ACCIDENT COUNT</th>\n",
       "      <th>WHITE_POP %</th>\n",
       "      <th>POPULATION</th>\n",
       "      <th>ACCIDENT COUNT</th>\n",
       "      <th>MEAN INCOME</th>\n",
       "      <th>Area</th>\n",
       "    </tr>\n",
       "  </thead>\n",
       "  <tbody>\n",
       "    <tr>\n",
       "      <th>0</th>\n",
       "      <td>11436</td>\n",
       "      <td>NaN</td>\n",
       "      <td>NaN</td>\n",
       "      <td>NaN</td>\n",
       "      <td>NaN</td>\n",
       "      <td>8192.653036</td>\n",
       "      <td>0.378388</td>\n",
       "      <td>7.031032</td>\n",
       "      <td>17949.0</td>\n",
       "      <td>31.0</td>\n",
       "      <td>29271.0</td>\n",
       "      <td>2.269930e+14</td>\n",
       "    </tr>\n",
       "    <tr>\n",
       "      <th>1</th>\n",
       "      <td>11213</td>\n",
       "      <td>146367.805288</td>\n",
       "      <td>28632.146155</td>\n",
       "      <td>0.195618</td>\n",
       "      <td>NaN</td>\n",
       "      <td>780.000000</td>\n",
       "      <td>45.128205</td>\n",
       "      <td>28.880142</td>\n",
       "      <td>63767.0</td>\n",
       "      <td>352.0</td>\n",
       "      <td>29216.0</td>\n",
       "      <td>2.963100e+14</td>\n",
       "    </tr>\n",
       "    <tr>\n",
       "      <th>2</th>\n",
       "      <td>11212</td>\n",
       "      <td>215912.786687</td>\n",
       "      <td>40575.901547</td>\n",
       "      <td>0.187927</td>\n",
       "      <td>NaN</td>\n",
       "      <td>87326.231788</td>\n",
       "      <td>0.381329</td>\n",
       "      <td>11.172781</td>\n",
       "      <td>84500.0</td>\n",
       "      <td>333.0</td>\n",
       "      <td>20958.0</td>\n",
       "      <td>4.197210e+14</td>\n",
       "    </tr>\n",
       "    <tr>\n",
       "      <th>3</th>\n",
       "      <td>11225</td>\n",
       "      <td>114141.251961</td>\n",
       "      <td>26079.822125</td>\n",
       "      <td>0.228487</td>\n",
       "      <td>149.0</td>\n",
       "      <td>6879.000000</td>\n",
       "      <td>4.564617</td>\n",
       "      <td>31.436415</td>\n",
       "      <td>56829.0</td>\n",
       "      <td>314.0</td>\n",
       "      <td>38992.0</td>\n",
       "      <td>2.369863e+14</td>\n",
       "    </tr>\n",
       "    <tr>\n",
       "      <th>4</th>\n",
       "      <td>11218</td>\n",
       "      <td>208355.389994</td>\n",
       "      <td>24186.845000</td>\n",
       "      <td>0.116085</td>\n",
       "      <td>23.0</td>\n",
       "      <td>1186.000000</td>\n",
       "      <td>28.667791</td>\n",
       "      <td>62.269343</td>\n",
       "      <td>75220.0</td>\n",
       "      <td>340.0</td>\n",
       "      <td>36189.0</td>\n",
       "      <td>3.686880e+14</td>\n",
       "    </tr>\n",
       "  </tbody>\n",
       "</table>\n",
       "</div>"
      ],
      "text/plain": [
       "   ZIPCODE  TOTAL STREET LENGTH  TOTAL BIKE LANE LENGTH  BIKE LANE DENSITY  \\\n",
       "0    11436                  NaN                     NaN                NaN   \n",
       "1    11213        146367.805288            28632.146155           0.195618   \n",
       "2    11212        215912.786687            40575.901547           0.187927   \n",
       "3    11225        114141.251961            26079.822125           0.228487   \n",
       "4    11218        208355.389994            24186.845000           0.116085   \n",
       "\n",
       "   NUM_DOCKS_AVAILABLE         TRIPS  NORMALIZED ACCIDENT COUNT  WHITE_POP %  \\\n",
       "0                  NaN   8192.653036                   0.378388     7.031032   \n",
       "1                  NaN    780.000000                  45.128205    28.880142   \n",
       "2                  NaN  87326.231788                   0.381329    11.172781   \n",
       "3                149.0   6879.000000                   4.564617    31.436415   \n",
       "4                 23.0   1186.000000                  28.667791    62.269343   \n",
       "\n",
       "   POPULATION  ACCIDENT COUNT  MEAN INCOME          Area  \n",
       "0     17949.0            31.0      29271.0  2.269930e+14  \n",
       "1     63767.0           352.0      29216.0  2.963100e+14  \n",
       "2     84500.0           333.0      20958.0  4.197210e+14  \n",
       "3     56829.0           314.0      38992.0  2.369863e+14  \n",
       "4     75220.0           340.0      36189.0  3.686880e+14  "
      ]
     },
     "execution_count": 5,
     "metadata": {},
     "output_type": "execute_result"
    }
   ],
   "source": [
    "data.head()"
   ]
  },
  {
   "cell_type": "code",
   "execution_count": 6,
   "id": "ac696bd2",
   "metadata": {},
   "outputs": [],
   "source": [
    "data['POPULATION'] = data['POPULATION']/data['Area']"
   ]
  },
  {
   "cell_type": "code",
   "execution_count": 7,
   "id": "8442a180",
   "metadata": {},
   "outputs": [
    {
     "data": {
      "text/plain": [
       "(248, 12)"
      ]
     },
     "execution_count": 7,
     "metadata": {},
     "output_type": "execute_result"
    }
   ],
   "source": [
    "data.shape"
   ]
  },
  {
   "cell_type": "code",
   "execution_count": 8,
   "id": "065c2065",
   "metadata": {},
   "outputs": [
    {
     "data": {
      "text/plain": [
       "(172, 4)"
      ]
     },
     "execution_count": 8,
     "metadata": {},
     "output_type": "execute_result"
    }
   ],
   "source": [
    "data1 = data[['ZIPCODE','BIKE LANE DENSITY','WHITE_POP %','MEAN INCOME','POPULATION']].dropna().set_index('ZIPCODE',drop=True)\n",
    "data1.columns = data1.columns.str.replace(' ', '_')\n",
    "data1.shape"
   ]
  },
  {
   "cell_type": "code",
   "execution_count": 9,
   "id": "52657539",
   "metadata": {
    "scrolled": true
   },
   "outputs": [
    {
     "name": "stdout",
     "output_type": "stream",
     "text": [
      "<class 'pandas.core.frame.DataFrame'>\n",
      "Int64Index: 172 entries, 11213 to 10310\n",
      "Data columns (total 4 columns):\n",
      " #   Column             Non-Null Count  Dtype  \n",
      "---  ------             --------------  -----  \n",
      " 0   BIKE_LANE_DENSITY  172 non-null    float64\n",
      " 1   WHITE_POP_%        172 non-null    float64\n",
      " 2   MEAN_INCOME        172 non-null    float64\n",
      " 3   POPULATION         172 non-null    float64\n",
      "dtypes: float64(4)\n",
      "memory usage: 6.7 KB\n"
     ]
    }
   ],
   "source": [
    "data1.info()"
   ]
  },
  {
   "cell_type": "code",
   "execution_count": 10,
   "id": "c18504e7",
   "metadata": {},
   "outputs": [
    {
     "data": {
      "text/plain": [
       "(248, 12)"
      ]
     },
     "execution_count": 10,
     "metadata": {},
     "output_type": "execute_result"
    }
   ],
   "source": [
    "data.shape"
   ]
  },
  {
   "cell_type": "code",
   "execution_count": 11,
   "id": "fe0631a2",
   "metadata": {},
   "outputs": [
    {
     "data": {
      "text/html": [
       "<div>\n",
       "<style scoped>\n",
       "    .dataframe tbody tr th:only-of-type {\n",
       "        vertical-align: middle;\n",
       "    }\n",
       "\n",
       "    .dataframe tbody tr th {\n",
       "        vertical-align: top;\n",
       "    }\n",
       "\n",
       "    .dataframe thead th {\n",
       "        text-align: right;\n",
       "    }\n",
       "</style>\n",
       "<table border=\"1\" class=\"dataframe\">\n",
       "  <thead>\n",
       "    <tr style=\"text-align: right;\">\n",
       "      <th></th>\n",
       "      <th>BIKE_LANE_DENSITY</th>\n",
       "      <th>WHITE_POP_%</th>\n",
       "      <th>MEAN_INCOME</th>\n",
       "      <th>POPULATION</th>\n",
       "    </tr>\n",
       "    <tr>\n",
       "      <th>ZIPCODE</th>\n",
       "      <th></th>\n",
       "      <th></th>\n",
       "      <th></th>\n",
       "      <th></th>\n",
       "    </tr>\n",
       "  </thead>\n",
       "  <tbody>\n",
       "    <tr>\n",
       "      <th>11213</th>\n",
       "      <td>0.195618</td>\n",
       "      <td>28.880142</td>\n",
       "      <td>29216.0</td>\n",
       "      <td>2.152036e-10</td>\n",
       "    </tr>\n",
       "    <tr>\n",
       "      <th>11212</th>\n",
       "      <td>0.187927</td>\n",
       "      <td>11.172781</td>\n",
       "      <td>20958.0</td>\n",
       "      <td>2.013242e-10</td>\n",
       "    </tr>\n",
       "    <tr>\n",
       "      <th>11225</th>\n",
       "      <td>0.228487</td>\n",
       "      <td>31.436415</td>\n",
       "      <td>38992.0</td>\n",
       "      <td>2.397987e-10</td>\n",
       "    </tr>\n",
       "    <tr>\n",
       "      <th>11218</th>\n",
       "      <td>0.116085</td>\n",
       "      <td>62.269343</td>\n",
       "      <td>36189.0</td>\n",
       "      <td>2.040207e-10</td>\n",
       "    </tr>\n",
       "    <tr>\n",
       "      <th>11226</th>\n",
       "      <td>0.136211</td>\n",
       "      <td>16.696531</td>\n",
       "      <td>31064.0</td>\n",
       "      <td>2.577407e-10</td>\n",
       "    </tr>\n",
       "  </tbody>\n",
       "</table>\n",
       "</div>"
      ],
      "text/plain": [
       "         BIKE_LANE_DENSITY  WHITE_POP_%  MEAN_INCOME    POPULATION\n",
       "ZIPCODE                                                           \n",
       "11213             0.195618    28.880142      29216.0  2.152036e-10\n",
       "11212             0.187927    11.172781      20958.0  2.013242e-10\n",
       "11225             0.228487    31.436415      38992.0  2.397987e-10\n",
       "11218             0.116085    62.269343      36189.0  2.040207e-10\n",
       "11226             0.136211    16.696531      31064.0  2.577407e-10"
      ]
     },
     "execution_count": 11,
     "metadata": {},
     "output_type": "execute_result"
    }
   ],
   "source": [
    "data1.head()"
   ]
  },
  {
   "cell_type": "code",
   "execution_count": 12,
   "id": "856d8e43",
   "metadata": {},
   "outputs": [
    {
     "data": {
      "text/plain": [
       "(172, 4)"
      ]
     },
     "execution_count": 12,
     "metadata": {},
     "output_type": "execute_result"
    }
   ],
   "source": [
    "data1.shape"
   ]
  },
  {
   "cell_type": "code",
   "execution_count": 13,
   "id": "16479b6a",
   "metadata": {},
   "outputs": [
    {
     "data": {
      "text/plain": [
       "(138, 4)"
      ]
     },
     "execution_count": 13,
     "metadata": {},
     "output_type": "execute_result"
    }
   ],
   "source": [
    "data1=data1[(data1[\"MEAN_INCOME\"] < data1[\"MEAN_INCOME\"].quantile(.95)) & (data1[\"MEAN_INCOME\"] > data1[\"MEAN_INCOME\"].quantile(.05))]\n",
    "data1=data1[(data1[\"POPULATION\"] < data1[\"POPULATION\"].quantile(.95)) & (data1[\"POPULATION\"] > data1[\"POPULATION\"].quantile(.05))]\n",
    "\n",
    "data1.shape"
   ]
  },
  {
   "cell_type": "code",
   "execution_count": 14,
   "id": "caa2966b",
   "metadata": {},
   "outputs": [],
   "source": [
    "from sklearn.preprocessing import MinMaxScaler\n",
    "\n",
    "scaler=MinMaxScaler()\n",
    "\n",
    "cols=data1.columns\n",
    "data1[cols]=scaler.fit_transform(data1[cols])"
   ]
  },
  {
   "cell_type": "code",
   "execution_count": 15,
   "id": "5c77ff49",
   "metadata": {},
   "outputs": [
    {
     "data": {
      "text/html": [
       "<div>\n",
       "<style scoped>\n",
       "    .dataframe tbody tr th:only-of-type {\n",
       "        vertical-align: middle;\n",
       "    }\n",
       "\n",
       "    .dataframe tbody tr th {\n",
       "        vertical-align: top;\n",
       "    }\n",
       "\n",
       "    .dataframe thead th {\n",
       "        text-align: right;\n",
       "    }\n",
       "</style>\n",
       "<table border=\"1\" class=\"dataframe\">\n",
       "  <thead>\n",
       "    <tr style=\"text-align: right;\">\n",
       "      <th></th>\n",
       "      <th>BIKE_LANE_DENSITY</th>\n",
       "      <th>WHITE_POP_%</th>\n",
       "      <th>MEAN_INCOME</th>\n",
       "      <th>POPULATION</th>\n",
       "    </tr>\n",
       "    <tr>\n",
       "      <th>ZIPCODE</th>\n",
       "      <th></th>\n",
       "      <th></th>\n",
       "      <th></th>\n",
       "      <th></th>\n",
       "    </tr>\n",
       "  </thead>\n",
       "  <tbody>\n",
       "    <tr>\n",
       "      <th>11213</th>\n",
       "      <td>0.361635</td>\n",
       "      <td>0.243643</td>\n",
       "      <td>0.104958</td>\n",
       "      <td>0.029689</td>\n",
       "    </tr>\n",
       "    <tr>\n",
       "      <th>11212</th>\n",
       "      <td>0.347400</td>\n",
       "      <td>0.074801</td>\n",
       "      <td>0.031679</td>\n",
       "      <td>0.027584</td>\n",
       "    </tr>\n",
       "    <tr>\n",
       "      <th>11225</th>\n",
       "      <td>0.422476</td>\n",
       "      <td>0.268017</td>\n",
       "      <td>0.191707</td>\n",
       "      <td>0.033420</td>\n",
       "    </tr>\n",
       "    <tr>\n",
       "      <th>11218</th>\n",
       "      <td>0.214420</td>\n",
       "      <td>0.562014</td>\n",
       "      <td>0.166834</td>\n",
       "      <td>0.027993</td>\n",
       "    </tr>\n",
       "    <tr>\n",
       "      <th>11226</th>\n",
       "      <td>0.251674</td>\n",
       "      <td>0.127471</td>\n",
       "      <td>0.121356</td>\n",
       "      <td>0.036141</td>\n",
       "    </tr>\n",
       "  </tbody>\n",
       "</table>\n",
       "</div>"
      ],
      "text/plain": [
       "         BIKE_LANE_DENSITY  WHITE_POP_%  MEAN_INCOME  POPULATION\n",
       "ZIPCODE                                                         \n",
       "11213             0.361635     0.243643     0.104958    0.029689\n",
       "11212             0.347400     0.074801     0.031679    0.027584\n",
       "11225             0.422476     0.268017     0.191707    0.033420\n",
       "11218             0.214420     0.562014     0.166834    0.027993\n",
       "11226             0.251674     0.127471     0.121356    0.036141"
      ]
     },
     "execution_count": 15,
     "metadata": {},
     "output_type": "execute_result"
    }
   ],
   "source": [
    "data1.head()"
   ]
  },
  {
   "cell_type": "code",
   "execution_count": 16,
   "id": "97bd3e40",
   "metadata": {},
   "outputs": [
    {
     "name": "stdout",
     "output_type": "stream",
     "text": [
      "<class 'pandas.core.frame.DataFrame'>\n",
      "Int64Index: 138 entries, 11213 to 10075\n",
      "Data columns (total 4 columns):\n",
      " #   Column             Non-Null Count  Dtype  \n",
      "---  ------             --------------  -----  \n",
      " 0   BIKE_LANE_DENSITY  138 non-null    float64\n",
      " 1   WHITE_POP_%        138 non-null    float64\n",
      " 2   MEAN_INCOME        138 non-null    float64\n",
      " 3   POPULATION         138 non-null    float64\n",
      "dtypes: float64(4)\n",
      "memory usage: 5.4 KB\n"
     ]
    }
   ],
   "source": [
    "data1.info()"
   ]
  },
  {
   "cell_type": "code",
   "execution_count": 17,
   "id": "6285f4b9",
   "metadata": {
    "scrolled": true
   },
   "outputs": [
    {
     "data": {
      "text/plain": [
       "<AxesSubplot:>"
      ]
     },
     "execution_count": 17,
     "metadata": {},
     "output_type": "execute_result"
    },
    {
     "data": {
      "image/png": "[encoded data removed]",
      "text/plain": [
       "<Figure size 432x288 with 1 Axes>"
      ]
     },
     "metadata": {
      "needs_background": "light"
     },
     "output_type": "display_data"
    }
   ],
   "source": [
    "sns.boxplot(data=data1)"
   ]
  },
  {
   "cell_type": "code",
   "execution_count": 18,
   "id": "bc05d063",
   "metadata": {},
   "outputs": [],
   "source": [
    "data1 = data1.rename({\"WHITE_POP_%\":\"WHITE_POP_PERC\",},axis=1)"
   ]
  },
  {
   "cell_type": "code",
   "execution_count": 19,
   "id": "0d27ccbf",
   "metadata": {},
   "outputs": [],
   "source": [
    "base=10\n",
    "data1['Log_WHITE_POP_PERC'] = np.log(np.array(data1['WHITE_POP_PERC'])+1e-9)/np.log(base)\n",
    "data1['Log_MEAN_INCOME'] = np.log(np.array(data1['MEAN_INCOME'])+1e-9)/np.log(base)\n",
    "data1['Log_POPULATION'] = np.log(np.array(data1['POPULATION'])+1e-9)/np.log(base)\n",
    "data1['Log_BIKE_LANE_DENSITY'] = np.log(np.array(data1['BIKE_LANE_DENSITY'])+1e-9)/np.log(base)\n",
    "\n",
    "root=1/4\n",
    "data1['root_WHITE_POP_PERC'] = np.power(np.array(data1['WHITE_POP_PERC']),root)\n",
    "data1['root_MEAN_INCOME'] = np.power(np.array(data1['MEAN_INCOME']),root)\n",
    "data1['root_POPULATION'] = np.power(np.array(data1['POPULATION']),root)\n",
    "data1['root_BIKE_LANE_DENSITY'] = np.power(np.array(data1['BIKE_LANE_DENSITY']),root)"
   ]
  },
  {
   "cell_type": "code",
   "execution_count": 20,
   "id": "9b712174",
   "metadata": {
    "scrolled": true
   },
   "outputs": [
    {
     "data": {
      "text/html": [
       "<table class=\"simpletable\">\n",
       "<caption>OLS Regression Results</caption>\n",
       "<tr>\n",
       "  <th>Dep. Variable:</th>    <td>BIKE_LANE_DENSITY</td> <th>  R-squared (uncentered):</th>      <td>   0.547</td>\n",
       "</tr>\n",
       "<tr>\n",
       "  <th>Model:</th>                   <td>OLS</td>        <th>  Adj. R-squared (uncentered):</th> <td>   0.544</td>\n",
       "</tr>\n",
       "<tr>\n",
       "  <th>Method:</th>             <td>Least Squares</td>   <th>  F-statistic:       </th>          <td>   165.5</td>\n",
       "</tr>\n",
       "<tr>\n",
       "  <th>Date:</th>             <td>Tue, 13 Dec 2022</td>  <th>  Prob (F-statistic):</th>          <td>2.48e-25</td>\n",
       "</tr>\n",
       "<tr>\n",
       "  <th>Time:</th>                 <td>18:47:32</td>      <th>  Log-Likelihood:    </th>          <td> -7.5749</td>\n",
       "</tr>\n",
       "<tr>\n",
       "  <th>No. Observations:</th>      <td>   138</td>       <th>  AIC:               </th>          <td>   17.15</td>\n",
       "</tr>\n",
       "<tr>\n",
       "  <th>Df Residuals:</th>          <td>   137</td>       <th>  BIC:               </th>          <td>   20.08</td>\n",
       "</tr>\n",
       "<tr>\n",
       "  <th>Df Model:</th>              <td>     1</td>       <th>                     </th>              <td> </td>   \n",
       "</tr>\n",
       "<tr>\n",
       "  <th>Covariance Type:</th>      <td>nonrobust</td>     <th>                     </th>              <td> </td>   \n",
       "</tr>\n",
       "</table>\n",
       "<table class=\"simpletable\">\n",
       "<tr>\n",
       "         <td></td>            <th>coef</th>     <th>std err</th>      <th>t</th>      <th>P>|t|</th>  <th>[0.025</th>    <th>0.975]</th>  \n",
       "</tr>\n",
       "<tr>\n",
       "  <th>root_POPULATION</th> <td>    0.6459</td> <td>    0.050</td> <td>   12.866</td> <td> 0.000</td> <td>    0.547</td> <td>    0.745</td>\n",
       "</tr>\n",
       "</table>\n",
       "<table class=\"simpletable\">\n",
       "<tr>\n",
       "  <th>Omnibus:</th>       <td>11.674</td> <th>  Durbin-Watson:     </th> <td>   1.777</td>\n",
       "</tr>\n",
       "<tr>\n",
       "  <th>Prob(Omnibus):</th> <td> 0.003</td> <th>  Jarque-Bera (JB):  </th> <td>  12.631</td>\n",
       "</tr>\n",
       "<tr>\n",
       "  <th>Skew:</th>          <td> 0.605</td> <th>  Prob(JB):          </th> <td> 0.00181</td>\n",
       "</tr>\n",
       "<tr>\n",
       "  <th>Kurtosis:</th>      <td> 3.856</td> <th>  Cond. No.          </th> <td>    1.00</td>\n",
       "</tr>\n",
       "</table><br/><br/>Notes:<br/>[1] R² is computed without centering (uncentered) since the model does not contain a constant.<br/>[2] Standard Errors assume that the covariance matrix of the errors is correctly specified."
      ],
      "text/plain": [
       "<class 'statsmodels.iolib.summary.Summary'>\n",
       "\"\"\"\n",
       "                                 OLS Regression Results                                \n",
       "=======================================================================================\n",
       "Dep. Variable:      BIKE_LANE_DENSITY   R-squared (uncentered):                   0.547\n",
       "Model:                            OLS   Adj. R-squared (uncentered):              0.544\n",
       "Method:                 Least Squares   F-statistic:                              165.5\n",
       "Date:                Tue, 13 Dec 2022   Prob (F-statistic):                    2.48e-25\n",
       "Time:                        18:47:32   Log-Likelihood:                         -7.5749\n",
       "No. Observations:                 138   AIC:                                      17.15\n",
       "Df Residuals:                     137   BIC:                                      20.08\n",
       "Df Model:                           1                                                  \n",
       "Covariance Type:            nonrobust                                                  \n",
       "===================================================================================\n",
       "                      coef    std err          t      P>|t|      [0.025      0.975]\n",
       "-----------------------------------------------------------------------------------\n",
       "root_POPULATION     0.6459      0.050     12.866      0.000       0.547       0.745\n",
       "==============================================================================\n",
       "Omnibus:                       11.674   Durbin-Watson:                   1.777\n",
       "Prob(Omnibus):                  0.003   Jarque-Bera (JB):               12.631\n",
       "Skew:                           0.605   Prob(JB):                      0.00181\n",
       "Kurtosis:                       3.856   Cond. No.                         1.00\n",
       "==============================================================================\n",
       "\n",
       "Notes:\n",
       "[1] R² is computed without centering (uncentered) since the model does not contain a constant.\n",
       "[2] Standard Errors assume that the covariance matrix of the errors is correctly specified.\n",
       "\"\"\""
      ]
     },
     "execution_count": 20,
     "metadata": {},
     "output_type": "execute_result"
    }
   ],
   "source": [
    "lm1 = smf.ols(formula='BIKE_LANE_DENSITY ~ root_POPULATION-1',data=data1).fit()\n",
    "lm1.summary()"
   ]
  },
  {
   "cell_type": "code",
   "execution_count": 21,
   "id": "f82c5f2e",
   "metadata": {},
   "outputs": [
    {
     "data": {
      "text/markdown": [
       "$$ BikeLaneDensity = (0.6458937489881512*root(POPULATION))^0.25$$"
      ],
      "text/plain": [
       "<IPython.core.display.Markdown object>"
      ]
     },
     "execution_count": 21,
     "metadata": {},
     "output_type": "execute_result"
    }
   ],
   "source": [
    "from IPython.display import Markdown as md\n",
    "md(\"$$ BikeLaneDensity = ({}*root(POPULATION))^{}$$\".format(lm1.params[0],root))"
   ]
  },
  {
   "cell_type": "code",
   "execution_count": 22,
   "id": "5e88daf5",
   "metadata": {
    "scrolled": true
   },
   "outputs": [
    {
     "data": {
      "text/html": [
       "<table class=\"simpletable\">\n",
       "<caption>OLS Regression Results</caption>\n",
       "<tr>\n",
       "  <th>Dep. Variable:</th>    <td>BIKE_LANE_DENSITY</td> <th>  R-squared (uncentered):</th>      <td>   0.607</td>\n",
       "</tr>\n",
       "<tr>\n",
       "  <th>Model:</th>                   <td>OLS</td>        <th>  Adj. R-squared (uncentered):</th> <td>   0.604</td>\n",
       "</tr>\n",
       "<tr>\n",
       "  <th>Method:</th>             <td>Least Squares</td>   <th>  F-statistic:       </th>          <td>   211.9</td>\n",
       "</tr>\n",
       "<tr>\n",
       "  <th>Date:</th>             <td>Tue, 13 Dec 2022</td>  <th>  Prob (F-statistic):</th>          <td>1.35e-29</td>\n",
       "</tr>\n",
       "<tr>\n",
       "  <th>Time:</th>                 <td>18:47:32</td>      <th>  Log-Likelihood:    </th>          <td>  2.2671</td>\n",
       "</tr>\n",
       "<tr>\n",
       "  <th>No. Observations:</th>      <td>   138</td>       <th>  AIC:               </th>          <td>  -2.534</td>\n",
       "</tr>\n",
       "<tr>\n",
       "  <th>Df Residuals:</th>          <td>   137</td>       <th>  BIC:               </th>          <td>  0.3931</td>\n",
       "</tr>\n",
       "<tr>\n",
       "  <th>Df Model:</th>              <td>     1</td>       <th>                     </th>              <td> </td>   \n",
       "</tr>\n",
       "<tr>\n",
       "  <th>Covariance Type:</th>      <td>nonrobust</td>     <th>                     </th>              <td> </td>   \n",
       "</tr>\n",
       "</table>\n",
       "<table class=\"simpletable\">\n",
       "<tr>\n",
       "       <td></td>          <th>coef</th>     <th>std err</th>      <th>t</th>      <th>P>|t|</th>  <th>[0.025</th>    <th>0.975]</th>  \n",
       "</tr>\n",
       "<tr>\n",
       "  <th>MEAN_INCOME</th> <td>    0.8197</td> <td>    0.056</td> <td>   14.557</td> <td> 0.000</td> <td>    0.708</td> <td>    0.931</td>\n",
       "</tr>\n",
       "</table>\n",
       "<table class=\"simpletable\">\n",
       "<tr>\n",
       "  <th>Omnibus:</th>       <td>10.186</td> <th>  Durbin-Watson:     </th> <td>   1.687</td>\n",
       "</tr>\n",
       "<tr>\n",
       "  <th>Prob(Omnibus):</th> <td> 0.006</td> <th>  Jarque-Bera (JB):  </th> <td>  15.552</td>\n",
       "</tr>\n",
       "<tr>\n",
       "  <th>Skew:</th>          <td> 0.365</td> <th>  Prob(JB):          </th> <td>0.000420</td>\n",
       "</tr>\n",
       "<tr>\n",
       "  <th>Kurtosis:</th>      <td> 4.473</td> <th>  Cond. No.          </th> <td>    1.00</td>\n",
       "</tr>\n",
       "</table><br/><br/>Notes:<br/>[1] R² is computed without centering (uncentered) since the model does not contain a constant.<br/>[2] Standard Errors assume that the covariance matrix of the errors is correctly specified."
      ],
      "text/plain": [
       "<class 'statsmodels.iolib.summary.Summary'>\n",
       "\"\"\"\n",
       "                                 OLS Regression Results                                \n",
       "=======================================================================================\n",
       "Dep. Variable:      BIKE_LANE_DENSITY   R-squared (uncentered):                   0.607\n",
       "Model:                            OLS   Adj. R-squared (uncentered):              0.604\n",
       "Method:                 Least Squares   F-statistic:                              211.9\n",
       "Date:                Tue, 13 Dec 2022   Prob (F-statistic):                    1.35e-29\n",
       "Time:                        18:47:32   Log-Likelihood:                          2.2671\n",
       "No. Observations:                 138   AIC:                                     -2.534\n",
       "Df Residuals:                     137   BIC:                                     0.3931\n",
       "Df Model:                           1                                                  \n",
       "Covariance Type:            nonrobust                                                  \n",
       "===============================================================================\n",
       "                  coef    std err          t      P>|t|      [0.025      0.975]\n",
       "-------------------------------------------------------------------------------\n",
       "MEAN_INCOME     0.8197      0.056     14.557      0.000       0.708       0.931\n",
       "==============================================================================\n",
       "Omnibus:                       10.186   Durbin-Watson:                   1.687\n",
       "Prob(Omnibus):                  0.006   Jarque-Bera (JB):               15.552\n",
       "Skew:                           0.365   Prob(JB):                     0.000420\n",
       "Kurtosis:                       4.473   Cond. No.                         1.00\n",
       "==============================================================================\n",
       "\n",
       "Notes:\n",
       "[1] R² is computed without centering (uncentered) since the model does not contain a constant.\n",
       "[2] Standard Errors assume that the covariance matrix of the errors is correctly specified.\n",
       "\"\"\""
      ]
     },
     "execution_count": 22,
     "metadata": {},
     "output_type": "execute_result"
    }
   ],
   "source": [
    "lm2 = smf.ols(formula='BIKE_LANE_DENSITY ~ MEAN_INCOME-1',data=data1).fit()\n",
    "lm2.summary()"
   ]
  },
  {
   "cell_type": "code",
   "execution_count": 23,
   "id": "8150b5f8",
   "metadata": {},
   "outputs": [
    {
     "data": {
      "text/markdown": [
       "$$ BikeLaneDensity = (0.8197070819628614*MEAN INCOME)$$"
      ],
      "text/plain": [
       "<IPython.core.display.Markdown object>"
      ]
     },
     "execution_count": 23,
     "metadata": {},
     "output_type": "execute_result"
    }
   ],
   "source": [
    "from IPython.display import Markdown as md\n",
    "md(\"$$ BikeLaneDensity = ({}*MEAN INCOME)$$\".format(lm2.params[0]))"
   ]
  },
  {
   "cell_type": "code",
   "execution_count": 24,
   "id": "98223bc4",
   "metadata": {},
   "outputs": [
    {
     "data": {
      "text/html": [
       "<table class=\"simpletable\">\n",
       "<caption>OLS Regression Results</caption>\n",
       "<tr>\n",
       "  <th>Dep. Variable:</th>    <td>BIKE_LANE_DENSITY</td> <th>  R-squared (uncentered):</th>      <td>   0.598</td>\n",
       "</tr>\n",
       "<tr>\n",
       "  <th>Model:</th>                   <td>OLS</td>        <th>  Adj. R-squared (uncentered):</th> <td>   0.595</td>\n",
       "</tr>\n",
       "<tr>\n",
       "  <th>Method:</th>             <td>Least Squares</td>   <th>  F-statistic:       </th>          <td>   203.8</td>\n",
       "</tr>\n",
       "<tr>\n",
       "  <th>Date:</th>             <td>Tue, 13 Dec 2022</td>  <th>  Prob (F-statistic):</th>          <td>6.80e-29</td>\n",
       "</tr>\n",
       "<tr>\n",
       "  <th>Time:</th>                 <td>18:47:32</td>      <th>  Log-Likelihood:    </th>          <td> 0.64411</td>\n",
       "</tr>\n",
       "<tr>\n",
       "  <th>No. Observations:</th>      <td>   138</td>       <th>  AIC:               </th>          <td>  0.7118</td>\n",
       "</tr>\n",
       "<tr>\n",
       "  <th>Df Residuals:</th>          <td>   137</td>       <th>  BIC:               </th>          <td>   3.639</td>\n",
       "</tr>\n",
       "<tr>\n",
       "  <th>Df Model:</th>              <td>     1</td>       <th>                     </th>              <td> </td>   \n",
       "</tr>\n",
       "<tr>\n",
       "  <th>Covariance Type:</th>      <td>nonrobust</td>     <th>                     </th>              <td> </td>   \n",
       "</tr>\n",
       "</table>\n",
       "<table class=\"simpletable\">\n",
       "<tr>\n",
       "         <td></td>           <th>coef</th>     <th>std err</th>      <th>t</th>      <th>P>|t|</th>  <th>[0.025</th>    <th>0.975]</th>  \n",
       "</tr>\n",
       "<tr>\n",
       "  <th>WHITE_POP_PERC</th> <td>    0.5774</td> <td>    0.040</td> <td>   14.276</td> <td> 0.000</td> <td>    0.497</td> <td>    0.657</td>\n",
       "</tr>\n",
       "</table>\n",
       "<table class=\"simpletable\">\n",
       "<tr>\n",
       "  <th>Omnibus:</th>       <td> 3.753</td> <th>  Durbin-Watson:     </th> <td>   1.543</td>\n",
       "</tr>\n",
       "<tr>\n",
       "  <th>Prob(Omnibus):</th> <td> 0.153</td> <th>  Jarque-Bera (JB):  </th> <td>   3.213</td>\n",
       "</tr>\n",
       "<tr>\n",
       "  <th>Skew:</th>          <td> 0.319</td> <th>  Prob(JB):          </th> <td>   0.201</td>\n",
       "</tr>\n",
       "<tr>\n",
       "  <th>Kurtosis:</th>      <td> 3.389</td> <th>  Cond. No.          </th> <td>    1.00</td>\n",
       "</tr>\n",
       "</table><br/><br/>Notes:<br/>[1] R² is computed without centering (uncentered) since the model does not contain a constant.<br/>[2] Standard Errors assume that the covariance matrix of the errors is correctly specified."
      ],
      "text/plain": [
       "<class 'statsmodels.iolib.summary.Summary'>\n",
       "\"\"\"\n",
       "                                 OLS Regression Results                                \n",
       "=======================================================================================\n",
       "Dep. Variable:      BIKE_LANE_DENSITY   R-squared (uncentered):                   0.598\n",
       "Model:                            OLS   Adj. R-squared (uncentered):              0.595\n",
       "Method:                 Least Squares   F-statistic:                              203.8\n",
       "Date:                Tue, 13 Dec 2022   Prob (F-statistic):                    6.80e-29\n",
       "Time:                        18:47:32   Log-Likelihood:                         0.64411\n",
       "No. Observations:                 138   AIC:                                     0.7118\n",
       "Df Residuals:                     137   BIC:                                      3.639\n",
       "Df Model:                           1                                                  \n",
       "Covariance Type:            nonrobust                                                  \n",
       "==================================================================================\n",
       "                     coef    std err          t      P>|t|      [0.025      0.975]\n",
       "----------------------------------------------------------------------------------\n",
       "WHITE_POP_PERC     0.5774      0.040     14.276      0.000       0.497       0.657\n",
       "==============================================================================\n",
       "Omnibus:                        3.753   Durbin-Watson:                   1.543\n",
       "Prob(Omnibus):                  0.153   Jarque-Bera (JB):                3.213\n",
       "Skew:                           0.319   Prob(JB):                        0.201\n",
       "Kurtosis:                       3.389   Cond. No.                         1.00\n",
       "==============================================================================\n",
       "\n",
       "Notes:\n",
       "[1] R² is computed without centering (uncentered) since the model does not contain a constant.\n",
       "[2] Standard Errors assume that the covariance matrix of the errors is correctly specified.\n",
       "\"\"\""
      ]
     },
     "execution_count": 24,
     "metadata": {},
     "output_type": "execute_result"
    }
   ],
   "source": [
    "lm3 = smf.ols(formula='BIKE_LANE_DENSITY ~ WHITE_POP_PERC-1',data=data1).fit()\n",
    "lm3.summary()"
   ]
  },
  {
   "cell_type": "code",
   "execution_count": 25,
   "id": "003e39c0",
   "metadata": {},
   "outputs": [
    {
     "data": {
      "text/markdown": [
       "$$ BikeLaneDensity = (0.5774334395058394*WHITE POP PERCENTAGE)$$"
      ],
      "text/plain": [
       "<IPython.core.display.Markdown object>"
      ]
     },
     "execution_count": 25,
     "metadata": {},
     "output_type": "execute_result"
    }
   ],
   "source": [
    "md(\"$$ BikeLaneDensity = ({}*WHITE POP PERCENTAGE)$$\".format(lm3.params[0]))"
   ]
  },
  {
   "cell_type": "code",
   "execution_count": 26,
   "id": "f2dc9a20",
   "metadata": {
    "scrolled": true
   },
   "outputs": [
    {
     "data": {
      "text/html": [
       "<table class=\"simpletable\">\n",
       "<caption>OLS Regression Results</caption>\n",
       "<tr>\n",
       "  <th>Dep. Variable:</th>    <td>BIKE_LANE_DENSITY</td> <th>  R-squared (uncentered):</th>      <td>   0.705</td>\n",
       "</tr>\n",
       "<tr>\n",
       "  <th>Model:</th>                   <td>OLS</td>        <th>  Adj. R-squared (uncentered):</th> <td>   0.698</td>\n",
       "</tr>\n",
       "<tr>\n",
       "  <th>Method:</th>             <td>Least Squares</td>   <th>  F-statistic:       </th>          <td>   107.4</td>\n",
       "</tr>\n",
       "<tr>\n",
       "  <th>Date:</th>             <td>Tue, 13 Dec 2022</td>  <th>  Prob (F-statistic):</th>          <td>1.38e-35</td>\n",
       "</tr>\n",
       "<tr>\n",
       "  <th>Time:</th>                 <td>18:47:32</td>      <th>  Log-Likelihood:    </th>          <td>  21.925</td>\n",
       "</tr>\n",
       "<tr>\n",
       "  <th>No. Observations:</th>      <td>   138</td>       <th>  AIC:               </th>          <td>  -37.85</td>\n",
       "</tr>\n",
       "<tr>\n",
       "  <th>Df Residuals:</th>          <td>   135</td>       <th>  BIC:               </th>          <td>  -29.07</td>\n",
       "</tr>\n",
       "<tr>\n",
       "  <th>Df Model:</th>              <td>     3</td>       <th>                     </th>              <td> </td>   \n",
       "</tr>\n",
       "<tr>\n",
       "  <th>Covariance Type:</th>      <td>nonrobust</td>     <th>                     </th>              <td> </td>   \n",
       "</tr>\n",
       "</table>\n",
       "<table class=\"simpletable\">\n",
       "<tr>\n",
       "         <td></td>            <th>coef</th>     <th>std err</th>      <th>t</th>      <th>P>|t|</th>  <th>[0.025</th>    <th>0.975]</th>  \n",
       "</tr>\n",
       "<tr>\n",
       "  <th>MEAN_INCOME</th>     <td>    0.4777</td> <td>    0.088</td> <td>    5.456</td> <td> 0.000</td> <td>    0.305</td> <td>    0.651</td>\n",
       "</tr>\n",
       "<tr>\n",
       "  <th>root_POPULATION</th> <td>    0.3067</td> <td>    0.068</td> <td>    4.529</td> <td> 0.000</td> <td>    0.173</td> <td>    0.441</td>\n",
       "</tr>\n",
       "<tr>\n",
       "  <th>WHITE_POP_PERC</th>  <td>    0.0879</td> <td>    0.078</td> <td>    1.121</td> <td> 0.264</td> <td>   -0.067</td> <td>    0.243</td>\n",
       "</tr>\n",
       "</table>\n",
       "<table class=\"simpletable\">\n",
       "<tr>\n",
       "  <th>Omnibus:</th>       <td>21.094</td> <th>  Durbin-Watson:     </th> <td>   1.979</td>\n",
       "</tr>\n",
       "<tr>\n",
       "  <th>Prob(Omnibus):</th> <td> 0.000</td> <th>  Jarque-Bera (JB):  </th> <td>  28.978</td>\n",
       "</tr>\n",
       "<tr>\n",
       "  <th>Skew:</th>          <td> 0.833</td> <th>  Prob(JB):          </th> <td>5.10e-07</td>\n",
       "</tr>\n",
       "<tr>\n",
       "  <th>Kurtosis:</th>      <td> 4.504</td> <th>  Cond. No.          </th> <td>    4.39</td>\n",
       "</tr>\n",
       "</table><br/><br/>Notes:<br/>[1] R² is computed without centering (uncentered) since the model does not contain a constant.<br/>[2] Standard Errors assume that the covariance matrix of the errors is correctly specified."
      ],
      "text/plain": [
       "<class 'statsmodels.iolib.summary.Summary'>\n",
       "\"\"\"\n",
       "                                 OLS Regression Results                                \n",
       "=======================================================================================\n",
       "Dep. Variable:      BIKE_LANE_DENSITY   R-squared (uncentered):                   0.705\n",
       "Model:                            OLS   Adj. R-squared (uncentered):              0.698\n",
       "Method:                 Least Squares   F-statistic:                              107.4\n",
       "Date:                Tue, 13 Dec 2022   Prob (F-statistic):                    1.38e-35\n",
       "Time:                        18:47:32   Log-Likelihood:                          21.925\n",
       "No. Observations:                 138   AIC:                                     -37.85\n",
       "Df Residuals:                     135   BIC:                                     -29.07\n",
       "Df Model:                           3                                                  \n",
       "Covariance Type:            nonrobust                                                  \n",
       "===================================================================================\n",
       "                      coef    std err          t      P>|t|      [0.025      0.975]\n",
       "-----------------------------------------------------------------------------------\n",
       "MEAN_INCOME         0.4777      0.088      5.456      0.000       0.305       0.651\n",
       "root_POPULATION     0.3067      0.068      4.529      0.000       0.173       0.441\n",
       "WHITE_POP_PERC      0.0879      0.078      1.121      0.264      -0.067       0.243\n",
       "==============================================================================\n",
       "Omnibus:                       21.094   Durbin-Watson:                   1.979\n",
       "Prob(Omnibus):                  0.000   Jarque-Bera (JB):               28.978\n",
       "Skew:                           0.833   Prob(JB):                     5.10e-07\n",
       "Kurtosis:                       4.504   Cond. No.                         4.39\n",
       "==============================================================================\n",
       "\n",
       "Notes:\n",
       "[1] R² is computed without centering (uncentered) since the model does not contain a constant.\n",
       "[2] Standard Errors assume that the covariance matrix of the errors is correctly specified.\n",
       "\"\"\""
      ]
     },
     "execution_count": 26,
     "metadata": {},
     "output_type": "execute_result"
    }
   ],
   "source": [
    "lm4 = smf.ols(formula='BIKE_LANE_DENSITY ~ MEAN_INCOME+root_POPULATION+WHITE_POP_PERC-1',data=data1).fit()\n",
    "lm4.summary()"
   ]
  },
  {
   "cell_type": "code",
   "execution_count": 27,
   "id": "93dc3d9d",
   "metadata": {},
   "outputs": [
    {
     "data": {
      "text/plain": [
       "MEAN_INCOME        0.477667\n",
       "root_POPULATION    0.306663\n",
       "WHITE_POP_PERC     0.087864\n",
       "dtype: float64"
      ]
     },
     "execution_count": 27,
     "metadata": {},
     "output_type": "execute_result"
    }
   ],
   "source": [
    "lm4.params"
   ]
  },
  {
   "cell_type": "code",
   "execution_count": 28,
   "id": "105021ae",
   "metadata": {},
   "outputs": [
    {
     "data": {
      "text/plain": [
       "<matplotlib.legend.Legend at 0x7fee0235c430>"
      ]
     },
     "execution_count": 28,
     "metadata": {},
     "output_type": "execute_result"
    },
    {
     "data": {
      "image/png": "[encoded data removed]",
      "text/plain": [
       "<Figure size 504x504 with 1 Axes>"
      ]
     },
     "metadata": {
      "needs_background": "light"
     },
     "output_type": "display_data"
    }
   ],
   "source": [
    "x_mesh = np.linspace(0,1,10)\n",
    "y_mesh_1 = np.power(x_mesh,4)*lm1.params[0]\n",
    "y_mesh_2 = np.power(x_mesh,1)*lm2.params[0]\n",
    "y_mesh_3 = np.power(x_mesh,1)*lm3.params[0]\n",
    "y_mesh_4 = np.power(x_mesh,1)*lm4.params[0] + np.power(x_mesh,4)*lm4.params[1] + np.power(x_mesh,1)*lm4.params[2]\n",
    "\n",
    "plt.rcParams[\"figure.figsize\"] = (7,7)\n",
    "plt.plot(x_mesh,y_mesh_1,'-r')\n",
    "plt.plot(x_mesh,y_mesh_2,'-g')\n",
    "plt.plot(x_mesh,y_mesh_3,'-b')\n",
    "plt.plot(x_mesh,y_mesh_4,'-y')\n",
    "plt.ylabel('Bike Lane Density')\n",
    "\n",
    "from matplotlib.lines import Line2D\n",
    "custom_lines = [Line2D([0], [0], color='r', lw=4),\n",
    "                Line2D([0], [0], color='g', lw=4),\n",
    "                Line2D([0], [0], color='b', lw=4),\n",
    "                Line2D([0], [0], color='y', lw=4)]\n",
    "\n",
    "plt.legend(custom_lines, ['POPULATION', 'MEAN INCOME', 'WHITE POP %','ALL REGRESSORS'])"
   ]
  }
 ],
 "metadata": {
  "kernelspec": {
   "display_name": "Python 3 (ipykernel)",
   "language": "python",
   "name": "python3"
  },
  "language_info": {
   "codemirror_mode": {
    "name": "ipython",
    "version": 3
   },
   "file_extension": ".py",
   "mimetype": "text/x-python",
   "name": "python",
   "nbconvert_exporter": "python",
   "pygments_lexer": "ipython3",
   "version": "3.9.12"
  }
 },
 "nbformat": 4,
 "nbformat_minor": 5
}
