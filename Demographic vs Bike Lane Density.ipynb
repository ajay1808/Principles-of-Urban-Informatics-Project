{
 "cells": [
  {
   "cell_type": "code",
   "execution_count": 85,
   "id": "b33d153d",
   "metadata": {},
   "outputs": [],
   "source": [
    "import pandas as pd\n",
    "import numpy as np\n",
    "from sklearn.svm import SVR\n",
    "from sklearn.linear_model import SGDRegressor,LinearRegression\n",
    "from sklearn.pipeline import make_pipeline\n",
    "from sklearn.preprocessing import StandardScaler\n",
    "from sklearn.metrics import explained_variance_score,r2_score\n",
    "from sklearn.model_selection import train_test_split, GridSearchCV\n",
    "import matplotlib.pyplot as plt\n",
    "import seaborn as sns\n",
    "import statsmodels.formula.api as smf\n",
    "from sklearn.tree import DecisionTreeRegressor\n",
    "from sklearn.neighbors import LocalOutlierFactor\n",
    "from sklearn.ensemble import RandomForestRegressor, GradientBoostingRegressor\n",
    "from sklearn.gaussian_process import GaussianProcessRegressor\n",
    "from sklearn.gaussian_process.kernels import RBF, ConstantKernel,WhiteKernel\n",
    "%matplotlib inline\n",
    "import warnings\n",
    "warnings.filterwarnings(\"ignore\")\n",
    "from statsmodels.stats.outliers_influence import variance_inflation_factor"
   ]
  },
  {
   "cell_type": "code",
   "execution_count": 35,
   "id": "35d0a547",
   "metadata": {},
   "outputs": [],
   "source": [
    "data = pd.read_csv('Features_Zipcode_Final.csv')"
   ]
  },
  {
   "cell_type": "code",
   "execution_count": 36,
   "id": "10a460ec",
   "metadata": {},
   "outputs": [
    {
     "data": {
      "text/html": [
       "<div>\n",
       "<style scoped>\n",
       "    .dataframe tbody tr th:only-of-type {\n",
       "        vertical-align: middle;\n",
       "    }\n",
       "\n",
       "    .dataframe tbody tr th {\n",
       "        vertical-align: top;\n",
       "    }\n",
       "\n",
       "    .dataframe thead th {\n",
       "        text-align: right;\n",
       "    }\n",
       "</style>\n",
       "<table border=\"1\" class=\"dataframe\">\n",
       "  <thead>\n",
       "    <tr style=\"text-align: right;\">\n",
       "      <th></th>\n",
       "      <th>ZIPCODE</th>\n",
       "      <th>TOTAL STREET LENGTH</th>\n",
       "      <th>TOTAL BIKE LANE LENGTH</th>\n",
       "      <th>BIKE LANE DENSITY</th>\n",
       "      <th>NUM_DOCKS_AVAILABLE</th>\n",
       "      <th>TRIPS</th>\n",
       "      <th>NORMALIZED ACCIDENT COUNT</th>\n",
       "      <th>WHITE_POP %</th>\n",
       "      <th>POPULATION</th>\n",
       "      <th>ACCIDENT COUNT</th>\n",
       "      <th>MEAN INCOME</th>\n",
       "    </tr>\n",
       "  </thead>\n",
       "  <tbody>\n",
       "    <tr>\n",
       "      <th>0</th>\n",
       "      <td>11436</td>\n",
       "      <td>NaN</td>\n",
       "      <td>NaN</td>\n",
       "      <td>NaN</td>\n",
       "      <td>NaN</td>\n",
       "      <td>8192.653036</td>\n",
       "      <td>0.378388</td>\n",
       "      <td>7.031032</td>\n",
       "      <td>17949.0</td>\n",
       "      <td>31.0</td>\n",
       "      <td>29271.0</td>\n",
       "    </tr>\n",
       "    <tr>\n",
       "      <th>1</th>\n",
       "      <td>11213</td>\n",
       "      <td>146367.805288</td>\n",
       "      <td>28632.146155</td>\n",
       "      <td>0.195618</td>\n",
       "      <td>NaN</td>\n",
       "      <td>780.000000</td>\n",
       "      <td>45.128205</td>\n",
       "      <td>28.880142</td>\n",
       "      <td>63767.0</td>\n",
       "      <td>352.0</td>\n",
       "      <td>29216.0</td>\n",
       "    </tr>\n",
       "    <tr>\n",
       "      <th>2</th>\n",
       "      <td>11212</td>\n",
       "      <td>215912.786687</td>\n",
       "      <td>40575.901547</td>\n",
       "      <td>0.187927</td>\n",
       "      <td>NaN</td>\n",
       "      <td>87326.231788</td>\n",
       "      <td>0.381329</td>\n",
       "      <td>11.172781</td>\n",
       "      <td>84500.0</td>\n",
       "      <td>333.0</td>\n",
       "      <td>20958.0</td>\n",
       "    </tr>\n",
       "    <tr>\n",
       "      <th>3</th>\n",
       "      <td>11225</td>\n",
       "      <td>114141.251961</td>\n",
       "      <td>26079.822125</td>\n",
       "      <td>0.228487</td>\n",
       "      <td>149.0</td>\n",
       "      <td>6879.000000</td>\n",
       "      <td>4.564617</td>\n",
       "      <td>31.436415</td>\n",
       "      <td>56829.0</td>\n",
       "      <td>314.0</td>\n",
       "      <td>38992.0</td>\n",
       "    </tr>\n",
       "    <tr>\n",
       "      <th>4</th>\n",
       "      <td>11218</td>\n",
       "      <td>208355.389994</td>\n",
       "      <td>24186.845000</td>\n",
       "      <td>0.116085</td>\n",
       "      <td>23.0</td>\n",
       "      <td>1186.000000</td>\n",
       "      <td>28.667791</td>\n",
       "      <td>62.269343</td>\n",
       "      <td>75220.0</td>\n",
       "      <td>340.0</td>\n",
       "      <td>36189.0</td>\n",
       "    </tr>\n",
       "  </tbody>\n",
       "</table>\n",
       "</div>"
      ],
      "text/plain": [
       "   ZIPCODE  TOTAL STREET LENGTH  TOTAL BIKE LANE LENGTH  BIKE LANE DENSITY  \\\n",
       "0    11436                  NaN                     NaN                NaN   \n",
       "1    11213        146367.805288            28632.146155           0.195618   \n",
       "2    11212        215912.786687            40575.901547           0.187927   \n",
       "3    11225        114141.251961            26079.822125           0.228487   \n",
       "4    11218        208355.389994            24186.845000           0.116085   \n",
       "\n",
       "   NUM_DOCKS_AVAILABLE         TRIPS  NORMALIZED ACCIDENT COUNT  WHITE_POP %  \\\n",
       "0                  NaN   8192.653036                   0.378388     7.031032   \n",
       "1                  NaN    780.000000                  45.128205    28.880142   \n",
       "2                  NaN  87326.231788                   0.381329    11.172781   \n",
       "3                149.0   6879.000000                   4.564617    31.436415   \n",
       "4                 23.0   1186.000000                  28.667791    62.269343   \n",
       "\n",
       "   POPULATION  ACCIDENT COUNT  MEAN INCOME  \n",
       "0     17949.0            31.0      29271.0  \n",
       "1     63767.0           352.0      29216.0  \n",
       "2     84500.0           333.0      20958.0  \n",
       "3     56829.0           314.0      38992.0  \n",
       "4     75220.0           340.0      36189.0  "
      ]
     },
     "execution_count": 36,
     "metadata": {},
     "output_type": "execute_result"
    }
   ],
   "source": [
    "data.head()"
   ]
  },
  {
   "cell_type": "code",
   "execution_count": 37,
   "id": "8442a180",
   "metadata": {},
   "outputs": [
    {
     "data": {
      "text/plain": [
       "(248, 11)"
      ]
     },
     "execution_count": 37,
     "metadata": {},
     "output_type": "execute_result"
    }
   ],
   "source": [
    "data.shape"
   ]
  },
  {
   "cell_type": "code",
   "execution_count": 38,
   "id": "065c2065",
   "metadata": {},
   "outputs": [
    {
     "data": {
      "text/plain": [
       "(172, 4)"
      ]
     },
     "execution_count": 38,
     "metadata": {},
     "output_type": "execute_result"
    }
   ],
   "source": [
    "data1 = data[['ZIPCODE','BIKE LANE DENSITY','WHITE_POP %','MEAN INCOME','POPULATION']].dropna().set_index('ZIPCODE',drop=True)\n",
    "data1.columns = data1.columns.str.replace(' ', '_')\n",
    "data1.shape"
   ]
  },
  {
   "cell_type": "code",
   "execution_count": 39,
   "id": "52657539",
   "metadata": {},
   "outputs": [
    {
     "name": "stdout",
     "output_type": "stream",
     "text": [
      "<class 'pandas.core.frame.DataFrame'>\n",
      "Int64Index: 172 entries, 11213 to 10310\n",
      "Data columns (total 4 columns):\n",
      " #   Column             Non-Null Count  Dtype  \n",
      "---  ------             --------------  -----  \n",
      " 0   BIKE_LANE_DENSITY  172 non-null    float64\n",
      " 1   WHITE_POP_%        172 non-null    float64\n",
      " 2   MEAN_INCOME        172 non-null    float64\n",
      " 3   POPULATION         172 non-null    float64\n",
      "dtypes: float64(4)\n",
      "memory usage: 6.7 KB\n"
     ]
    }
   ],
   "source": [
    "data1.info()"
   ]
  },
  {
   "cell_type": "code",
   "execution_count": 40,
   "id": "c18504e7",
   "metadata": {},
   "outputs": [
    {
     "data": {
      "text/plain": [
       "(248, 11)"
      ]
     },
     "execution_count": 40,
     "metadata": {},
     "output_type": "execute_result"
    }
   ],
   "source": [
    "data.shape"
   ]
  },
  {
   "cell_type": "code",
   "execution_count": 41,
   "id": "fe0631a2",
   "metadata": {},
   "outputs": [
    {
     "data": {
      "text/html": [
       "<div>\n",
       "<style scoped>\n",
       "    .dataframe tbody tr th:only-of-type {\n",
       "        vertical-align: middle;\n",
       "    }\n",
       "\n",
       "    .dataframe tbody tr th {\n",
       "        vertical-align: top;\n",
       "    }\n",
       "\n",
       "    .dataframe thead th {\n",
       "        text-align: right;\n",
       "    }\n",
       "</style>\n",
       "<table border=\"1\" class=\"dataframe\">\n",
       "  <thead>\n",
       "    <tr style=\"text-align: right;\">\n",
       "      <th></th>\n",
       "      <th>BIKE_LANE_DENSITY</th>\n",
       "      <th>WHITE_POP_%</th>\n",
       "      <th>MEAN_INCOME</th>\n",
       "      <th>POPULATION</th>\n",
       "    </tr>\n",
       "    <tr>\n",
       "      <th>ZIPCODE</th>\n",
       "      <th></th>\n",
       "      <th></th>\n",
       "      <th></th>\n",
       "      <th></th>\n",
       "    </tr>\n",
       "  </thead>\n",
       "  <tbody>\n",
       "    <tr>\n",
       "      <th>11213</th>\n",
       "      <td>0.195618</td>\n",
       "      <td>28.880142</td>\n",
       "      <td>29216.0</td>\n",
       "      <td>63767.0</td>\n",
       "    </tr>\n",
       "    <tr>\n",
       "      <th>11212</th>\n",
       "      <td>0.187927</td>\n",
       "      <td>11.172781</td>\n",
       "      <td>20958.0</td>\n",
       "      <td>84500.0</td>\n",
       "    </tr>\n",
       "    <tr>\n",
       "      <th>11225</th>\n",
       "      <td>0.228487</td>\n",
       "      <td>31.436415</td>\n",
       "      <td>38992.0</td>\n",
       "      <td>56829.0</td>\n",
       "    </tr>\n",
       "    <tr>\n",
       "      <th>11218</th>\n",
       "      <td>0.116085</td>\n",
       "      <td>62.269343</td>\n",
       "      <td>36189.0</td>\n",
       "      <td>75220.0</td>\n",
       "    </tr>\n",
       "    <tr>\n",
       "      <th>11226</th>\n",
       "      <td>0.136211</td>\n",
       "      <td>16.696531</td>\n",
       "      <td>31064.0</td>\n",
       "      <td>101572.0</td>\n",
       "    </tr>\n",
       "  </tbody>\n",
       "</table>\n",
       "</div>"
      ],
      "text/plain": [
       "         BIKE_LANE_DENSITY  WHITE_POP_%  MEAN_INCOME  POPULATION\n",
       "ZIPCODE                                                         \n",
       "11213             0.195618    28.880142      29216.0     63767.0\n",
       "11212             0.187927    11.172781      20958.0     84500.0\n",
       "11225             0.228487    31.436415      38992.0     56829.0\n",
       "11218             0.116085    62.269343      36189.0     75220.0\n",
       "11226             0.136211    16.696531      31064.0    101572.0"
      ]
     },
     "execution_count": 41,
     "metadata": {},
     "output_type": "execute_result"
    }
   ],
   "source": [
    "data1.head()"
   ]
  },
  {
   "cell_type": "code",
   "execution_count": 42,
   "id": "856d8e43",
   "metadata": {},
   "outputs": [
    {
     "data": {
      "text/plain": [
       "(172, 4)"
      ]
     },
     "execution_count": 42,
     "metadata": {},
     "output_type": "execute_result"
    }
   ],
   "source": [
    "data1.shape"
   ]
  },
  {
   "cell_type": "code",
   "execution_count": 55,
   "id": "16479b6a",
   "metadata": {},
   "outputs": [
    {
     "data": {
      "text/plain": [
       "(146, 4)"
      ]
     },
     "execution_count": 55,
     "metadata": {},
     "output_type": "execute_result"
    }
   ],
   "source": [
    "data1=data1[(data1[\"MEAN_INCOME\"] < data1[\"MEAN_INCOME\"].quantile(.98)) & (data1[\"MEAN_INCOME\"] > data1[\"MEAN_INCOME\"].quantile(.02))]\n",
    "data1.shape"
   ]
  },
  {
   "cell_type": "code",
   "execution_count": 56,
   "id": "caa2966b",
   "metadata": {},
   "outputs": [
    {
     "name": "stderr",
     "output_type": "stream",
     "text": [
      "C:\\Users\\omhai\\AppData\\Local\\Temp\\ipykernel_29580\\2166695595.py:6: SettingWithCopyWarning: \n",
      "A value is trying to be set on a copy of a slice from a DataFrame.\n",
      "Try using .loc[row_indexer,col_indexer] = value instead\n",
      "\n",
      "See the caveats in the documentation: https://pandas.pydata.org/pandas-docs/stable/user_guide/indexing.html#returning-a-view-versus-a-copy\n",
      "  data1[cols]=scaler.fit_transform(data1[cols])\n"
     ]
    }
   ],
   "source": [
    "from sklearn.preprocessing import MinMaxScaler\n",
    "\n",
    "scaler=MinMaxScaler()\n",
    "\n",
    "cols=data1.columns\n",
    "data1[cols]=scaler.fit_transform(data1[cols])"
   ]
  },
  {
   "cell_type": "code",
   "execution_count": 57,
   "id": "5c77ff49",
   "metadata": {},
   "outputs": [
    {
     "data": {
      "text/html": [
       "<div>\n",
       "<style scoped>\n",
       "    .dataframe tbody tr th:only-of-type {\n",
       "        vertical-align: middle;\n",
       "    }\n",
       "\n",
       "    .dataframe tbody tr th {\n",
       "        vertical-align: top;\n",
       "    }\n",
       "\n",
       "    .dataframe thead th {\n",
       "        text-align: right;\n",
       "    }\n",
       "</style>\n",
       "<table border=\"1\" class=\"dataframe\">\n",
       "  <thead>\n",
       "    <tr style=\"text-align: right;\">\n",
       "      <th></th>\n",
       "      <th>BIKE_LANE_DENSITY</th>\n",
       "      <th>WHITE_POP</th>\n",
       "      <th>MEAN_INCOME</th>\n",
       "      <th>POPULATION</th>\n",
       "    </tr>\n",
       "    <tr>\n",
       "      <th>ZIPCODE</th>\n",
       "      <th></th>\n",
       "      <th></th>\n",
       "      <th></th>\n",
       "      <th></th>\n",
       "    </tr>\n",
       "  </thead>\n",
       "  <tbody>\n",
       "    <tr>\n",
       "      <th>11213</th>\n",
       "      <td>0.375366</td>\n",
       "      <td>0.243643</td>\n",
       "      <td>0.095781</td>\n",
       "      <td>0.566160</td>\n",
       "    </tr>\n",
       "    <tr>\n",
       "      <th>11212</th>\n",
       "      <td>0.360590</td>\n",
       "      <td>0.074801</td>\n",
       "      <td>0.019026</td>\n",
       "      <td>0.761005</td>\n",
       "    </tr>\n",
       "    <tr>\n",
       "      <th>11225</th>\n",
       "      <td>0.438516</td>\n",
       "      <td>0.268017</td>\n",
       "      <td>0.186645</td>\n",
       "      <td>0.500959</td>\n",
       "    </tr>\n",
       "    <tr>\n",
       "      <th>11218</th>\n",
       "      <td>0.222562</td>\n",
       "      <td>0.562014</td>\n",
       "      <td>0.160593</td>\n",
       "      <td>0.673793</td>\n",
       "    </tr>\n",
       "    <tr>\n",
       "      <th>11226</th>\n",
       "      <td>0.261230</td>\n",
       "      <td>0.127471</td>\n",
       "      <td>0.112958</td>\n",
       "      <td>0.921444</td>\n",
       "    </tr>\n",
       "  </tbody>\n",
       "</table>\n",
       "</div>"
      ],
      "text/plain": [
       "         BIKE_LANE_DENSITY  WHITE_POP  MEAN_INCOME  POPULATION\n",
       "ZIPCODE                                                       \n",
       "11213             0.375366   0.243643     0.095781    0.566160\n",
       "11212             0.360590   0.074801     0.019026    0.761005\n",
       "11225             0.438516   0.268017     0.186645    0.500959\n",
       "11218             0.222562   0.562014     0.160593    0.673793\n",
       "11226             0.261230   0.127471     0.112958    0.921444"
      ]
     },
     "execution_count": 57,
     "metadata": {},
     "output_type": "execute_result"
    }
   ],
   "source": [
    "data1.head()"
   ]
  },
  {
   "cell_type": "code",
   "execution_count": 58,
   "id": "97bd3e40",
   "metadata": {},
   "outputs": [
    {
     "name": "stdout",
     "output_type": "stream",
     "text": [
      "<class 'pandas.core.frame.DataFrame'>\n",
      "Int64Index: 146 entries, 11213 to 10310\n",
      "Data columns (total 4 columns):\n",
      " #   Column             Non-Null Count  Dtype  \n",
      "---  ------             --------------  -----  \n",
      " 0   BIKE_LANE_DENSITY  146 non-null    float64\n",
      " 1   WHITE_POP          146 non-null    float64\n",
      " 2   MEAN_INCOME        146 non-null    float64\n",
      " 3   POPULATION         146 non-null    float64\n",
      "dtypes: float64(4)\n",
      "memory usage: 5.7 KB\n"
     ]
    }
   ],
   "source": [
    "data1.info()"
   ]
  },
  {
   "cell_type": "code",
   "execution_count": 59,
   "id": "055b38ba",
   "metadata": {},
   "outputs": [],
   "source": [
    "import seaborn as sns"
   ]
  },
  {
   "cell_type": "code",
   "execution_count": 60,
   "id": "cc647240",
   "metadata": {},
   "outputs": [
    {
     "data": {
      "text/html": [
       "<div>\n",
       "<style scoped>\n",
       "    .dataframe tbody tr th:only-of-type {\n",
       "        vertical-align: middle;\n",
       "    }\n",
       "\n",
       "    .dataframe tbody tr th {\n",
       "        vertical-align: top;\n",
       "    }\n",
       "\n",
       "    .dataframe thead th {\n",
       "        text-align: right;\n",
       "    }\n",
       "</style>\n",
       "<table border=\"1\" class=\"dataframe\">\n",
       "  <thead>\n",
       "    <tr style=\"text-align: right;\">\n",
       "      <th></th>\n",
       "      <th>BIKE_LANE_DENSITY</th>\n",
       "      <th>WHITE_POP</th>\n",
       "      <th>MEAN_INCOME</th>\n",
       "      <th>POPULATION</th>\n",
       "    </tr>\n",
       "    <tr>\n",
       "      <th>ZIPCODE</th>\n",
       "      <th></th>\n",
       "      <th></th>\n",
       "      <th></th>\n",
       "      <th></th>\n",
       "    </tr>\n",
       "  </thead>\n",
       "  <tbody>\n",
       "    <tr>\n",
       "      <th>11213</th>\n",
       "      <td>0.375366</td>\n",
       "      <td>0.243643</td>\n",
       "      <td>0.095781</td>\n",
       "      <td>0.566160</td>\n",
       "    </tr>\n",
       "    <tr>\n",
       "      <th>11212</th>\n",
       "      <td>0.360590</td>\n",
       "      <td>0.074801</td>\n",
       "      <td>0.019026</td>\n",
       "      <td>0.761005</td>\n",
       "    </tr>\n",
       "    <tr>\n",
       "      <th>11225</th>\n",
       "      <td>0.438516</td>\n",
       "      <td>0.268017</td>\n",
       "      <td>0.186645</td>\n",
       "      <td>0.500959</td>\n",
       "    </tr>\n",
       "    <tr>\n",
       "      <th>11218</th>\n",
       "      <td>0.222562</td>\n",
       "      <td>0.562014</td>\n",
       "      <td>0.160593</td>\n",
       "      <td>0.673793</td>\n",
       "    </tr>\n",
       "    <tr>\n",
       "      <th>11226</th>\n",
       "      <td>0.261230</td>\n",
       "      <td>0.127471</td>\n",
       "      <td>0.112958</td>\n",
       "      <td>0.921444</td>\n",
       "    </tr>\n",
       "  </tbody>\n",
       "</table>\n",
       "</div>"
      ],
      "text/plain": [
       "         BIKE_LANE_DENSITY  WHITE_POP  MEAN_INCOME  POPULATION\n",
       "ZIPCODE                                                       \n",
       "11213             0.375366   0.243643     0.095781    0.566160\n",
       "11212             0.360590   0.074801     0.019026    0.761005\n",
       "11225             0.438516   0.268017     0.186645    0.500959\n",
       "11218             0.222562   0.562014     0.160593    0.673793\n",
       "11226             0.261230   0.127471     0.112958    0.921444"
      ]
     },
     "execution_count": 60,
     "metadata": {},
     "output_type": "execute_result"
    }
   ],
   "source": [
    "data1.head()"
   ]
  },
  {
   "cell_type": "code",
   "execution_count": 61,
   "id": "6285f4b9",
   "metadata": {},
   "outputs": [
    {
     "name": "stderr",
     "output_type": "stream",
     "text": [
      "C:\\Users\\omhai\\anaconda3\\envs\\geo_env\\lib\\site-packages\\seaborn\\categorical.py:470: FutureWarning: iteritems is deprecated and will be removed in a future version. Use .items instead.\n",
      "  plot_data = [np.asarray(s, float) for k, s in iter_data]\n"
     ]
    },
    {
     "data": {
      "text/plain": [
       "<AxesSubplot: >"
      ]
     },
     "execution_count": 61,
     "metadata": {},
     "output_type": "execute_result"
    },
    {
     "data": {
      "image/png": "[encoded data removed]",
      "text/plain": [
       "<Figure size 640x480 with 1 Axes>"
      ]
     },
     "metadata": {},
     "output_type": "display_data"
    }
   ],
   "source": [
    "sns.boxplot(data=data1)"
   ]
  },
  {
   "cell_type": "markdown",
   "id": "47ca414c",
   "metadata": {},
   "source": [
    "base = 10\n",
    "\n",
    "data1['Log_WHITE_POP %'] = np.log(np.array(data1['WHITE_POP %'])+1e-)/np.log(base)\n",
    "data1['Log_BIKE_LANE_DENSITY'] = np.log(np.array(data1['BIKE_LANE_DENSITY'])+1e-9)/np.log(base)\n",
    "\n",
    "\n",
    "\n",
    "root = 2\n",
    "#data1['Root_NORMALIZED_ACCIDENT_COUNT'] = np.power((np.array(data1['NORMALIZED_ACCIDENT_COUNT'])),1/root)\n",
    "data1['Root_BIKE_LANE_DENSITY'] = np.power((np.array(data1['BIKE_LANE_DENSITY'])),1/root)\n",
    "\n",
    "#data1['LR_NORMALIZED_ACCIDENT_COUNT'] = np.log(np.array(data1['Root_NORMALIZED_ACCIDENT_COUNT'])+1e-1)/np.log(base)\n",
    "data1['LR_BIKE_LANE_DENSITY'] = np.log(np.array(data1['Root_BIKE_LANE_DENSITY'])+1e-9)/np.log(base)"
   ]
  },
  {
   "cell_type": "code",
   "execution_count": 62,
   "id": "fe13a1ec",
   "metadata": {},
   "outputs": [
    {
     "data": {
      "text/html": [
       "<div>\n",
       "<style scoped>\n",
       "    .dataframe tbody tr th:only-of-type {\n",
       "        vertical-align: middle;\n",
       "    }\n",
       "\n",
       "    .dataframe tbody tr th {\n",
       "        vertical-align: top;\n",
       "    }\n",
       "\n",
       "    .dataframe thead th {\n",
       "        text-align: right;\n",
       "    }\n",
       "</style>\n",
       "<table border=\"1\" class=\"dataframe\">\n",
       "  <thead>\n",
       "    <tr style=\"text-align: right;\">\n",
       "      <th></th>\n",
       "      <th>BIKE_LANE_DENSITY</th>\n",
       "      <th>WHITE_POP</th>\n",
       "      <th>MEAN_INCOME</th>\n",
       "      <th>POPULATION</th>\n",
       "    </tr>\n",
       "    <tr>\n",
       "      <th>ZIPCODE</th>\n",
       "      <th></th>\n",
       "      <th></th>\n",
       "      <th></th>\n",
       "      <th></th>\n",
       "    </tr>\n",
       "  </thead>\n",
       "  <tbody>\n",
       "    <tr>\n",
       "      <th>11213</th>\n",
       "      <td>0.375366</td>\n",
       "      <td>0.243643</td>\n",
       "      <td>0.095781</td>\n",
       "      <td>0.566160</td>\n",
       "    </tr>\n",
       "    <tr>\n",
       "      <th>11212</th>\n",
       "      <td>0.360590</td>\n",
       "      <td>0.074801</td>\n",
       "      <td>0.019026</td>\n",
       "      <td>0.761005</td>\n",
       "    </tr>\n",
       "    <tr>\n",
       "      <th>11225</th>\n",
       "      <td>0.438516</td>\n",
       "      <td>0.268017</td>\n",
       "      <td>0.186645</td>\n",
       "      <td>0.500959</td>\n",
       "    </tr>\n",
       "    <tr>\n",
       "      <th>11218</th>\n",
       "      <td>0.222562</td>\n",
       "      <td>0.562014</td>\n",
       "      <td>0.160593</td>\n",
       "      <td>0.673793</td>\n",
       "    </tr>\n",
       "    <tr>\n",
       "      <th>11226</th>\n",
       "      <td>0.261230</td>\n",
       "      <td>0.127471</td>\n",
       "      <td>0.112958</td>\n",
       "      <td>0.921444</td>\n",
       "    </tr>\n",
       "  </tbody>\n",
       "</table>\n",
       "</div>"
      ],
      "text/plain": [
       "         BIKE_LANE_DENSITY  WHITE_POP  MEAN_INCOME  POPULATION\n",
       "ZIPCODE                                                       \n",
       "11213             0.375366   0.243643     0.095781    0.566160\n",
       "11212             0.360590   0.074801     0.019026    0.761005\n",
       "11225             0.438516   0.268017     0.186645    0.500959\n",
       "11218             0.222562   0.562014     0.160593    0.673793\n",
       "11226             0.261230   0.127471     0.112958    0.921444"
      ]
     },
     "execution_count": 62,
     "metadata": {},
     "output_type": "execute_result"
    }
   ],
   "source": [
    "data1.head()"
   ]
  },
  {
   "cell_type": "code",
   "execution_count": 63,
   "id": "e867b725",
   "metadata": {},
   "outputs": [
    {
     "data": {
      "text/html": [
       "<div>\n",
       "<style scoped>\n",
       "    .dataframe tbody tr th:only-of-type {\n",
       "        vertical-align: middle;\n",
       "    }\n",
       "\n",
       "    .dataframe tbody tr th {\n",
       "        vertical-align: top;\n",
       "    }\n",
       "\n",
       "    .dataframe thead th {\n",
       "        text-align: right;\n",
       "    }\n",
       "</style>\n",
       "<table border=\"1\" class=\"dataframe\">\n",
       "  <thead>\n",
       "    <tr style=\"text-align: right;\">\n",
       "      <th></th>\n",
       "      <th>BIKE_LANE_DENSITY</th>\n",
       "      <th>WHITE_POP</th>\n",
       "      <th>MEAN_INCOME</th>\n",
       "      <th>POPULATION</th>\n",
       "    </tr>\n",
       "  </thead>\n",
       "  <tbody>\n",
       "    <tr>\n",
       "      <th>count</th>\n",
       "      <td>146.000000</td>\n",
       "      <td>146.000000</td>\n",
       "      <td>146.000000</td>\n",
       "      <td>146.000000</td>\n",
       "    </tr>\n",
       "    <tr>\n",
       "      <th>mean</th>\n",
       "      <td>0.309622</td>\n",
       "      <td>0.461150</td>\n",
       "      <td>0.260650</td>\n",
       "      <td>0.413549</td>\n",
       "    </tr>\n",
       "    <tr>\n",
       "      <th>std</th>\n",
       "      <td>0.238893</td>\n",
       "      <td>0.246929</td>\n",
       "      <td>0.257787</td>\n",
       "      <td>0.242908</td>\n",
       "    </tr>\n",
       "    <tr>\n",
       "      <th>min</th>\n",
       "      <td>0.000000</td>\n",
       "      <td>0.000000</td>\n",
       "      <td>0.000000</td>\n",
       "      <td>0.000000</td>\n",
       "    </tr>\n",
       "    <tr>\n",
       "      <th>25%</th>\n",
       "      <td>0.124397</td>\n",
       "      <td>0.262322</td>\n",
       "      <td>0.096371</td>\n",
       "      <td>0.215957</td>\n",
       "    </tr>\n",
       "    <tr>\n",
       "      <th>50%</th>\n",
       "      <td>0.253476</td>\n",
       "      <td>0.471669</td>\n",
       "      <td>0.159533</td>\n",
       "      <td>0.363864</td>\n",
       "    </tr>\n",
       "    <tr>\n",
       "      <th>75%</th>\n",
       "      <td>0.442245</td>\n",
       "      <td>0.667345</td>\n",
       "      <td>0.286928</td>\n",
       "      <td>0.565505</td>\n",
       "    </tr>\n",
       "    <tr>\n",
       "      <th>max</th>\n",
       "      <td>1.000000</td>\n",
       "      <td>1.000000</td>\n",
       "      <td>1.000000</td>\n",
       "      <td>1.000000</td>\n",
       "    </tr>\n",
       "  </tbody>\n",
       "</table>\n",
       "</div>"
      ],
      "text/plain": [
       "       BIKE_LANE_DENSITY   WHITE_POP  MEAN_INCOME  POPULATION\n",
       "count         146.000000  146.000000   146.000000  146.000000\n",
       "mean            0.309622    0.461150     0.260650    0.413549\n",
       "std             0.238893    0.246929     0.257787    0.242908\n",
       "min             0.000000    0.000000     0.000000    0.000000\n",
       "25%             0.124397    0.262322     0.096371    0.215957\n",
       "50%             0.253476    0.471669     0.159533    0.363864\n",
       "75%             0.442245    0.667345     0.286928    0.565505\n",
       "max             1.000000    1.000000     1.000000    1.000000"
      ]
     },
     "execution_count": 63,
     "metadata": {},
     "output_type": "execute_result"
    }
   ],
   "source": [
    "data1.describe()"
   ]
  },
  {
   "cell_type": "code",
   "execution_count": 64,
   "id": "5ae570bf",
   "metadata": {
    "scrolled": true
   },
   "outputs": [
    {
     "data": {
      "text/plain": [
       "(146, 4)"
      ]
     },
     "execution_count": 64,
     "metadata": {},
     "output_type": "execute_result"
    }
   ],
   "source": [
    "data1.shape"
   ]
  },
  {
   "cell_type": "code",
   "execution_count": 65,
   "id": "d6679bf9",
   "metadata": {},
   "outputs": [],
   "source": [
    "data1.columns=[\"BIKE_LANE_DENSITY\",\"WHITE_POP\",\"MEAN_INCOME\",\"POPULATION\"]"
   ]
  },
  {
   "cell_type": "code",
   "execution_count": 66,
   "id": "9b712174",
   "metadata": {},
   "outputs": [
    {
     "data": {
      "text/html": [
       "<table class=\"simpletable\">\n",
       "<caption>OLS Regression Results</caption>\n",
       "<tr>\n",
       "  <th>Dep. Variable:</th>    <td>BIKE_LANE_DENSITY</td> <th>  R-squared:         </th> <td>   0.272</td>\n",
       "</tr>\n",
       "<tr>\n",
       "  <th>Model:</th>                   <td>OLS</td>        <th>  Adj. R-squared:    </th> <td>   0.257</td>\n",
       "</tr>\n",
       "<tr>\n",
       "  <th>Method:</th>             <td>Least Squares</td>   <th>  F-statistic:       </th> <td>   17.69</td>\n",
       "</tr>\n",
       "<tr>\n",
       "  <th>Date:</th>             <td>Fri, 09 Dec 2022</td>  <th>  Prob (F-statistic):</th> <td>8.22e-10</td>\n",
       "</tr>\n",
       "<tr>\n",
       "  <th>Time:</th>                 <td>22:40:17</td>      <th>  Log-Likelihood:    </th> <td>  25.549</td>\n",
       "</tr>\n",
       "<tr>\n",
       "  <th>No. Observations:</th>      <td>   146</td>       <th>  AIC:               </th> <td>  -43.10</td>\n",
       "</tr>\n",
       "<tr>\n",
       "  <th>Df Residuals:</th>          <td>   142</td>       <th>  BIC:               </th> <td>  -31.16</td>\n",
       "</tr>\n",
       "<tr>\n",
       "  <th>Df Model:</th>              <td>     3</td>       <th>                     </th>     <td> </td>   \n",
       "</tr>\n",
       "<tr>\n",
       "  <th>Covariance Type:</th>      <td>nonrobust</td>     <th>                     </th>     <td> </td>   \n",
       "</tr>\n",
       "</table>\n",
       "<table class=\"simpletable\">\n",
       "<tr>\n",
       "       <td></td>          <th>coef</th>     <th>std err</th>      <th>t</th>      <th>P>|t|</th>  <th>[0.025</th>    <th>0.975]</th>  \n",
       "</tr>\n",
       "<tr>\n",
       "  <th>Intercept</th>   <td>    0.1522</td> <td>    0.053</td> <td>    2.871</td> <td> 0.005</td> <td>    0.047</td> <td>    0.257</td>\n",
       "</tr>\n",
       "<tr>\n",
       "  <th>WHITE_POP</th>   <td>   -0.0544</td> <td>    0.088</td> <td>   -0.618</td> <td> 0.537</td> <td>   -0.228</td> <td>    0.120</td>\n",
       "</tr>\n",
       "<tr>\n",
       "  <th>MEAN_INCOME</th> <td>    0.5366</td> <td>    0.087</td> <td>    6.200</td> <td> 0.000</td> <td>    0.365</td> <td>    0.708</td>\n",
       "</tr>\n",
       "<tr>\n",
       "  <th>POPULATION</th>  <td>    0.1031</td> <td>    0.075</td> <td>    1.379</td> <td> 0.170</td> <td>   -0.045</td> <td>    0.251</td>\n",
       "</tr>\n",
       "</table>\n",
       "<table class=\"simpletable\">\n",
       "<tr>\n",
       "  <th>Omnibus:</th>       <td>24.454</td> <th>  Durbin-Watson:     </th> <td>   1.959</td>\n",
       "</tr>\n",
       "<tr>\n",
       "  <th>Prob(Omnibus):</th> <td> 0.000</td> <th>  Jarque-Bera (JB):  </th> <td>  33.323</td>\n",
       "</tr>\n",
       "<tr>\n",
       "  <th>Skew:</th>          <td> 0.932</td> <th>  Prob(JB):          </th> <td>5.81e-08</td>\n",
       "</tr>\n",
       "<tr>\n",
       "  <th>Kurtosis:</th>      <td> 4.415</td> <th>  Cond. No.          </th> <td>    7.89</td>\n",
       "</tr>\n",
       "</table><br/><br/>Notes:<br/>[1] Standard Errors assume that the covariance matrix of the errors is correctly specified."
      ],
      "text/plain": [
       "<class 'statsmodels.iolib.summary.Summary'>\n",
       "\"\"\"\n",
       "                            OLS Regression Results                            \n",
       "==============================================================================\n",
       "Dep. Variable:      BIKE_LANE_DENSITY   R-squared:                       0.272\n",
       "Model:                            OLS   Adj. R-squared:                  0.257\n",
       "Method:                 Least Squares   F-statistic:                     17.69\n",
       "Date:                Fri, 09 Dec 2022   Prob (F-statistic):           8.22e-10\n",
       "Time:                        22:40:17   Log-Likelihood:                 25.549\n",
       "No. Observations:                 146   AIC:                            -43.10\n",
       "Df Residuals:                     142   BIC:                            -31.16\n",
       "Df Model:                           3                                         \n",
       "Covariance Type:            nonrobust                                         \n",
       "===============================================================================\n",
       "                  coef    std err          t      P>|t|      [0.025      0.975]\n",
       "-------------------------------------------------------------------------------\n",
       "Intercept       0.1522      0.053      2.871      0.005       0.047       0.257\n",
       "WHITE_POP      -0.0544      0.088     -0.618      0.537      -0.228       0.120\n",
       "MEAN_INCOME     0.5366      0.087      6.200      0.000       0.365       0.708\n",
       "POPULATION      0.1031      0.075      1.379      0.170      -0.045       0.251\n",
       "==============================================================================\n",
       "Omnibus:                       24.454   Durbin-Watson:                   1.959\n",
       "Prob(Omnibus):                  0.000   Jarque-Bera (JB):               33.323\n",
       "Skew:                           0.932   Prob(JB):                     5.81e-08\n",
       "Kurtosis:                       4.415   Cond. No.                         7.89\n",
       "==============================================================================\n",
       "\n",
       "Notes:\n",
       "[1] Standard Errors assume that the covariance matrix of the errors is correctly specified.\n",
       "\"\"\""
      ]
     },
     "execution_count": 66,
     "metadata": {},
     "output_type": "execute_result"
    }
   ],
   "source": [
    "lm = smf.ols(formula='BIKE_LANE_DENSITY ~ WHITE_POP + MEAN_INCOME + POPULATION',data=data1).fit()\n",
    "lm.summary()"
   ]
  },
  {
   "cell_type": "markdown",
   "id": "4552c401",
   "metadata": {},
   "source": [
    "<b>The p-value is population and white population >0.05 and R-square value is very low."
   ]
  },
  {
   "cell_type": "markdown",
   "id": "a1491f23",
   "metadata": {},
   "source": [
    "#### Transformations"
   ]
  },
  {
   "cell_type": "markdown",
   "id": "381a8321",
   "metadata": {},
   "source": [
    "**a) Log to the base 10 transformation**"
   ]
  },
  {
   "cell_type": "code",
   "execution_count": 116,
   "id": "f783a115",
   "metadata": {},
   "outputs": [],
   "source": [
    "base = 10\n",
    "\n",
    "data1['Log_POPULATION'] = np.log(np.array(data1['POPULATION'])+1e-2)/np.log(base)\n",
    "data1['Log_BIKE_LANE_DENSITY'] = np.log(np.array(data1['BIKE_LANE_DENSITY'])+1e-2)/np.log(base)\n",
    "data1['Log_MEAN_INCOME'] = np.log(np.array(data1['MEAN_INCOME'])+1e-2)/np.log(base)\n",
    "data1['Log_WHITE_POP'] = np.log(np.array(data1['WHITE_POP'])+1e-2)/np.log(base)"
   ]
  },
  {
   "cell_type": "code",
   "execution_count": 117,
   "id": "32b5242f",
   "metadata": {},
   "outputs": [
    {
     "data": {
      "text/html": [
       "<table class=\"simpletable\">\n",
       "<caption>OLS Regression Results</caption>\n",
       "<tr>\n",
       "  <th>Dep. Variable:</th>    <td>Log_BIKE_LANE_DENSITY</td> <th>  R-squared:         </th> <td>   0.187</td>\n",
       "</tr>\n",
       "<tr>\n",
       "  <th>Model:</th>                     <td>OLS</td>          <th>  Adj. R-squared:    </th> <td>   0.170</td>\n",
       "</tr>\n",
       "<tr>\n",
       "  <th>Method:</th>               <td>Least Squares</td>     <th>  F-statistic:       </th> <td>   10.87</td>\n",
       "</tr>\n",
       "<tr>\n",
       "  <th>Date:</th>               <td>Fri, 09 Dec 2022</td>    <th>  Prob (F-statistic):</th> <td>1.80e-06</td>\n",
       "</tr>\n",
       "<tr>\n",
       "  <th>Time:</th>                   <td>23:33:11</td>        <th>  Log-Likelihood:    </th> <td> -69.205</td>\n",
       "</tr>\n",
       "<tr>\n",
       "  <th>No. Observations:</th>        <td>   146</td>         <th>  AIC:               </th> <td>   146.4</td>\n",
       "</tr>\n",
       "<tr>\n",
       "  <th>Df Residuals:</th>            <td>   142</td>         <th>  BIC:               </th> <td>   158.3</td>\n",
       "</tr>\n",
       "<tr>\n",
       "  <th>Df Model:</th>                <td>     3</td>         <th>                     </th>     <td> </td>   \n",
       "</tr>\n",
       "<tr>\n",
       "  <th>Covariance Type:</th>        <td>nonrobust</td>       <th>                     </th>     <td> </td>   \n",
       "</tr>\n",
       "</table>\n",
       "<table class=\"simpletable\">\n",
       "<tr>\n",
       "         <td></td>            <th>coef</th>     <th>std err</th>      <th>t</th>      <th>P>|t|</th>  <th>[0.025</th>    <th>0.975]</th>  \n",
       "</tr>\n",
       "<tr>\n",
       "  <th>Intercept</th>       <td>   -0.1870</td> <td>    0.105</td> <td>   -1.779</td> <td> 0.077</td> <td>   -0.395</td> <td>    0.021</td>\n",
       "</tr>\n",
       "<tr>\n",
       "  <th>Log_WHITE_POP</th>   <td>    0.3330</td> <td>    0.111</td> <td>    3.006</td> <td> 0.003</td> <td>    0.114</td> <td>    0.552</td>\n",
       "</tr>\n",
       "<tr>\n",
       "  <th>Log_MEAN_INCOME</th> <td>    0.2896</td> <td>    0.109</td> <td>    2.666</td> <td> 0.009</td> <td>    0.075</td> <td>    0.504</td>\n",
       "</tr>\n",
       "<tr>\n",
       "  <th>Log_POPULATION</th>  <td>    0.2400</td> <td>    0.101</td> <td>    2.365</td> <td> 0.019</td> <td>    0.039</td> <td>    0.441</td>\n",
       "</tr>\n",
       "</table>\n",
       "<table class=\"simpletable\">\n",
       "<tr>\n",
       "  <th>Omnibus:</th>       <td>20.521</td> <th>  Durbin-Watson:     </th> <td>   1.727</td>\n",
       "</tr>\n",
       "<tr>\n",
       "  <th>Prob(Omnibus):</th> <td> 0.000</td> <th>  Jarque-Bera (JB):  </th> <td>  25.354</td>\n",
       "</tr>\n",
       "<tr>\n",
       "  <th>Skew:</th>          <td>-0.860</td> <th>  Prob(JB):          </th> <td>3.12e-06</td>\n",
       "</tr>\n",
       "<tr>\n",
       "  <th>Kurtosis:</th>      <td> 4.100</td> <th>  Cond. No.          </th> <td>    6.94</td>\n",
       "</tr>\n",
       "</table><br/><br/>Notes:<br/>[1] Standard Errors assume that the covariance matrix of the errors is correctly specified."
      ],
      "text/plain": [
       "<class 'statsmodels.iolib.summary.Summary'>\n",
       "\"\"\"\n",
       "                              OLS Regression Results                             \n",
       "=================================================================================\n",
       "Dep. Variable:     Log_BIKE_LANE_DENSITY   R-squared:                       0.187\n",
       "Model:                               OLS   Adj. R-squared:                  0.170\n",
       "Method:                    Least Squares   F-statistic:                     10.87\n",
       "Date:                   Fri, 09 Dec 2022   Prob (F-statistic):           1.80e-06\n",
       "Time:                           23:33:11   Log-Likelihood:                -69.205\n",
       "No. Observations:                    146   AIC:                             146.4\n",
       "Df Residuals:                        142   BIC:                             158.3\n",
       "Df Model:                              3                                         \n",
       "Covariance Type:               nonrobust                                         \n",
       "===================================================================================\n",
       "                      coef    std err          t      P>|t|      [0.025      0.975]\n",
       "-----------------------------------------------------------------------------------\n",
       "Intercept          -0.1870      0.105     -1.779      0.077      -0.395       0.021\n",
       "Log_WHITE_POP       0.3330      0.111      3.006      0.003       0.114       0.552\n",
       "Log_MEAN_INCOME     0.2896      0.109      2.666      0.009       0.075       0.504\n",
       "Log_POPULATION      0.2400      0.101      2.365      0.019       0.039       0.441\n",
       "==============================================================================\n",
       "Omnibus:                       20.521   Durbin-Watson:                   1.727\n",
       "Prob(Omnibus):                  0.000   Jarque-Bera (JB):               25.354\n",
       "Skew:                          -0.860   Prob(JB):                     3.12e-06\n",
       "Kurtosis:                       4.100   Cond. No.                         6.94\n",
       "==============================================================================\n",
       "\n",
       "Notes:\n",
       "[1] Standard Errors assume that the covariance matrix of the errors is correctly specified.\n",
       "\"\"\""
      ]
     },
     "execution_count": 117,
     "metadata": {},
     "output_type": "execute_result"
    }
   ],
   "source": [
    "lm = smf.ols(formula='Log_BIKE_LANE_DENSITY ~ Log_WHITE_POP + Log_MEAN_INCOME + Log_POPULATION',data=data1).fit()\n",
    "lm.summary()"
   ]
  },
  {
   "cell_type": "markdown",
   "id": "5ecdb553",
   "metadata": {},
   "source": [
    "Let us plot and see the result"
   ]
  },
  {
   "cell_type": "markdown",
   "id": "477e46c8",
   "metadata": {},
   "source": [
    "**b) Root - 2**"
   ]
  },
  {
   "cell_type": "code",
   "execution_count": 118,
   "id": "d984f3b0",
   "metadata": {},
   "outputs": [],
   "source": [
    "root = 2\n",
    "data1['Root_WHITE_POP'] = np.power((np.array(data1['WHITE_POP'])),1/root)\n",
    "data1['Root_BIKE_LANE_DENSITY'] = np.power((np.array(data1['BIKE_LANE_DENSITY'])),1/root)\n",
    "data1['Root_MEAN_INCOME'] = np.power((np.array(data1['MEAN_INCOME'])),1/root)\n",
    "data1['Root_POPULATION'] = np.power((np.array(data1['POPULATION'])),1/root)"
   ]
  },
  {
   "cell_type": "code",
   "execution_count": 119,
   "id": "e3659442",
   "metadata": {},
   "outputs": [
    {
     "data": {
      "text/html": [
       "<table class=\"simpletable\">\n",
       "<caption>OLS Regression Results</caption>\n",
       "<tr>\n",
       "  <th>Dep. Variable:</th>    <td>Root_BIKE_LANE_DENSITY</td> <th>  R-squared:         </th> <td>   0.235</td>\n",
       "</tr>\n",
       "<tr>\n",
       "  <th>Model:</th>                      <td>OLS</td>          <th>  Adj. R-squared:    </th> <td>   0.219</td>\n",
       "</tr>\n",
       "<tr>\n",
       "  <th>Method:</th>                <td>Least Squares</td>     <th>  F-statistic:       </th> <td>   14.56</td>\n",
       "</tr>\n",
       "<tr>\n",
       "  <th>Date:</th>                <td>Fri, 09 Dec 2022</td>    <th>  Prob (F-statistic):</th> <td>2.54e-08</td>\n",
       "</tr>\n",
       "<tr>\n",
       "  <th>Time:</th>                    <td>23:33:11</td>        <th>  Log-Likelihood:    </th> <td>  30.519</td>\n",
       "</tr>\n",
       "<tr>\n",
       "  <th>No. Observations:</th>         <td>   146</td>         <th>  AIC:               </th> <td>  -53.04</td>\n",
       "</tr>\n",
       "<tr>\n",
       "  <th>Df Residuals:</th>             <td>   142</td>         <th>  BIC:               </th> <td>  -41.10</td>\n",
       "</tr>\n",
       "<tr>\n",
       "  <th>Df Model:</th>                 <td>     3</td>         <th>                     </th>     <td> </td>   \n",
       "</tr>\n",
       "<tr>\n",
       "  <th>Covariance Type:</th>         <td>nonrobust</td>       <th>                     </th>     <td> </td>   \n",
       "</tr>\n",
       "</table>\n",
       "<table class=\"simpletable\">\n",
       "<tr>\n",
       "          <td></td>            <th>coef</th>     <th>std err</th>      <th>t</th>      <th>P>|t|</th>  <th>[0.025</th>    <th>0.975]</th>  \n",
       "</tr>\n",
       "<tr>\n",
       "  <th>Intercept</th>        <td>    0.0964</td> <td>    0.087</td> <td>    1.109</td> <td> 0.269</td> <td>   -0.075</td> <td>    0.268</td>\n",
       "</tr>\n",
       "<tr>\n",
       "  <th>Root_WHITE_POP</th>   <td>    0.0866</td> <td>    0.100</td> <td>    0.863</td> <td> 0.390</td> <td>   -0.112</td> <td>    0.285</td>\n",
       "</tr>\n",
       "<tr>\n",
       "  <th>Root_MEAN_INCOME</th> <td>    0.4826</td> <td>    0.100</td> <td>    4.825</td> <td> 0.000</td> <td>    0.285</td> <td>    0.680</td>\n",
       "</tr>\n",
       "<tr>\n",
       "  <th>Root_POPULATION</th>  <td>    0.2216</td> <td>    0.087</td> <td>    2.540</td> <td> 0.012</td> <td>    0.049</td> <td>    0.394</td>\n",
       "</tr>\n",
       "</table>\n",
       "<table class=\"simpletable\">\n",
       "<tr>\n",
       "  <th>Omnibus:</th>       <td> 1.563</td> <th>  Durbin-Watson:     </th> <td>   1.859</td>\n",
       "</tr>\n",
       "<tr>\n",
       "  <th>Prob(Omnibus):</th> <td> 0.458</td> <th>  Jarque-Bera (JB):  </th> <td>   1.156</td>\n",
       "</tr>\n",
       "<tr>\n",
       "  <th>Skew:</th>          <td> 0.191</td> <th>  Prob(JB):          </th> <td>   0.561</td>\n",
       "</tr>\n",
       "<tr>\n",
       "  <th>Kurtosis:</th>      <td> 3.211</td> <th>  Cond. No.          </th> <td>    11.1</td>\n",
       "</tr>\n",
       "</table><br/><br/>Notes:<br/>[1] Standard Errors assume that the covariance matrix of the errors is correctly specified."
      ],
      "text/plain": [
       "<class 'statsmodels.iolib.summary.Summary'>\n",
       "\"\"\"\n",
       "                              OLS Regression Results                              \n",
       "==================================================================================\n",
       "Dep. Variable:     Root_BIKE_LANE_DENSITY   R-squared:                       0.235\n",
       "Model:                                OLS   Adj. R-squared:                  0.219\n",
       "Method:                     Least Squares   F-statistic:                     14.56\n",
       "Date:                    Fri, 09 Dec 2022   Prob (F-statistic):           2.54e-08\n",
       "Time:                            23:33:11   Log-Likelihood:                 30.519\n",
       "No. Observations:                     146   AIC:                            -53.04\n",
       "Df Residuals:                         142   BIC:                            -41.10\n",
       "Df Model:                               3                                         \n",
       "Covariance Type:                nonrobust                                         \n",
       "====================================================================================\n",
       "                       coef    std err          t      P>|t|      [0.025      0.975]\n",
       "------------------------------------------------------------------------------------\n",
       "Intercept            0.0964      0.087      1.109      0.269      -0.075       0.268\n",
       "Root_WHITE_POP       0.0866      0.100      0.863      0.390      -0.112       0.285\n",
       "Root_MEAN_INCOME     0.4826      0.100      4.825      0.000       0.285       0.680\n",
       "Root_POPULATION      0.2216      0.087      2.540      0.012       0.049       0.394\n",
       "==============================================================================\n",
       "Omnibus:                        1.563   Durbin-Watson:                   1.859\n",
       "Prob(Omnibus):                  0.458   Jarque-Bera (JB):                1.156\n",
       "Skew:                           0.191   Prob(JB):                        0.561\n",
       "Kurtosis:                       3.211   Cond. No.                         11.1\n",
       "==============================================================================\n",
       "\n",
       "Notes:\n",
       "[1] Standard Errors assume that the covariance matrix of the errors is correctly specified.\n",
       "\"\"\""
      ]
     },
     "execution_count": 119,
     "metadata": {},
     "output_type": "execute_result"
    }
   ],
   "source": [
    "lm = smf.ols(formula='Root_BIKE_LANE_DENSITY ~ Root_WHITE_POP + Root_MEAN_INCOME + Root_POPULATION',data=data1).fit()\n",
    "lm.summary()"
   ]
  },
  {
   "cell_type": "markdown",
   "id": "5d847937",
   "metadata": {},
   "source": [
    "#### Best Model Currently"
   ]
  },
  {
   "cell_type": "code",
   "execution_count": 120,
   "id": "201a3de5",
   "metadata": {},
   "outputs": [
    {
     "data": {
      "text/html": [
       "<table class=\"simpletable\">\n",
       "<caption>OLS Regression Results</caption>\n",
       "<tr>\n",
       "  <th>Dep. Variable:</th>    <td>Root_BIKE_LANE_DENSITY</td> <th>  R-squared:         </th> <td>   0.251</td>\n",
       "</tr>\n",
       "<tr>\n",
       "  <th>Model:</th>                      <td>OLS</td>          <th>  Adj. R-squared:    </th> <td>   0.235</td>\n",
       "</tr>\n",
       "<tr>\n",
       "  <th>Method:</th>                <td>Least Squares</td>     <th>  F-statistic:       </th> <td>   15.84</td>\n",
       "</tr>\n",
       "<tr>\n",
       "  <th>Date:</th>                <td>Fri, 09 Dec 2022</td>    <th>  Prob (F-statistic):</th> <td>6.13e-09</td>\n",
       "</tr>\n",
       "<tr>\n",
       "  <th>Time:</th>                    <td>23:33:11</td>        <th>  Log-Likelihood:    </th> <td>  32.014</td>\n",
       "</tr>\n",
       "<tr>\n",
       "  <th>No. Observations:</th>         <td>   146</td>         <th>  AIC:               </th> <td>  -56.03</td>\n",
       "</tr>\n",
       "<tr>\n",
       "  <th>Df Residuals:</th>             <td>   142</td>         <th>  BIC:               </th> <td>  -44.09</td>\n",
       "</tr>\n",
       "<tr>\n",
       "  <th>Df Model:</th>                 <td>     3</td>         <th>                     </th>     <td> </td>   \n",
       "</tr>\n",
       "<tr>\n",
       "  <th>Covariance Type:</th>         <td>nonrobust</td>       <th>                     </th>     <td> </td>   \n",
       "</tr>\n",
       "</table>\n",
       "<table class=\"simpletable\">\n",
       "<tr>\n",
       "          <td></td>            <th>coef</th>     <th>std err</th>      <th>t</th>      <th>P>|t|</th>  <th>[0.025</th>    <th>0.975]</th>  \n",
       "</tr>\n",
       "<tr>\n",
       "  <th>Intercept</th>        <td>    0.2153</td> <td>    0.089</td> <td>    2.406</td> <td> 0.017</td> <td>    0.038</td> <td>    0.392</td>\n",
       "</tr>\n",
       "<tr>\n",
       "  <th>Log_WHITE_POP</th>    <td>    0.1056</td> <td>    0.055</td> <td>    1.923</td> <td> 0.057</td> <td>   -0.003</td> <td>    0.214</td>\n",
       "</tr>\n",
       "<tr>\n",
       "  <th>Root_MEAN_INCOME</th> <td>    0.4448</td> <td>    0.093</td> <td>    4.801</td> <td> 0.000</td> <td>    0.262</td> <td>    0.628</td>\n",
       "</tr>\n",
       "<tr>\n",
       "  <th>Root_POPULATION</th>  <td>    0.2203</td> <td>    0.086</td> <td>    2.551</td> <td> 0.012</td> <td>    0.050</td> <td>    0.391</td>\n",
       "</tr>\n",
       "</table>\n",
       "<table class=\"simpletable\">\n",
       "<tr>\n",
       "  <th>Omnibus:</th>       <td> 1.696</td> <th>  Durbin-Watson:     </th> <td>   1.819</td>\n",
       "</tr>\n",
       "<tr>\n",
       "  <th>Prob(Omnibus):</th> <td> 0.428</td> <th>  Jarque-Bera (JB):  </th> <td>   1.253</td>\n",
       "</tr>\n",
       "<tr>\n",
       "  <th>Skew:</th>          <td> 0.182</td> <th>  Prob(JB):          </th> <td>   0.535</td>\n",
       "</tr>\n",
       "<tr>\n",
       "  <th>Kurtosis:</th>      <td> 3.271</td> <th>  Cond. No.          </th> <td>    11.3</td>\n",
       "</tr>\n",
       "</table><br/><br/>Notes:<br/>[1] Standard Errors assume that the covariance matrix of the errors is correctly specified."
      ],
      "text/plain": [
       "<class 'statsmodels.iolib.summary.Summary'>\n",
       "\"\"\"\n",
       "                              OLS Regression Results                              \n",
       "==================================================================================\n",
       "Dep. Variable:     Root_BIKE_LANE_DENSITY   R-squared:                       0.251\n",
       "Model:                                OLS   Adj. R-squared:                  0.235\n",
       "Method:                     Least Squares   F-statistic:                     15.84\n",
       "Date:                    Fri, 09 Dec 2022   Prob (F-statistic):           6.13e-09\n",
       "Time:                            23:33:11   Log-Likelihood:                 32.014\n",
       "No. Observations:                     146   AIC:                            -56.03\n",
       "Df Residuals:                         142   BIC:                            -44.09\n",
       "Df Model:                               3                                         \n",
       "Covariance Type:                nonrobust                                         \n",
       "====================================================================================\n",
       "                       coef    std err          t      P>|t|      [0.025      0.975]\n",
       "------------------------------------------------------------------------------------\n",
       "Intercept            0.2153      0.089      2.406      0.017       0.038       0.392\n",
       "Log_WHITE_POP        0.1056      0.055      1.923      0.057      -0.003       0.214\n",
       "Root_MEAN_INCOME     0.4448      0.093      4.801      0.000       0.262       0.628\n",
       "Root_POPULATION      0.2203      0.086      2.551      0.012       0.050       0.391\n",
       "==============================================================================\n",
       "Omnibus:                        1.696   Durbin-Watson:                   1.819\n",
       "Prob(Omnibus):                  0.428   Jarque-Bera (JB):                1.253\n",
       "Skew:                           0.182   Prob(JB):                        0.535\n",
       "Kurtosis:                       3.271   Cond. No.                         11.3\n",
       "==============================================================================\n",
       "\n",
       "Notes:\n",
       "[1] Standard Errors assume that the covariance matrix of the errors is correctly specified.\n",
       "\"\"\""
      ]
     },
     "execution_count": 120,
     "metadata": {},
     "output_type": "execute_result"
    }
   ],
   "source": [
    "lm = smf.ols(formula='Root_BIKE_LANE_DENSITY ~ Log_WHITE_POP + Root_MEAN_INCOME + Root_POPULATION',data=data1).fit()\n",
    "lm.summary()"
   ]
  },
  {
   "cell_type": "markdown",
   "id": "c36081b6",
   "metadata": {},
   "source": [
    "L=[]\n",
    "tran=[\"Log_\",\"Root_\"]\n",
    "\n",
    "for i in tran:\n",
    "    for j in tran:\n",
    "        for k in tran:\n",
    "            for l in tran:\n",
    "                lm = smf.ols(formula='{}BIKE_LANE_DENSITY ~ {}Root_WHITE_POP + {}Root_MEAN_INCOME + {}Root_POPULATION'.format(i,j,k,l),data=data1).fit()\n",
    "                L.append([i,j,k,l,lm.rsquared_adj,[lm.pvalues]])\n",
    "                \n",
    "L"
   ]
  },
  {
   "cell_type": "code",
   "execution_count": 121,
   "id": "1caee5fa",
   "metadata": {
    "scrolled": true
   },
   "outputs": [
    {
     "data": {
      "text/html": [
       "<table class=\"simpletable\">\n",
       "<caption>OLS Regression Results</caption>\n",
       "<tr>\n",
       "  <th>Dep. Variable:</th>    <td>Log_BIKE_LANE_DENSITY</td> <th>  R-squared:         </th> <td>   0.207</td>\n",
       "</tr>\n",
       "<tr>\n",
       "  <th>Model:</th>                     <td>OLS</td>          <th>  Adj. R-squared:    </th> <td>   0.190</td>\n",
       "</tr>\n",
       "<tr>\n",
       "  <th>Method:</th>               <td>Least Squares</td>     <th>  F-statistic:       </th> <td>   12.33</td>\n",
       "</tr>\n",
       "<tr>\n",
       "  <th>Date:</th>               <td>Fri, 09 Dec 2022</td>    <th>  Prob (F-statistic):</th> <td>3.24e-07</td>\n",
       "</tr>\n",
       "<tr>\n",
       "  <th>Time:</th>                   <td>23:33:11</td>        <th>  Log-Likelihood:    </th> <td> -67.391</td>\n",
       "</tr>\n",
       "<tr>\n",
       "  <th>No. Observations:</th>        <td>   146</td>         <th>  AIC:               </th> <td>   142.8</td>\n",
       "</tr>\n",
       "<tr>\n",
       "  <th>Df Residuals:</th>            <td>   142</td>         <th>  BIC:               </th> <td>   154.7</td>\n",
       "</tr>\n",
       "<tr>\n",
       "  <th>Df Model:</th>                <td>     3</td>         <th>                     </th>     <td> </td>   \n",
       "</tr>\n",
       "<tr>\n",
       "  <th>Covariance Type:</th>        <td>nonrobust</td>       <th>                     </th>     <td> </td>   \n",
       "</tr>\n",
       "</table>\n",
       "<table class=\"simpletable\">\n",
       "<tr>\n",
       "          <td></td>            <th>coef</th>     <th>std err</th>      <th>t</th>      <th>P>|t|</th>  <th>[0.025</th>    <th>0.975]</th>  \n",
       "</tr>\n",
       "<tr>\n",
       "  <th>Intercept</th>        <td>   -1.5104</td> <td>    0.170</td> <td>   -8.888</td> <td> 0.000</td> <td>   -1.846</td> <td>   -1.174</td>\n",
       "</tr>\n",
       "<tr>\n",
       "  <th>Root_WHITE_POP</th>   <td>    0.3051</td> <td>    0.196</td> <td>    1.555</td> <td> 0.122</td> <td>   -0.083</td> <td>    0.693</td>\n",
       "</tr>\n",
       "<tr>\n",
       "  <th>Root_MEAN_INCOME</th> <td>    0.7520</td> <td>    0.196</td> <td>    3.844</td> <td> 0.000</td> <td>    0.365</td> <td>    1.139</td>\n",
       "</tr>\n",
       "<tr>\n",
       "  <th>Root_POPULATION</th>  <td>    0.5130</td> <td>    0.171</td> <td>    3.007</td> <td> 0.003</td> <td>    0.176</td> <td>    0.850</td>\n",
       "</tr>\n",
       "</table>\n",
       "<table class=\"simpletable\">\n",
       "<tr>\n",
       "  <th>Omnibus:</th>       <td>16.530</td> <th>  Durbin-Watson:     </th> <td>   1.764</td>\n",
       "</tr>\n",
       "<tr>\n",
       "  <th>Prob(Omnibus):</th> <td> 0.000</td> <th>  Jarque-Bera (JB):  </th> <td>  19.067</td>\n",
       "</tr>\n",
       "<tr>\n",
       "  <th>Skew:</th>          <td>-0.753</td> <th>  Prob(JB):          </th> <td>7.24e-05</td>\n",
       "</tr>\n",
       "<tr>\n",
       "  <th>Kurtosis:</th>      <td> 3.930</td> <th>  Cond. No.          </th> <td>    11.1</td>\n",
       "</tr>\n",
       "</table><br/><br/>Notes:<br/>[1] Standard Errors assume that the covariance matrix of the errors is correctly specified."
      ],
      "text/plain": [
       "<class 'statsmodels.iolib.summary.Summary'>\n",
       "\"\"\"\n",
       "                              OLS Regression Results                             \n",
       "=================================================================================\n",
       "Dep. Variable:     Log_BIKE_LANE_DENSITY   R-squared:                       0.207\n",
       "Model:                               OLS   Adj. R-squared:                  0.190\n",
       "Method:                    Least Squares   F-statistic:                     12.33\n",
       "Date:                   Fri, 09 Dec 2022   Prob (F-statistic):           3.24e-07\n",
       "Time:                           23:33:11   Log-Likelihood:                -67.391\n",
       "No. Observations:                    146   AIC:                             142.8\n",
       "Df Residuals:                        142   BIC:                             154.7\n",
       "Df Model:                              3                                         \n",
       "Covariance Type:               nonrobust                                         \n",
       "====================================================================================\n",
       "                       coef    std err          t      P>|t|      [0.025      0.975]\n",
       "------------------------------------------------------------------------------------\n",
       "Intercept           -1.5104      0.170     -8.888      0.000      -1.846      -1.174\n",
       "Root_WHITE_POP       0.3051      0.196      1.555      0.122      -0.083       0.693\n",
       "Root_MEAN_INCOME     0.7520      0.196      3.844      0.000       0.365       1.139\n",
       "Root_POPULATION      0.5130      0.171      3.007      0.003       0.176       0.850\n",
       "==============================================================================\n",
       "Omnibus:                       16.530   Durbin-Watson:                   1.764\n",
       "Prob(Omnibus):                  0.000   Jarque-Bera (JB):               19.067\n",
       "Skew:                          -0.753   Prob(JB):                     7.24e-05\n",
       "Kurtosis:                       3.930   Cond. No.                         11.1\n",
       "==============================================================================\n",
       "\n",
       "Notes:\n",
       "[1] Standard Errors assume that the covariance matrix of the errors is correctly specified.\n",
       "\"\"\""
      ]
     },
     "execution_count": 121,
     "metadata": {},
     "output_type": "execute_result"
    }
   ],
   "source": [
    "lm = smf.ols(formula='Log_BIKE_LANE_DENSITY ~ Root_WHITE_POP + Root_MEAN_INCOME + Root_POPULATION',data=data1).fit()\n",
    "lm.summary()"
   ]
  },
  {
   "cell_type": "code",
   "execution_count": 122,
   "id": "1f465669",
   "metadata": {},
   "outputs": [
    {
     "data": {
      "text/plain": [
       "0.20667852694114996"
      ]
     },
     "execution_count": 122,
     "metadata": {},
     "output_type": "execute_result"
    }
   ],
   "source": [
    "lm.rsquared"
   ]
  },
  {
   "cell_type": "code",
   "execution_count": 123,
   "id": "1accdb2a",
   "metadata": {},
   "outputs": [
    {
     "data": {
      "text/plain": [
       "Intercept           2.534931e-15\n",
       "Root_WHITE_POP      1.221801e-01\n",
       "Root_MEAN_INCOME    1.818222e-04\n",
       "Root_POPULATION     3.123461e-03\n",
       "dtype: float64"
      ]
     },
     "execution_count": 123,
     "metadata": {},
     "output_type": "execute_result"
    }
   ],
   "source": [
    "lm.pvalues"
   ]
  },
  {
   "cell_type": "markdown",
   "id": "a40d0cf6",
   "metadata": {},
   "source": [
    "### Decision Tree"
   ]
  },
  {
   "cell_type": "code",
   "execution_count": 126,
   "id": "b1834e66",
   "metadata": {},
   "outputs": [
    {
     "data": {
      "text/plain": [
       "{'ccp_alpha': 0.01,\n",
       " 'criterion': 'absolute_error',\n",
       " 'max_depth': 2,\n",
       " 'max_features': 'auto',\n",
       " 'min_samples_leaf': 5,\n",
       " 'random_state': 123,\n",
       " 'splitter': 'best'}"
      ]
     },
     "execution_count": 126,
     "metadata": {},
     "output_type": "execute_result"
    }
   ],
   "source": [
    "param_grid_dtr = {'random_state':[123],'min_samples_leaf':[5, 10, 20, 50, 100],'max_depth':[2, 3, 5, 10, 20],'splitter':['best'],'criterion':['squared_error','friedman_mse','absolute_error','poisson'],'max_features':['auto','sqrt','log2'],'ccp_alpha':[1e-2,1e-1,1]}\n",
    "dtr=DecisionTreeRegressor()\n",
    "\n",
    "gr=GridSearchCV(dtr,param_grid=param_grid_dtr,cv=5)\n",
    "\n",
    "gr.fit(data1[[\"Log_WHITE_POP\",\"Root_MEAN_INCOME\",\"Root_POPULATION\"]],np.array(data1[\"Root_BIKE_LANE_DENSITY\"]).reshape(-1,1))\n",
    "\n",
    "gr.best_params_"
   ]
  },
  {
   "cell_type": "code",
   "execution_count": 127,
   "id": "85e301a8",
   "metadata": {},
   "outputs": [
    {
     "data": {
      "text/plain": [
       "0.3048332626936403"
      ]
     },
     "execution_count": 127,
     "metadata": {},
     "output_type": "execute_result"
    }
   ],
   "source": [
    "y_train=np.array(data1[\"Root_BIKE_LANE_DENSITY\"]).reshape(-1,1)\n",
    "y_train_pred = gr.predict(data1[[\"Log_WHITE_POP\",\"Root_MEAN_INCOME\",\"Root_POPULATION\"]])\n",
    "\n",
    "r2_score(y_train, y_train_pred)"
   ]
  },
  {
   "cell_type": "markdown",
   "id": "655f0578",
   "metadata": {},
   "source": [
    "#### Random Forest"
   ]
  },
  {
   "cell_type": "code",
   "execution_count": 128,
   "id": "9f25016b",
   "metadata": {},
   "outputs": [],
   "source": [
    "param_grid_rfr={'n_estimators':[2000],'criterion':['squared_error','poisson'],'max_features':[None],'ccp_alpha':[1e-2,1e-3]}\n",
    "#param_grid_rfr = {'ccp_alpha':[1,1e-1],'criterion': ['squared_error','absolute_error'],'max_features': ['sqrt'],'n_estimators': [2000]}"
   ]
  },
  {
   "cell_type": "code",
   "execution_count": 130,
   "id": "329b3cec",
   "metadata": {},
   "outputs": [
    {
     "data": {
      "text/plain": [
       "{'ccp_alpha': 0.001,\n",
       " 'criterion': 'squared_error',\n",
       " 'max_features': None,\n",
       " 'n_estimators': 2000}"
      ]
     },
     "execution_count": 130,
     "metadata": {},
     "output_type": "execute_result"
    }
   ],
   "source": [
    "rfr = RandomForestRegressor()\n",
    "\n",
    "gr=GridSearchCV(rfr,param_grid=param_grid_rfr,cv=5)\n",
    "#gr=GridSearchCV(rfr,param_grid=param_grid_rfr,cv=5,verbose=2)\n",
    "#gr =GridSearchCV(gbr,param_grid=param_grid_gbr,cv=5,verbose=1)\n",
    "gr.fit(data1[[\"Log_WHITE_POP\",\"Root_MEAN_INCOME\",\"Root_POPULATION\"]],np.array(data1[\"Root_BIKE_LANE_DENSITY\"]).reshape(-1,1))                  \n",
    "\n",
    "#Output the best parameter\n",
    "gr.best_params_"
   ]
  },
  {
   "cell_type": "code",
   "execution_count": 131,
   "id": "3edc837a",
   "metadata": {},
   "outputs": [
    {
     "data": {
      "text/plain": [
       "0.6628386835861017"
      ]
     },
     "execution_count": 131,
     "metadata": {},
     "output_type": "execute_result"
    }
   ],
   "source": [
    "y_train=np.array(data1[\"Root_BIKE_LANE_DENSITY\"]).reshape(-1,1)\n",
    "y_train_pred = gr.predict(data1[[\"Log_WHITE_POP\",\"Root_MEAN_INCOME\",\"Root_POPULATION\"]])\n",
    "\n",
    "r2_score(y_train, y_train_pred)"
   ]
  }
 ],
 "metadata": {
  "kernelspec": {
   "display_name": "Python 3 (ipykernel)",
   "language": "python",
   "name": "python3"
  },
  "language_info": {
   "codemirror_mode": {
    "name": "ipython",
    "version": 3
   },
   "file_extension": ".py",
   "mimetype": "text/x-python",
   "name": "python",
   "nbconvert_exporter": "python",
   "pygments_lexer": "ipython3",
   "version": "3.10.6"
  }
 },
 "nbformat": 4,
 "nbformat_minor": 5
}
