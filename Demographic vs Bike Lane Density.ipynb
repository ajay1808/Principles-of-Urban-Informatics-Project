{
 "cells": [
  {
   "cell_type": "code",
   "execution_count": 1,
   "id": "b33d153d",
   "metadata": {},
   "outputs": [],
   "source": [
    "import pandas as pd\n",
    "import numpy as np\n",
    "from sklearn.svm import SVR\n",
    "from sklearn.linear_model import SGDRegressor,LinearRegression\n",
    "from sklearn.pipeline import make_pipeline\n",
    "from sklearn.preprocessing import StandardScaler\n",
    "from sklearn.metrics import explained_variance_score,r2_score\n",
    "from sklearn.model_selection import train_test_split, GridSearchCV\n",
    "import matplotlib.pyplot as plt\n",
    "import seaborn as sns\n",
    "import statsmodels.formula.api as smf\n",
    "from sklearn.tree import DecisionTreeRegressor\n",
    "from sklearn.neighbors import LocalOutlierFactor\n",
    "from sklearn.ensemble import RandomForestRegressor, GradientBoostingRegressor\n",
    "from sklearn.gaussian_process import GaussianProcessRegressor\n",
    "from sklearn.gaussian_process.kernels import RBF, ConstantKernel,WhiteKernel\n",
    "%matplotlib inline\n",
    "import warnings\n",
    "warnings.filterwarnings(\"ignore\")\n",
    "from statsmodels.stats.outliers_influence import variance_inflation_factor"
   ]
  },
  {
   "cell_type": "code",
   "execution_count": 2,
   "id": "35d0a547",
   "metadata": {},
   "outputs": [],
   "source": [
    "data = pd.read_csv('Features_Zipcode_Final.csv')"
   ]
  },
  {
   "cell_type": "code",
   "execution_count": 3,
   "id": "10a460ec",
   "metadata": {},
   "outputs": [
    {
     "data": {
      "text/html": [
       "<div>\n",
       "<style scoped>\n",
       "    .dataframe tbody tr th:only-of-type {\n",
       "        vertical-align: middle;\n",
       "    }\n",
       "\n",
       "    .dataframe tbody tr th {\n",
       "        vertical-align: top;\n",
       "    }\n",
       "\n",
       "    .dataframe thead th {\n",
       "        text-align: right;\n",
       "    }\n",
       "</style>\n",
       "<table border=\"1\" class=\"dataframe\">\n",
       "  <thead>\n",
       "    <tr style=\"text-align: right;\">\n",
       "      <th></th>\n",
       "      <th>ZIPCODE</th>\n",
       "      <th>TOTAL STREET LENGTH</th>\n",
       "      <th>TOTAL BIKE LANE LENGTH</th>\n",
       "      <th>BIKE LANE DENSITY</th>\n",
       "      <th>NUM_DOCKS_AVAILABLE</th>\n",
       "      <th>TRIPS</th>\n",
       "      <th>NORMALIZED ACCIDENT COUNT</th>\n",
       "      <th>WHITE_POP %</th>\n",
       "      <th>POPULATION</th>\n",
       "      <th>ACCIDENT COUNT</th>\n",
       "      <th>MEAN INCOME</th>\n",
       "    </tr>\n",
       "  </thead>\n",
       "  <tbody>\n",
       "    <tr>\n",
       "      <th>0</th>\n",
       "      <td>11436</td>\n",
       "      <td>NaN</td>\n",
       "      <td>NaN</td>\n",
       "      <td>NaN</td>\n",
       "      <td>NaN</td>\n",
       "      <td>8192.653036</td>\n",
       "      <td>0.378388</td>\n",
       "      <td>7.031032</td>\n",
       "      <td>17949.0</td>\n",
       "      <td>31.0</td>\n",
       "      <td>29271.0</td>\n",
       "    </tr>\n",
       "    <tr>\n",
       "      <th>1</th>\n",
       "      <td>11213</td>\n",
       "      <td>146367.805288</td>\n",
       "      <td>28632.146155</td>\n",
       "      <td>0.195618</td>\n",
       "      <td>NaN</td>\n",
       "      <td>780.000000</td>\n",
       "      <td>45.128205</td>\n",
       "      <td>28.880142</td>\n",
       "      <td>63767.0</td>\n",
       "      <td>352.0</td>\n",
       "      <td>29216.0</td>\n",
       "    </tr>\n",
       "    <tr>\n",
       "      <th>2</th>\n",
       "      <td>11212</td>\n",
       "      <td>215912.786687</td>\n",
       "      <td>40575.901547</td>\n",
       "      <td>0.187927</td>\n",
       "      <td>NaN</td>\n",
       "      <td>87326.231788</td>\n",
       "      <td>0.381329</td>\n",
       "      <td>11.172781</td>\n",
       "      <td>84500.0</td>\n",
       "      <td>333.0</td>\n",
       "      <td>20958.0</td>\n",
       "    </tr>\n",
       "    <tr>\n",
       "      <th>3</th>\n",
       "      <td>11225</td>\n",
       "      <td>114141.251961</td>\n",
       "      <td>26079.822125</td>\n",
       "      <td>0.228487</td>\n",
       "      <td>149.0</td>\n",
       "      <td>6879.000000</td>\n",
       "      <td>4.564617</td>\n",
       "      <td>31.436415</td>\n",
       "      <td>56829.0</td>\n",
       "      <td>314.0</td>\n",
       "      <td>38992.0</td>\n",
       "    </tr>\n",
       "    <tr>\n",
       "      <th>4</th>\n",
       "      <td>11218</td>\n",
       "      <td>208355.389994</td>\n",
       "      <td>24186.845000</td>\n",
       "      <td>0.116085</td>\n",
       "      <td>23.0</td>\n",
       "      <td>1186.000000</td>\n",
       "      <td>28.667791</td>\n",
       "      <td>62.269343</td>\n",
       "      <td>75220.0</td>\n",
       "      <td>340.0</td>\n",
       "      <td>36189.0</td>\n",
       "    </tr>\n",
       "  </tbody>\n",
       "</table>\n",
       "</div>"
      ],
      "text/plain": [
       "   ZIPCODE  TOTAL STREET LENGTH  TOTAL BIKE LANE LENGTH  BIKE LANE DENSITY  \\\n",
       "0    11436                  NaN                     NaN                NaN   \n",
       "1    11213        146367.805288            28632.146155           0.195618   \n",
       "2    11212        215912.786687            40575.901547           0.187927   \n",
       "3    11225        114141.251961            26079.822125           0.228487   \n",
       "4    11218        208355.389994            24186.845000           0.116085   \n",
       "\n",
       "   NUM_DOCKS_AVAILABLE         TRIPS  NORMALIZED ACCIDENT COUNT  WHITE_POP %  \\\n",
       "0                  NaN   8192.653036                   0.378388     7.031032   \n",
       "1                  NaN    780.000000                  45.128205    28.880142   \n",
       "2                  NaN  87326.231788                   0.381329    11.172781   \n",
       "3                149.0   6879.000000                   4.564617    31.436415   \n",
       "4                 23.0   1186.000000                  28.667791    62.269343   \n",
       "\n",
       "   POPULATION  ACCIDENT COUNT  MEAN INCOME  \n",
       "0     17949.0            31.0      29271.0  \n",
       "1     63767.0           352.0      29216.0  \n",
       "2     84500.0           333.0      20958.0  \n",
       "3     56829.0           314.0      38992.0  \n",
       "4     75220.0           340.0      36189.0  "
      ]
     },
     "execution_count": 3,
     "metadata": {},
     "output_type": "execute_result"
    }
   ],
   "source": [
    "data.head()"
   ]
  },
  {
   "cell_type": "code",
   "execution_count": 4,
   "id": "8442a180",
   "metadata": {},
   "outputs": [
    {
     "data": {
      "text/plain": [
       "(248, 11)"
      ]
     },
     "execution_count": 4,
     "metadata": {},
     "output_type": "execute_result"
    }
   ],
   "source": [
    "data.shape"
   ]
  },
  {
   "cell_type": "code",
   "execution_count": 5,
   "id": "065c2065",
   "metadata": {},
   "outputs": [
    {
     "data": {
      "text/plain": [
       "(172, 4)"
      ]
     },
     "execution_count": 5,
     "metadata": {},
     "output_type": "execute_result"
    }
   ],
   "source": [
    "data1 = data[['ZIPCODE','BIKE LANE DENSITY','WHITE_POP %','MEAN INCOME','POPULATION']].dropna().set_index('ZIPCODE',drop=True)\n",
    "data1.columns = data1.columns.str.replace(' ', '_')\n",
    "data1.shape"
   ]
  },
  {
   "cell_type": "code",
   "execution_count": 6,
   "id": "52657539",
   "metadata": {},
   "outputs": [
    {
     "name": "stdout",
     "output_type": "stream",
     "text": [
      "<class 'pandas.core.frame.DataFrame'>\n",
      "Int64Index: 172 entries, 11213 to 10310\n",
      "Data columns (total 4 columns):\n",
      " #   Column             Non-Null Count  Dtype  \n",
      "---  ------             --------------  -----  \n",
      " 0   BIKE_LANE_DENSITY  172 non-null    float64\n",
      " 1   WHITE_POP_%        172 non-null    float64\n",
      " 2   MEAN_INCOME        172 non-null    float64\n",
      " 3   POPULATION         172 non-null    float64\n",
      "dtypes: float64(4)\n",
      "memory usage: 6.7 KB\n"
     ]
    }
   ],
   "source": [
    "data1.info()"
   ]
  },
  {
   "cell_type": "code",
   "execution_count": 7,
   "id": "c18504e7",
   "metadata": {},
   "outputs": [
    {
     "data": {
      "text/plain": [
       "(248, 11)"
      ]
     },
     "execution_count": 7,
     "metadata": {},
     "output_type": "execute_result"
    }
   ],
   "source": [
    "data.shape"
   ]
  },
  {
   "cell_type": "code",
   "execution_count": 8,
   "id": "fe0631a2",
   "metadata": {},
   "outputs": [
    {
     "data": {
      "text/html": [
       "<div>\n",
       "<style scoped>\n",
       "    .dataframe tbody tr th:only-of-type {\n",
       "        vertical-align: middle;\n",
       "    }\n",
       "\n",
       "    .dataframe tbody tr th {\n",
       "        vertical-align: top;\n",
       "    }\n",
       "\n",
       "    .dataframe thead th {\n",
       "        text-align: right;\n",
       "    }\n",
       "</style>\n",
       "<table border=\"1\" class=\"dataframe\">\n",
       "  <thead>\n",
       "    <tr style=\"text-align: right;\">\n",
       "      <th></th>\n",
       "      <th>BIKE_LANE_DENSITY</th>\n",
       "      <th>WHITE_POP_%</th>\n",
       "      <th>MEAN_INCOME</th>\n",
       "      <th>POPULATION</th>\n",
       "    </tr>\n",
       "    <tr>\n",
       "      <th>ZIPCODE</th>\n",
       "      <th></th>\n",
       "      <th></th>\n",
       "      <th></th>\n",
       "      <th></th>\n",
       "    </tr>\n",
       "  </thead>\n",
       "  <tbody>\n",
       "    <tr>\n",
       "      <th>11213</th>\n",
       "      <td>0.195618</td>\n",
       "      <td>28.880142</td>\n",
       "      <td>29216.0</td>\n",
       "      <td>63767.0</td>\n",
       "    </tr>\n",
       "    <tr>\n",
       "      <th>11212</th>\n",
       "      <td>0.187927</td>\n",
       "      <td>11.172781</td>\n",
       "      <td>20958.0</td>\n",
       "      <td>84500.0</td>\n",
       "    </tr>\n",
       "    <tr>\n",
       "      <th>11225</th>\n",
       "      <td>0.228487</td>\n",
       "      <td>31.436415</td>\n",
       "      <td>38992.0</td>\n",
       "      <td>56829.0</td>\n",
       "    </tr>\n",
       "    <tr>\n",
       "      <th>11218</th>\n",
       "      <td>0.116085</td>\n",
       "      <td>62.269343</td>\n",
       "      <td>36189.0</td>\n",
       "      <td>75220.0</td>\n",
       "    </tr>\n",
       "    <tr>\n",
       "      <th>11226</th>\n",
       "      <td>0.136211</td>\n",
       "      <td>16.696531</td>\n",
       "      <td>31064.0</td>\n",
       "      <td>101572.0</td>\n",
       "    </tr>\n",
       "  </tbody>\n",
       "</table>\n",
       "</div>"
      ],
      "text/plain": [
       "         BIKE_LANE_DENSITY  WHITE_POP_%  MEAN_INCOME  POPULATION\n",
       "ZIPCODE                                                         \n",
       "11213             0.195618    28.880142      29216.0     63767.0\n",
       "11212             0.187927    11.172781      20958.0     84500.0\n",
       "11225             0.228487    31.436415      38992.0     56829.0\n",
       "11218             0.116085    62.269343      36189.0     75220.0\n",
       "11226             0.136211    16.696531      31064.0    101572.0"
      ]
     },
     "execution_count": 8,
     "metadata": {},
     "output_type": "execute_result"
    }
   ],
   "source": [
    "data1.head()"
   ]
  },
  {
   "cell_type": "code",
   "execution_count": 9,
   "id": "856d8e43",
   "metadata": {},
   "outputs": [
    {
     "data": {
      "text/plain": [
       "(172, 4)"
      ]
     },
     "execution_count": 9,
     "metadata": {},
     "output_type": "execute_result"
    }
   ],
   "source": [
    "data1.shape"
   ]
  },
  {
   "cell_type": "code",
   "execution_count": 10,
   "id": "16479b6a",
   "metadata": {},
   "outputs": [
    {
     "data": {
      "text/plain": [
       "(164, 4)"
      ]
     },
     "execution_count": 10,
     "metadata": {},
     "output_type": "execute_result"
    }
   ],
   "source": [
    "data1=data1[(data1[\"MEAN_INCOME\"] < data1[\"MEAN_INCOME\"].quantile(.98)) & (data1[\"MEAN_INCOME\"] > data1[\"MEAN_INCOME\"].quantile(.02))]\n",
    "data1.shape"
   ]
  },
  {
   "cell_type": "code",
   "execution_count": 11,
   "id": "caa2966b",
   "metadata": {},
   "outputs": [],
   "source": [
    "from sklearn.preprocessing import MinMaxScaler\n",
    "\n",
    "scaler=MinMaxScaler()\n",
    "\n",
    "cols=data1.columns\n",
    "data1[cols]=scaler.fit_transform(data1[cols])"
   ]
  },
  {
   "cell_type": "code",
   "execution_count": 12,
   "id": "5c77ff49",
   "metadata": {},
   "outputs": [
    {
     "data": {
      "text/html": [
       "<div>\n",
       "<style scoped>\n",
       "    .dataframe tbody tr th:only-of-type {\n",
       "        vertical-align: middle;\n",
       "    }\n",
       "\n",
       "    .dataframe tbody tr th {\n",
       "        vertical-align: top;\n",
       "    }\n",
       "\n",
       "    .dataframe thead th {\n",
       "        text-align: right;\n",
       "    }\n",
       "</style>\n",
       "<table border=\"1\" class=\"dataframe\">\n",
       "  <thead>\n",
       "    <tr style=\"text-align: right;\">\n",
       "      <th></th>\n",
       "      <th>BIKE_LANE_DENSITY</th>\n",
       "      <th>WHITE_POP_%</th>\n",
       "      <th>MEAN_INCOME</th>\n",
       "      <th>POPULATION</th>\n",
       "    </tr>\n",
       "    <tr>\n",
       "      <th>ZIPCODE</th>\n",
       "      <th></th>\n",
       "      <th></th>\n",
       "      <th></th>\n",
       "      <th></th>\n",
       "    </tr>\n",
       "  </thead>\n",
       "  <tbody>\n",
       "    <tr>\n",
       "      <th>11213</th>\n",
       "      <td>0.361635</td>\n",
       "      <td>0.243643</td>\n",
       "      <td>0.091930</td>\n",
       "      <td>0.568238</td>\n",
       "    </tr>\n",
       "    <tr>\n",
       "      <th>11212</th>\n",
       "      <td>0.347400</td>\n",
       "      <td>0.074801</td>\n",
       "      <td>0.032257</td>\n",
       "      <td>0.762149</td>\n",
       "    </tr>\n",
       "    <tr>\n",
       "      <th>11225</th>\n",
       "      <td>0.422476</td>\n",
       "      <td>0.268017</td>\n",
       "      <td>0.162572</td>\n",
       "      <td>0.503348</td>\n",
       "    </tr>\n",
       "    <tr>\n",
       "      <th>11218</th>\n",
       "      <td>0.214420</td>\n",
       "      <td>0.562014</td>\n",
       "      <td>0.142317</td>\n",
       "      <td>0.675355</td>\n",
       "    </tr>\n",
       "    <tr>\n",
       "      <th>11226</th>\n",
       "      <td>0.251674</td>\n",
       "      <td>0.127471</td>\n",
       "      <td>0.105284</td>\n",
       "      <td>0.921820</td>\n",
       "    </tr>\n",
       "  </tbody>\n",
       "</table>\n",
       "</div>"
      ],
      "text/plain": [
       "         BIKE_LANE_DENSITY  WHITE_POP_%  MEAN_INCOME  POPULATION\n",
       "ZIPCODE                                                         \n",
       "11213             0.361635     0.243643     0.091930    0.568238\n",
       "11212             0.347400     0.074801     0.032257    0.762149\n",
       "11225             0.422476     0.268017     0.162572    0.503348\n",
       "11218             0.214420     0.562014     0.142317    0.675355\n",
       "11226             0.251674     0.127471     0.105284    0.921820"
      ]
     },
     "execution_count": 12,
     "metadata": {},
     "output_type": "execute_result"
    }
   ],
   "source": [
    "data1.head()"
   ]
  },
  {
   "cell_type": "code",
   "execution_count": 13,
   "id": "97bd3e40",
   "metadata": {},
   "outputs": [
    {
     "name": "stdout",
     "output_type": "stream",
     "text": [
      "<class 'pandas.core.frame.DataFrame'>\n",
      "Int64Index: 164 entries, 11213 to 10310\n",
      "Data columns (total 4 columns):\n",
      " #   Column             Non-Null Count  Dtype  \n",
      "---  ------             --------------  -----  \n",
      " 0   BIKE_LANE_DENSITY  164 non-null    float64\n",
      " 1   WHITE_POP_%        164 non-null    float64\n",
      " 2   MEAN_INCOME        164 non-null    float64\n",
      " 3   POPULATION         164 non-null    float64\n",
      "dtypes: float64(4)\n",
      "memory usage: 6.4 KB\n"
     ]
    }
   ],
   "source": [
    "data1.info()"
   ]
  },
  {
   "cell_type": "code",
   "execution_count": 59,
   "id": "055b38ba",
   "metadata": {},
   "outputs": [],
   "source": [
    "import seaborn as sns"
   ]
  },
  {
   "cell_type": "code",
   "execution_count": 14,
   "id": "cc647240",
   "metadata": {},
   "outputs": [
    {
     "data": {
      "text/html": [
       "<div>\n",
       "<style scoped>\n",
       "    .dataframe tbody tr th:only-of-type {\n",
       "        vertical-align: middle;\n",
       "    }\n",
       "\n",
       "    .dataframe tbody tr th {\n",
       "        vertical-align: top;\n",
       "    }\n",
       "\n",
       "    .dataframe thead th {\n",
       "        text-align: right;\n",
       "    }\n",
       "</style>\n",
       "<table border=\"1\" class=\"dataframe\">\n",
       "  <thead>\n",
       "    <tr style=\"text-align: right;\">\n",
       "      <th></th>\n",
       "      <th>BIKE_LANE_DENSITY</th>\n",
       "      <th>WHITE_POP_%</th>\n",
       "      <th>MEAN_INCOME</th>\n",
       "      <th>POPULATION</th>\n",
       "    </tr>\n",
       "    <tr>\n",
       "      <th>ZIPCODE</th>\n",
       "      <th></th>\n",
       "      <th></th>\n",
       "      <th></th>\n",
       "      <th></th>\n",
       "    </tr>\n",
       "  </thead>\n",
       "  <tbody>\n",
       "    <tr>\n",
       "      <th>11213</th>\n",
       "      <td>0.361635</td>\n",
       "      <td>0.243643</td>\n",
       "      <td>0.091930</td>\n",
       "      <td>0.568238</td>\n",
       "    </tr>\n",
       "    <tr>\n",
       "      <th>11212</th>\n",
       "      <td>0.347400</td>\n",
       "      <td>0.074801</td>\n",
       "      <td>0.032257</td>\n",
       "      <td>0.762149</td>\n",
       "    </tr>\n",
       "    <tr>\n",
       "      <th>11225</th>\n",
       "      <td>0.422476</td>\n",
       "      <td>0.268017</td>\n",
       "      <td>0.162572</td>\n",
       "      <td>0.503348</td>\n",
       "    </tr>\n",
       "    <tr>\n",
       "      <th>11218</th>\n",
       "      <td>0.214420</td>\n",
       "      <td>0.562014</td>\n",
       "      <td>0.142317</td>\n",
       "      <td>0.675355</td>\n",
       "    </tr>\n",
       "    <tr>\n",
       "      <th>11226</th>\n",
       "      <td>0.251674</td>\n",
       "      <td>0.127471</td>\n",
       "      <td>0.105284</td>\n",
       "      <td>0.921820</td>\n",
       "    </tr>\n",
       "  </tbody>\n",
       "</table>\n",
       "</div>"
      ],
      "text/plain": [
       "         BIKE_LANE_DENSITY  WHITE_POP_%  MEAN_INCOME  POPULATION\n",
       "ZIPCODE                                                         \n",
       "11213             0.361635     0.243643     0.091930    0.568238\n",
       "11212             0.347400     0.074801     0.032257    0.762149\n",
       "11225             0.422476     0.268017     0.162572    0.503348\n",
       "11218             0.214420     0.562014     0.142317    0.675355\n",
       "11226             0.251674     0.127471     0.105284    0.921820"
      ]
     },
     "execution_count": 14,
     "metadata": {},
     "output_type": "execute_result"
    }
   ],
   "source": [
    "data1.head()"
   ]
  },
  {
   "cell_type": "code",
   "execution_count": 15,
   "id": "6285f4b9",
   "metadata": {},
   "outputs": [
    {
     "data": {
      "text/plain": [
       "<AxesSubplot: >"
      ]
     },
     "execution_count": 15,
     "metadata": {},
     "output_type": "execute_result"
    },
    {
     "data": {
      "image/png": "[encoded data removed]",
      "text/plain": [
       "<Figure size 640x480 with 1 Axes>"
      ]
     },
     "metadata": {},
     "output_type": "display_data"
    }
   ],
   "source": [
    "sns.boxplot(data=data1)"
   ]
  },
  {
   "cell_type": "markdown",
   "id": "47ca414c",
   "metadata": {},
   "source": [
    "base = 10\n",
    "\n",
    "data1['Log_WHITE_POP %'] = np.log(np.array(data1['WHITE_POP %'])+1e-)/np.log(base)\n",
    "data1['Log_BIKE_LANE_DENSITY'] = np.log(np.array(data1['BIKE_LANE_DENSITY'])+1e-9)/np.log(base)\n",
    "\n",
    "\n",
    "\n",
    "root = 2\n",
    "#data1['Root_NORMALIZED_ACCIDENT_COUNT'] = np.power((np.array(data1['NORMALIZED_ACCIDENT_COUNT'])),1/root)\n",
    "data1['Root_BIKE_LANE_DENSITY'] = np.power((np.array(data1['BIKE_LANE_DENSITY'])),1/root)\n",
    "\n",
    "#data1['LR_NORMALIZED_ACCIDENT_COUNT'] = np.log(np.array(data1['Root_NORMALIZED_ACCIDENT_COUNT'])+1e-1)/np.log(base)\n",
    "data1['LR_BIKE_LANE_DENSITY'] = np.log(np.array(data1['Root_BIKE_LANE_DENSITY'])+1e-9)/np.log(base)"
   ]
  },
  {
   "cell_type": "code",
   "execution_count": 16,
   "id": "fe13a1ec",
   "metadata": {},
   "outputs": [
    {
     "data": {
      "text/html": [
       "<div>\n",
       "<style scoped>\n",
       "    .dataframe tbody tr th:only-of-type {\n",
       "        vertical-align: middle;\n",
       "    }\n",
       "\n",
       "    .dataframe tbody tr th {\n",
       "        vertical-align: top;\n",
       "    }\n",
       "\n",
       "    .dataframe thead th {\n",
       "        text-align: right;\n",
       "    }\n",
       "</style>\n",
       "<table border=\"1\" class=\"dataframe\">\n",
       "  <thead>\n",
       "    <tr style=\"text-align: right;\">\n",
       "      <th></th>\n",
       "      <th>BIKE_LANE_DENSITY</th>\n",
       "      <th>WHITE_POP_%</th>\n",
       "      <th>MEAN_INCOME</th>\n",
       "      <th>POPULATION</th>\n",
       "    </tr>\n",
       "    <tr>\n",
       "      <th>ZIPCODE</th>\n",
       "      <th></th>\n",
       "      <th></th>\n",
       "      <th></th>\n",
       "      <th></th>\n",
       "    </tr>\n",
       "  </thead>\n",
       "  <tbody>\n",
       "    <tr>\n",
       "      <th>11213</th>\n",
       "      <td>0.361635</td>\n",
       "      <td>0.243643</td>\n",
       "      <td>0.091930</td>\n",
       "      <td>0.568238</td>\n",
       "    </tr>\n",
       "    <tr>\n",
       "      <th>11212</th>\n",
       "      <td>0.347400</td>\n",
       "      <td>0.074801</td>\n",
       "      <td>0.032257</td>\n",
       "      <td>0.762149</td>\n",
       "    </tr>\n",
       "    <tr>\n",
       "      <th>11225</th>\n",
       "      <td>0.422476</td>\n",
       "      <td>0.268017</td>\n",
       "      <td>0.162572</td>\n",
       "      <td>0.503348</td>\n",
       "    </tr>\n",
       "    <tr>\n",
       "      <th>11218</th>\n",
       "      <td>0.214420</td>\n",
       "      <td>0.562014</td>\n",
       "      <td>0.142317</td>\n",
       "      <td>0.675355</td>\n",
       "    </tr>\n",
       "    <tr>\n",
       "      <th>11226</th>\n",
       "      <td>0.251674</td>\n",
       "      <td>0.127471</td>\n",
       "      <td>0.105284</td>\n",
       "      <td>0.921820</td>\n",
       "    </tr>\n",
       "  </tbody>\n",
       "</table>\n",
       "</div>"
      ],
      "text/plain": [
       "         BIKE_LANE_DENSITY  WHITE_POP_%  MEAN_INCOME  POPULATION\n",
       "ZIPCODE                                                         \n",
       "11213             0.361635     0.243643     0.091930    0.568238\n",
       "11212             0.347400     0.074801     0.032257    0.762149\n",
       "11225             0.422476     0.268017     0.162572    0.503348\n",
       "11218             0.214420     0.562014     0.142317    0.675355\n",
       "11226             0.251674     0.127471     0.105284    0.921820"
      ]
     },
     "execution_count": 16,
     "metadata": {},
     "output_type": "execute_result"
    }
   ],
   "source": [
    "data1.head()"
   ]
  },
  {
   "cell_type": "code",
   "execution_count": 17,
   "id": "e867b725",
   "metadata": {},
   "outputs": [
    {
     "data": {
      "text/html": [
       "<div>\n",
       "<style scoped>\n",
       "    .dataframe tbody tr th:only-of-type {\n",
       "        vertical-align: middle;\n",
       "    }\n",
       "\n",
       "    .dataframe tbody tr th {\n",
       "        vertical-align: top;\n",
       "    }\n",
       "\n",
       "    .dataframe thead th {\n",
       "        text-align: right;\n",
       "    }\n",
       "</style>\n",
       "<table border=\"1\" class=\"dataframe\">\n",
       "  <thead>\n",
       "    <tr style=\"text-align: right;\">\n",
       "      <th></th>\n",
       "      <th>BIKE_LANE_DENSITY</th>\n",
       "      <th>WHITE_POP_%</th>\n",
       "      <th>MEAN_INCOME</th>\n",
       "      <th>POPULATION</th>\n",
       "    </tr>\n",
       "  </thead>\n",
       "  <tbody>\n",
       "    <tr>\n",
       "      <th>count</th>\n",
       "      <td>164.000000</td>\n",
       "      <td>164.000000</td>\n",
       "      <td>164.000000</td>\n",
       "      <td>164.000000</td>\n",
       "    </tr>\n",
       "    <tr>\n",
       "      <th>mean</th>\n",
       "      <td>0.313440</td>\n",
       "      <td>0.461730</td>\n",
       "      <td>0.244076</td>\n",
       "      <td>0.418273</td>\n",
       "    </tr>\n",
       "    <tr>\n",
       "      <th>std</th>\n",
       "      <td>0.236660</td>\n",
       "      <td>0.252059</td>\n",
       "      <td>0.247505</td>\n",
       "      <td>0.242579</td>\n",
       "    </tr>\n",
       "    <tr>\n",
       "      <th>min</th>\n",
       "      <td>0.000000</td>\n",
       "      <td>0.000000</td>\n",
       "      <td>0.000000</td>\n",
       "      <td>0.000000</td>\n",
       "    </tr>\n",
       "    <tr>\n",
       "      <th>25%</th>\n",
       "      <td>0.127718</td>\n",
       "      <td>0.231864</td>\n",
       "      <td>0.088042</td>\n",
       "      <td>0.225989</td>\n",
       "    </tr>\n",
       "    <tr>\n",
       "      <th>50%</th>\n",
       "      <td>0.265206</td>\n",
       "      <td>0.477714</td>\n",
       "      <td>0.141493</td>\n",
       "      <td>0.366910</td>\n",
       "    </tr>\n",
       "    <tr>\n",
       "      <th>75%</th>\n",
       "      <td>0.453384</td>\n",
       "      <td>0.678664</td>\n",
       "      <td>0.277148</td>\n",
       "      <td>0.595036</td>\n",
       "    </tr>\n",
       "    <tr>\n",
       "      <th>max</th>\n",
       "      <td>1.000000</td>\n",
       "      <td>1.000000</td>\n",
       "      <td>1.000000</td>\n",
       "      <td>1.000000</td>\n",
       "    </tr>\n",
       "  </tbody>\n",
       "</table>\n",
       "</div>"
      ],
      "text/plain": [
       "       BIKE_LANE_DENSITY  WHITE_POP_%  MEAN_INCOME  POPULATION\n",
       "count         164.000000   164.000000   164.000000  164.000000\n",
       "mean            0.313440     0.461730     0.244076    0.418273\n",
       "std             0.236660     0.252059     0.247505    0.242579\n",
       "min             0.000000     0.000000     0.000000    0.000000\n",
       "25%             0.127718     0.231864     0.088042    0.225989\n",
       "50%             0.265206     0.477714     0.141493    0.366910\n",
       "75%             0.453384     0.678664     0.277148    0.595036\n",
       "max             1.000000     1.000000     1.000000    1.000000"
      ]
     },
     "execution_count": 17,
     "metadata": {},
     "output_type": "execute_result"
    }
   ],
   "source": [
    "data1.describe()"
   ]
  },
  {
   "cell_type": "code",
   "execution_count": 18,
   "id": "5ae570bf",
   "metadata": {
    "scrolled": true
   },
   "outputs": [
    {
     "data": {
      "text/plain": [
       "(164, 4)"
      ]
     },
     "execution_count": 18,
     "metadata": {},
     "output_type": "execute_result"
    }
   ],
   "source": [
    "data1.shape"
   ]
  },
  {
   "cell_type": "code",
   "execution_count": 19,
   "id": "d6679bf9",
   "metadata": {},
   "outputs": [],
   "source": [
    "data1.columns=[\"BIKE_LANE_DENSITY\",\"WHITE_POP\",\"MEAN_INCOME\",\"POPULATION\"]"
   ]
  },
  {
   "cell_type": "code",
   "execution_count": 20,
   "id": "9b712174",
   "metadata": {},
   "outputs": [
    {
     "data": {
      "text/html": [
       "<table class=\"simpletable\">\n",
       "<caption>OLS Regression Results</caption>\n",
       "<tr>\n",
       "  <th>Dep. Variable:</th>    <td>BIKE_LANE_DENSITY</td> <th>  R-squared:         </th> <td>   0.292</td>\n",
       "</tr>\n",
       "<tr>\n",
       "  <th>Model:</th>                   <td>OLS</td>        <th>  Adj. R-squared:    </th> <td>   0.279</td>\n",
       "</tr>\n",
       "<tr>\n",
       "  <th>Method:</th>             <td>Least Squares</td>   <th>  F-statistic:       </th> <td>   22.01</td>\n",
       "</tr>\n",
       "<tr>\n",
       "  <th>Date:</th>             <td>Sat, 10 Dec 2022</td>  <th>  Prob (F-statistic):</th> <td>5.51e-12</td>\n",
       "</tr>\n",
       "<tr>\n",
       "  <th>Time:</th>                 <td>16:49:59</td>      <th>  Log-Likelihood:    </th> <td>  32.471</td>\n",
       "</tr>\n",
       "<tr>\n",
       "  <th>No. Observations:</th>      <td>   164</td>       <th>  AIC:               </th> <td>  -56.94</td>\n",
       "</tr>\n",
       "<tr>\n",
       "  <th>Df Residuals:</th>          <td>   160</td>       <th>  BIC:               </th> <td>  -44.54</td>\n",
       "</tr>\n",
       "<tr>\n",
       "  <th>Df Model:</th>              <td>     3</td>       <th>                     </th>     <td> </td>   \n",
       "</tr>\n",
       "<tr>\n",
       "  <th>Covariance Type:</th>      <td>nonrobust</td>     <th>                     </th>     <td> </td>   \n",
       "</tr>\n",
       "</table>\n",
       "<table class=\"simpletable\">\n",
       "<tr>\n",
       "       <td></td>          <th>coef</th>     <th>std err</th>      <th>t</th>      <th>P>|t|</th>  <th>[0.025</th>    <th>0.975]</th>  \n",
       "</tr>\n",
       "<tr>\n",
       "  <th>Intercept</th>   <td>    0.1570</td> <td>    0.050</td> <td>    3.117</td> <td> 0.002</td> <td>    0.058</td> <td>    0.257</td>\n",
       "</tr>\n",
       "<tr>\n",
       "  <th>WHITE_POP</th>   <td>   -0.0555</td> <td>    0.082</td> <td>   -0.678</td> <td> 0.499</td> <td>   -0.217</td> <td>    0.106</td>\n",
       "</tr>\n",
       "<tr>\n",
       "  <th>MEAN_INCOME</th> <td>    0.5805</td> <td>    0.086</td> <td>    6.726</td> <td> 0.000</td> <td>    0.410</td> <td>    0.751</td>\n",
       "</tr>\n",
       "<tr>\n",
       "  <th>POPULATION</th>  <td>    0.0964</td> <td>    0.071</td> <td>    1.363</td> <td> 0.175</td> <td>   -0.043</td> <td>    0.236</td>\n",
       "</tr>\n",
       "</table>\n",
       "<table class=\"simpletable\">\n",
       "<tr>\n",
       "  <th>Omnibus:</th>       <td>19.215</td> <th>  Durbin-Watson:     </th> <td>   1.919</td>\n",
       "</tr>\n",
       "<tr>\n",
       "  <th>Prob(Omnibus):</th> <td> 0.000</td> <th>  Jarque-Bera (JB):  </th> <td>  22.567</td>\n",
       "</tr>\n",
       "<tr>\n",
       "  <th>Skew:</th>          <td> 0.796</td> <th>  Prob(JB):          </th> <td>1.26e-05</td>\n",
       "</tr>\n",
       "<tr>\n",
       "  <th>Kurtosis:</th>      <td> 3.875</td> <th>  Cond. No.          </th> <td>    8.27</td>\n",
       "</tr>\n",
       "</table><br/><br/>Notes:<br/>[1] Standard Errors assume that the covariance matrix of the errors is correctly specified."
      ],
      "text/plain": [
       "<class 'statsmodels.iolib.summary.Summary'>\n",
       "\"\"\"\n",
       "                            OLS Regression Results                            \n",
       "==============================================================================\n",
       "Dep. Variable:      BIKE_LANE_DENSITY   R-squared:                       0.292\n",
       "Model:                            OLS   Adj. R-squared:                  0.279\n",
       "Method:                 Least Squares   F-statistic:                     22.01\n",
       "Date:                Sat, 10 Dec 2022   Prob (F-statistic):           5.51e-12\n",
       "Time:                        16:49:59   Log-Likelihood:                 32.471\n",
       "No. Observations:                 164   AIC:                            -56.94\n",
       "Df Residuals:                     160   BIC:                            -44.54\n",
       "Df Model:                           3                                         \n",
       "Covariance Type:            nonrobust                                         \n",
       "===============================================================================\n",
       "                  coef    std err          t      P>|t|      [0.025      0.975]\n",
       "-------------------------------------------------------------------------------\n",
       "Intercept       0.1570      0.050      3.117      0.002       0.058       0.257\n",
       "WHITE_POP      -0.0555      0.082     -0.678      0.499      -0.217       0.106\n",
       "MEAN_INCOME     0.5805      0.086      6.726      0.000       0.410       0.751\n",
       "POPULATION      0.0964      0.071      1.363      0.175      -0.043       0.236\n",
       "==============================================================================\n",
       "Omnibus:                       19.215   Durbin-Watson:                   1.919\n",
       "Prob(Omnibus):                  0.000   Jarque-Bera (JB):               22.567\n",
       "Skew:                           0.796   Prob(JB):                     1.26e-05\n",
       "Kurtosis:                       3.875   Cond. No.                         8.27\n",
       "==============================================================================\n",
       "\n",
       "Notes:\n",
       "[1] Standard Errors assume that the covariance matrix of the errors is correctly specified.\n",
       "\"\"\""
      ]
     },
     "execution_count": 20,
     "metadata": {},
     "output_type": "execute_result"
    }
   ],
   "source": [
    "lm = smf.ols(formula='BIKE_LANE_DENSITY ~ WHITE_POP + MEAN_INCOME + POPULATION',data=data1).fit()\n",
    "lm.summary()"
   ]
  },
  {
   "cell_type": "markdown",
   "id": "4552c401",
   "metadata": {},
   "source": [
    "<b>The p-value is population and white population >0.05 and R-square value is very low."
   ]
  },
  {
   "cell_type": "markdown",
   "id": "a1491f23",
   "metadata": {},
   "source": [
    "#### Transformations"
   ]
  },
  {
   "cell_type": "markdown",
   "id": "35298c22",
   "metadata": {},
   "source": [
    "#### c) Natural Log"
   ]
  },
  {
   "cell_type": "code",
   "execution_count": null,
   "id": "d1e89445",
   "metadata": {},
   "outputs": [],
   "source": []
  },
  {
   "cell_type": "code",
   "execution_count": 31,
   "id": "b6346a80",
   "metadata": {},
   "outputs": [],
   "source": [
    "data1['NLog_POPULATION'] = np.log(np.array(data1['POPULATION'])+1e-9)\n",
    "data1['NLog_BIKE_LANE_DENSITY'] = np.log(np.array(data1['BIKE_LANE_DENSITY'])+1e-9)\n",
    "data1['NLog_MEAN_INCOME'] = np.log(np.array(data1['MEAN_INCOME'])+1e-9)\n",
    "data1['NLog_WHITE_POP'] = np.log(np.array(data1['WHITE_POP'])+1e-9)"
   ]
  },
  {
   "cell_type": "code",
   "execution_count": 32,
   "id": "13197e2e",
   "metadata": {},
   "outputs": [
    {
     "data": {
      "text/html": [
       "<div>\n",
       "<style scoped>\n",
       "    .dataframe tbody tr th:only-of-type {\n",
       "        vertical-align: middle;\n",
       "    }\n",
       "\n",
       "    .dataframe tbody tr th {\n",
       "        vertical-align: top;\n",
       "    }\n",
       "\n",
       "    .dataframe thead th {\n",
       "        text-align: right;\n",
       "    }\n",
       "</style>\n",
       "<table border=\"1\" class=\"dataframe\">\n",
       "  <thead>\n",
       "    <tr style=\"text-align: right;\">\n",
       "      <th></th>\n",
       "      <th>BIKE_LANE_DENSITY</th>\n",
       "      <th>WHITE_POP</th>\n",
       "      <th>MEAN_INCOME</th>\n",
       "      <th>POPULATION</th>\n",
       "      <th>NLog_POPULATION</th>\n",
       "      <th>NLog_BIKE_LANE_DENSITY</th>\n",
       "      <th>NLog_MEAN_INCOME</th>\n",
       "      <th>NLog_WHITE_POP</th>\n",
       "    </tr>\n",
       "    <tr>\n",
       "      <th>ZIPCODE</th>\n",
       "      <th></th>\n",
       "      <th></th>\n",
       "      <th></th>\n",
       "      <th></th>\n",
       "      <th></th>\n",
       "      <th></th>\n",
       "      <th></th>\n",
       "      <th></th>\n",
       "    </tr>\n",
       "  </thead>\n",
       "  <tbody>\n",
       "    <tr>\n",
       "      <th>11213</th>\n",
       "      <td>0.361635</td>\n",
       "      <td>0.243643</td>\n",
       "      <td>0.091930</td>\n",
       "      <td>0.568238</td>\n",
       "      <td>-0.565215</td>\n",
       "      <td>-1.017120</td>\n",
       "      <td>-2.386729</td>\n",
       "      <td>-1.412051</td>\n",
       "    </tr>\n",
       "    <tr>\n",
       "      <th>11212</th>\n",
       "      <td>0.347400</td>\n",
       "      <td>0.074801</td>\n",
       "      <td>0.032257</td>\n",
       "      <td>0.762149</td>\n",
       "      <td>-0.271613</td>\n",
       "      <td>-1.057279</td>\n",
       "      <td>-3.434016</td>\n",
       "      <td>-2.592926</td>\n",
       "    </tr>\n",
       "    <tr>\n",
       "      <th>11225</th>\n",
       "      <td>0.422476</td>\n",
       "      <td>0.268017</td>\n",
       "      <td>0.162572</td>\n",
       "      <td>0.503348</td>\n",
       "      <td>-0.686473</td>\n",
       "      <td>-0.861623</td>\n",
       "      <td>-1.816635</td>\n",
       "      <td>-1.316703</td>\n",
       "    </tr>\n",
       "    <tr>\n",
       "      <th>11218</th>\n",
       "      <td>0.214420</td>\n",
       "      <td>0.562014</td>\n",
       "      <td>0.142317</td>\n",
       "      <td>0.675355</td>\n",
       "      <td>-0.392516</td>\n",
       "      <td>-1.539817</td>\n",
       "      <td>-1.949697</td>\n",
       "      <td>-0.576229</td>\n",
       "    </tr>\n",
       "    <tr>\n",
       "      <th>11226</th>\n",
       "      <td>0.251674</td>\n",
       "      <td>0.127471</td>\n",
       "      <td>0.105284</td>\n",
       "      <td>0.921820</td>\n",
       "      <td>-0.081405</td>\n",
       "      <td>-1.379619</td>\n",
       "      <td>-2.251097</td>\n",
       "      <td>-2.059869</td>\n",
       "    </tr>\n",
       "  </tbody>\n",
       "</table>\n",
       "</div>"
      ],
      "text/plain": [
       "         BIKE_LANE_DENSITY  WHITE_POP  MEAN_INCOME  POPULATION  \\\n",
       "ZIPCODE                                                          \n",
       "11213             0.361635   0.243643     0.091930    0.568238   \n",
       "11212             0.347400   0.074801     0.032257    0.762149   \n",
       "11225             0.422476   0.268017     0.162572    0.503348   \n",
       "11218             0.214420   0.562014     0.142317    0.675355   \n",
       "11226             0.251674   0.127471     0.105284    0.921820   \n",
       "\n",
       "         NLog_POPULATION  NLog_BIKE_LANE_DENSITY  NLog_MEAN_INCOME  \\\n",
       "ZIPCODE                                                              \n",
       "11213          -0.565215               -1.017120         -2.386729   \n",
       "11212          -0.271613               -1.057279         -3.434016   \n",
       "11225          -0.686473               -0.861623         -1.816635   \n",
       "11218          -0.392516               -1.539817         -1.949697   \n",
       "11226          -0.081405               -1.379619         -2.251097   \n",
       "\n",
       "         NLog_WHITE_POP  \n",
       "ZIPCODE                  \n",
       "11213         -1.412051  \n",
       "11212         -2.592926  \n",
       "11225         -1.316703  \n",
       "11218         -0.576229  \n",
       "11226         -2.059869  "
      ]
     },
     "execution_count": 32,
     "metadata": {},
     "output_type": "execute_result"
    }
   ],
   "source": [
    "data1.head()"
   ]
  },
  {
   "cell_type": "code",
   "execution_count": 33,
   "id": "3e0d1a3a",
   "metadata": {},
   "outputs": [],
   "source": [
    "data1=data1.dropna()"
   ]
  },
  {
   "cell_type": "code",
   "execution_count": null,
   "id": "93376495",
   "metadata": {},
   "outputs": [],
   "source": []
  },
  {
   "cell_type": "code",
   "execution_count": 37,
   "id": "ddc15302",
   "metadata": {},
   "outputs": [
    {
     "data": {
      "text/html": [
       "<table class=\"simpletable\">\n",
       "<caption>OLS Regression Results</caption>\n",
       "<tr>\n",
       "  <th>Dep. Variable:</th>    <td>NLog_BIKE_LANE_DENSITY</td> <th>  R-squared (uncentered):</th>      <td>   0.373</td>\n",
       "</tr>\n",
       "<tr>\n",
       "  <th>Model:</th>                      <td>OLS</td>          <th>  Adj. R-squared (uncentered):</th> <td>   0.361</td>\n",
       "</tr>\n",
       "<tr>\n",
       "  <th>Method:</th>                <td>Least Squares</td>     <th>  F-statistic:       </th>          <td>   31.94</td>\n",
       "</tr>\n",
       "<tr>\n",
       "  <th>Date:</th>                <td>Sat, 10 Dec 2022</td>    <th>  Prob (F-statistic):</th>          <td>2.97e-16</td>\n",
       "</tr>\n",
       "<tr>\n",
       "  <th>Time:</th>                    <td>17:02:57</td>        <th>  Log-Likelihood:    </th>          <td> -350.13</td>\n",
       "</tr>\n",
       "<tr>\n",
       "  <th>No. Observations:</th>         <td>   164</td>         <th>  AIC:               </th>          <td>   706.3</td>\n",
       "</tr>\n",
       "<tr>\n",
       "  <th>Df Residuals:</th>             <td>   161</td>         <th>  BIC:               </th>          <td>   715.6</td>\n",
       "</tr>\n",
       "<tr>\n",
       "  <th>Df Model:</th>                 <td>     3</td>         <th>                     </th>              <td> </td>   \n",
       "</tr>\n",
       "<tr>\n",
       "  <th>Covariance Type:</th>         <td>nonrobust</td>       <th>                     </th>              <td> </td>   \n",
       "</tr>\n",
       "</table>\n",
       "<table class=\"simpletable\">\n",
       "<tr>\n",
       "          <td></td>            <th>coef</th>     <th>std err</th>      <th>t</th>      <th>P>|t|</th>  <th>[0.025</th>    <th>0.975]</th>  \n",
       "</tr>\n",
       "<tr>\n",
       "  <th>WHITE_POP</th>        <td>   -1.2559</td> <td>    0.420</td> <td>   -2.987</td> <td> 0.003</td> <td>   -2.086</td> <td>   -0.426</td>\n",
       "</tr>\n",
       "<tr>\n",
       "  <th>NLog_MEAN_INCOME</th> <td>    0.3352</td> <td>    0.068</td> <td>    4.939</td> <td> 0.000</td> <td>    0.201</td> <td>    0.469</td>\n",
       "</tr>\n",
       "<tr>\n",
       "  <th>NLog_POPULATION</th>  <td>    0.1674</td> <td>    0.094</td> <td>    1.779</td> <td> 0.077</td> <td>   -0.018</td> <td>    0.353</td>\n",
       "</tr>\n",
       "</table>\n",
       "<table class=\"simpletable\">\n",
       "<tr>\n",
       "  <th>Omnibus:</th>       <td>221.892</td> <th>  Durbin-Watson:     </th> <td>   1.826</td> \n",
       "</tr>\n",
       "<tr>\n",
       "  <th>Prob(Omnibus):</th> <td> 0.000</td>  <th>  Jarque-Bera (JB):  </th> <td>15606.705</td>\n",
       "</tr>\n",
       "<tr>\n",
       "  <th>Skew:</th>          <td>-5.424</td>  <th>  Prob(JB):          </th> <td>    0.00</td> \n",
       "</tr>\n",
       "<tr>\n",
       "  <th>Kurtosis:</th>      <td>49.543</td>  <th>  Cond. No.          </th> <td>    7.65</td> \n",
       "</tr>\n",
       "</table><br/><br/>Notes:<br/>[1] R² is computed without centering (uncentered) since the model does not contain a constant.<br/>[2] Standard Errors assume that the covariance matrix of the errors is correctly specified."
      ],
      "text/plain": [
       "<class 'statsmodels.iolib.summary.Summary'>\n",
       "\"\"\"\n",
       "                                   OLS Regression Results                                  \n",
       "===========================================================================================\n",
       "Dep. Variable:     NLog_BIKE_LANE_DENSITY   R-squared (uncentered):                   0.373\n",
       "Model:                                OLS   Adj. R-squared (uncentered):              0.361\n",
       "Method:                     Least Squares   F-statistic:                              31.94\n",
       "Date:                    Sat, 10 Dec 2022   Prob (F-statistic):                    2.97e-16\n",
       "Time:                            17:02:57   Log-Likelihood:                         -350.13\n",
       "No. Observations:                     164   AIC:                                      706.3\n",
       "Df Residuals:                         161   BIC:                                      715.6\n",
       "Df Model:                               3                                                  \n",
       "Covariance Type:                nonrobust                                                  \n",
       "====================================================================================\n",
       "                       coef    std err          t      P>|t|      [0.025      0.975]\n",
       "------------------------------------------------------------------------------------\n",
       "WHITE_POP           -1.2559      0.420     -2.987      0.003      -2.086      -0.426\n",
       "NLog_MEAN_INCOME     0.3352      0.068      4.939      0.000       0.201       0.469\n",
       "NLog_POPULATION      0.1674      0.094      1.779      0.077      -0.018       0.353\n",
       "==============================================================================\n",
       "Omnibus:                      221.892   Durbin-Watson:                   1.826\n",
       "Prob(Omnibus):                  0.000   Jarque-Bera (JB):            15606.705\n",
       "Skew:                          -5.424   Prob(JB):                         0.00\n",
       "Kurtosis:                      49.543   Cond. No.                         7.65\n",
       "==============================================================================\n",
       "\n",
       "Notes:\n",
       "[1] R² is computed without centering (uncentered) since the model does not contain a constant.\n",
       "[2] Standard Errors assume that the covariance matrix of the errors is correctly specified.\n",
       "\"\"\""
      ]
     },
     "execution_count": 37,
     "metadata": {},
     "output_type": "execute_result"
    }
   ],
   "source": [
    "lm = smf.ols(formula='NLog_BIKE_LANE_DENSITY ~ WHITE_POP + NLog_MEAN_INCOME + NLog_POPULATION-1',data=data1).fit()\n",
    "lm.summary()"
   ]
  },
  {
   "cell_type": "markdown",
   "id": "381a8321",
   "metadata": {},
   "source": [
    "**a) Log to the base 10 transformation**"
   ]
  },
  {
   "cell_type": "code",
   "execution_count": 116,
   "id": "f783a115",
   "metadata": {},
   "outputs": [],
   "source": [
    "base = 10\n",
    "\n",
    "data1['Log_POPULATION'] = np.log(np.array(data1['POPULATION'])+1e-2)/np.log(base)\n",
    "data1['Log_BIKE_LANE_DENSITY'] = np.log(np.array(data1['BIKE_LANE_DENSITY'])+1e-2)/np.log(base)\n",
    "data1['Log_MEAN_INCOME'] = np.log(np.array(data1['MEAN_INCOME'])+1e-2)/np.log(base)\n",
    "data1['Log_WHITE_POP'] = np.log(np.array(data1['WHITE_POP'])+1e-2)/np.log(base)"
   ]
  },
  {
   "cell_type": "code",
   "execution_count": 117,
   "id": "32b5242f",
   "metadata": {},
   "outputs": [
    {
     "data": {
      "text/html": [
       "<table class=\"simpletable\">\n",
       "<caption>OLS Regression Results</caption>\n",
       "<tr>\n",
       "  <th>Dep. Variable:</th>    <td>Log_BIKE_LANE_DENSITY</td> <th>  R-squared:         </th> <td>   0.187</td>\n",
       "</tr>\n",
       "<tr>\n",
       "  <th>Model:</th>                     <td>OLS</td>          <th>  Adj. R-squared:    </th> <td>   0.170</td>\n",
       "</tr>\n",
       "<tr>\n",
       "  <th>Method:</th>               <td>Least Squares</td>     <th>  F-statistic:       </th> <td>   10.87</td>\n",
       "</tr>\n",
       "<tr>\n",
       "  <th>Date:</th>               <td>Fri, 09 Dec 2022</td>    <th>  Prob (F-statistic):</th> <td>1.80e-06</td>\n",
       "</tr>\n",
       "<tr>\n",
       "  <th>Time:</th>                   <td>23:33:11</td>        <th>  Log-Likelihood:    </th> <td> -69.205</td>\n",
       "</tr>\n",
       "<tr>\n",
       "  <th>No. Observations:</th>        <td>   146</td>         <th>  AIC:               </th> <td>   146.4</td>\n",
       "</tr>\n",
       "<tr>\n",
       "  <th>Df Residuals:</th>            <td>   142</td>         <th>  BIC:               </th> <td>   158.3</td>\n",
       "</tr>\n",
       "<tr>\n",
       "  <th>Df Model:</th>                <td>     3</td>         <th>                     </th>     <td> </td>   \n",
       "</tr>\n",
       "<tr>\n",
       "  <th>Covariance Type:</th>        <td>nonrobust</td>       <th>                     </th>     <td> </td>   \n",
       "</tr>\n",
       "</table>\n",
       "<table class=\"simpletable\">\n",
       "<tr>\n",
       "         <td></td>            <th>coef</th>     <th>std err</th>      <th>t</th>      <th>P>|t|</th>  <th>[0.025</th>    <th>0.975]</th>  \n",
       "</tr>\n",
       "<tr>\n",
       "  <th>Intercept</th>       <td>   -0.1870</td> <td>    0.105</td> <td>   -1.779</td> <td> 0.077</td> <td>   -0.395</td> <td>    0.021</td>\n",
       "</tr>\n",
       "<tr>\n",
       "  <th>Log_WHITE_POP</th>   <td>    0.3330</td> <td>    0.111</td> <td>    3.006</td> <td> 0.003</td> <td>    0.114</td> <td>    0.552</td>\n",
       "</tr>\n",
       "<tr>\n",
       "  <th>Log_MEAN_INCOME</th> <td>    0.2896</td> <td>    0.109</td> <td>    2.666</td> <td> 0.009</td> <td>    0.075</td> <td>    0.504</td>\n",
       "</tr>\n",
       "<tr>\n",
       "  <th>Log_POPULATION</th>  <td>    0.2400</td> <td>    0.101</td> <td>    2.365</td> <td> 0.019</td> <td>    0.039</td> <td>    0.441</td>\n",
       "</tr>\n",
       "</table>\n",
       "<table class=\"simpletable\">\n",
       "<tr>\n",
       "  <th>Omnibus:</th>       <td>20.521</td> <th>  Durbin-Watson:     </th> <td>   1.727</td>\n",
       "</tr>\n",
       "<tr>\n",
       "  <th>Prob(Omnibus):</th> <td> 0.000</td> <th>  Jarque-Bera (JB):  </th> <td>  25.354</td>\n",
       "</tr>\n",
       "<tr>\n",
       "  <th>Skew:</th>          <td>-0.860</td> <th>  Prob(JB):          </th> <td>3.12e-06</td>\n",
       "</tr>\n",
       "<tr>\n",
       "  <th>Kurtosis:</th>      <td> 4.100</td> <th>  Cond. No.          </th> <td>    6.94</td>\n",
       "</tr>\n",
       "</table><br/><br/>Notes:<br/>[1] Standard Errors assume that the covariance matrix of the errors is correctly specified."
      ],
      "text/plain": [
       "<class 'statsmodels.iolib.summary.Summary'>\n",
       "\"\"\"\n",
       "                              OLS Regression Results                             \n",
       "=================================================================================\n",
       "Dep. Variable:     Log_BIKE_LANE_DENSITY   R-squared:                       0.187\n",
       "Model:                               OLS   Adj. R-squared:                  0.170\n",
       "Method:                    Least Squares   F-statistic:                     10.87\n",
       "Date:                   Fri, 09 Dec 2022   Prob (F-statistic):           1.80e-06\n",
       "Time:                           23:33:11   Log-Likelihood:                -69.205\n",
       "No. Observations:                    146   AIC:                             146.4\n",
       "Df Residuals:                        142   BIC:                             158.3\n",
       "Df Model:                              3                                         \n",
       "Covariance Type:               nonrobust                                         \n",
       "===================================================================================\n",
       "                      coef    std err          t      P>|t|      [0.025      0.975]\n",
       "-----------------------------------------------------------------------------------\n",
       "Intercept          -0.1870      0.105     -1.779      0.077      -0.395       0.021\n",
       "Log_WHITE_POP       0.3330      0.111      3.006      0.003       0.114       0.552\n",
       "Log_MEAN_INCOME     0.2896      0.109      2.666      0.009       0.075       0.504\n",
       "Log_POPULATION      0.2400      0.101      2.365      0.019       0.039       0.441\n",
       "==============================================================================\n",
       "Omnibus:                       20.521   Durbin-Watson:                   1.727\n",
       "Prob(Omnibus):                  0.000   Jarque-Bera (JB):               25.354\n",
       "Skew:                          -0.860   Prob(JB):                     3.12e-06\n",
       "Kurtosis:                       4.100   Cond. No.                         6.94\n",
       "==============================================================================\n",
       "\n",
       "Notes:\n",
       "[1] Standard Errors assume that the covariance matrix of the errors is correctly specified.\n",
       "\"\"\""
      ]
     },
     "execution_count": 117,
     "metadata": {},
     "output_type": "execute_result"
    }
   ],
   "source": [
    "lm = smf.ols(formula='Log_BIKE_LANE_DENSITY ~ Log_WHITE_POP + Log_MEAN_INCOME + Log_POPULATION',data=data1).fit()\n",
    "lm.summary()"
   ]
  },
  {
   "cell_type": "markdown",
   "id": "5ecdb553",
   "metadata": {},
   "source": [
    "Let us plot and see the result"
   ]
  },
  {
   "cell_type": "markdown",
   "id": "477e46c8",
   "metadata": {},
   "source": [
    "**b) Root - 2**"
   ]
  },
  {
   "cell_type": "code",
   "execution_count": 118,
   "id": "d984f3b0",
   "metadata": {},
   "outputs": [],
   "source": [
    "root = 2\n",
    "data1['Root_WHITE_POP'] = np.power((np.array(data1['WHITE_POP'])),1/root)\n",
    "data1['Root_BIKE_LANE_DENSITY'] = np.power((np.array(data1['BIKE_LANE_DENSITY'])),1/root)\n",
    "data1['Root_MEAN_INCOME'] = np.power((np.array(data1['MEAN_INCOME'])),1/root)\n",
    "data1['Root_POPULATION'] = np.power((np.array(data1['POPULATION'])),1/root)"
   ]
  },
  {
   "cell_type": "code",
   "execution_count": 119,
   "id": "e3659442",
   "metadata": {},
   "outputs": [
    {
     "data": {
      "text/html": [
       "<table class=\"simpletable\">\n",
       "<caption>OLS Regression Results</caption>\n",
       "<tr>\n",
       "  <th>Dep. Variable:</th>    <td>Root_BIKE_LANE_DENSITY</td> <th>  R-squared:         </th> <td>   0.235</td>\n",
       "</tr>\n",
       "<tr>\n",
       "  <th>Model:</th>                      <td>OLS</td>          <th>  Adj. R-squared:    </th> <td>   0.219</td>\n",
       "</tr>\n",
       "<tr>\n",
       "  <th>Method:</th>                <td>Least Squares</td>     <th>  F-statistic:       </th> <td>   14.56</td>\n",
       "</tr>\n",
       "<tr>\n",
       "  <th>Date:</th>                <td>Fri, 09 Dec 2022</td>    <th>  Prob (F-statistic):</th> <td>2.54e-08</td>\n",
       "</tr>\n",
       "<tr>\n",
       "  <th>Time:</th>                    <td>23:33:11</td>        <th>  Log-Likelihood:    </th> <td>  30.519</td>\n",
       "</tr>\n",
       "<tr>\n",
       "  <th>No. Observations:</th>         <td>   146</td>         <th>  AIC:               </th> <td>  -53.04</td>\n",
       "</tr>\n",
       "<tr>\n",
       "  <th>Df Residuals:</th>             <td>   142</td>         <th>  BIC:               </th> <td>  -41.10</td>\n",
       "</tr>\n",
       "<tr>\n",
       "  <th>Df Model:</th>                 <td>     3</td>         <th>                     </th>     <td> </td>   \n",
       "</tr>\n",
       "<tr>\n",
       "  <th>Covariance Type:</th>         <td>nonrobust</td>       <th>                     </th>     <td> </td>   \n",
       "</tr>\n",
       "</table>\n",
       "<table class=\"simpletable\">\n",
       "<tr>\n",
       "          <td></td>            <th>coef</th>     <th>std err</th>      <th>t</th>      <th>P>|t|</th>  <th>[0.025</th>    <th>0.975]</th>  \n",
       "</tr>\n",
       "<tr>\n",
       "  <th>Intercept</th>        <td>    0.0964</td> <td>    0.087</td> <td>    1.109</td> <td> 0.269</td> <td>   -0.075</td> <td>    0.268</td>\n",
       "</tr>\n",
       "<tr>\n",
       "  <th>Root_WHITE_POP</th>   <td>    0.0866</td> <td>    0.100</td> <td>    0.863</td> <td> 0.390</td> <td>   -0.112</td> <td>    0.285</td>\n",
       "</tr>\n",
       "<tr>\n",
       "  <th>Root_MEAN_INCOME</th> <td>    0.4826</td> <td>    0.100</td> <td>    4.825</td> <td> 0.000</td> <td>    0.285</td> <td>    0.680</td>\n",
       "</tr>\n",
       "<tr>\n",
       "  <th>Root_POPULATION</th>  <td>    0.2216</td> <td>    0.087</td> <td>    2.540</td> <td> 0.012</td> <td>    0.049</td> <td>    0.394</td>\n",
       "</tr>\n",
       "</table>\n",
       "<table class=\"simpletable\">\n",
       "<tr>\n",
       "  <th>Omnibus:</th>       <td> 1.563</td> <th>  Durbin-Watson:     </th> <td>   1.859</td>\n",
       "</tr>\n",
       "<tr>\n",
       "  <th>Prob(Omnibus):</th> <td> 0.458</td> <th>  Jarque-Bera (JB):  </th> <td>   1.156</td>\n",
       "</tr>\n",
       "<tr>\n",
       "  <th>Skew:</th>          <td> 0.191</td> <th>  Prob(JB):          </th> <td>   0.561</td>\n",
       "</tr>\n",
       "<tr>\n",
       "  <th>Kurtosis:</th>      <td> 3.211</td> <th>  Cond. No.          </th> <td>    11.1</td>\n",
       "</tr>\n",
       "</table><br/><br/>Notes:<br/>[1] Standard Errors assume that the covariance matrix of the errors is correctly specified."
      ],
      "text/plain": [
       "<class 'statsmodels.iolib.summary.Summary'>\n",
       "\"\"\"\n",
       "                              OLS Regression Results                              \n",
       "==================================================================================\n",
       "Dep. Variable:     Root_BIKE_LANE_DENSITY   R-squared:                       0.235\n",
       "Model:                                OLS   Adj. R-squared:                  0.219\n",
       "Method:                     Least Squares   F-statistic:                     14.56\n",
       "Date:                    Fri, 09 Dec 2022   Prob (F-statistic):           2.54e-08\n",
       "Time:                            23:33:11   Log-Likelihood:                 30.519\n",
       "No. Observations:                     146   AIC:                            -53.04\n",
       "Df Residuals:                         142   BIC:                            -41.10\n",
       "Df Model:                               3                                         \n",
       "Covariance Type:                nonrobust                                         \n",
       "====================================================================================\n",
       "                       coef    std err          t      P>|t|      [0.025      0.975]\n",
       "------------------------------------------------------------------------------------\n",
       "Intercept            0.0964      0.087      1.109      0.269      -0.075       0.268\n",
       "Root_WHITE_POP       0.0866      0.100      0.863      0.390      -0.112       0.285\n",
       "Root_MEAN_INCOME     0.4826      0.100      4.825      0.000       0.285       0.680\n",
       "Root_POPULATION      0.2216      0.087      2.540      0.012       0.049       0.394\n",
       "==============================================================================\n",
       "Omnibus:                        1.563   Durbin-Watson:                   1.859\n",
       "Prob(Omnibus):                  0.458   Jarque-Bera (JB):                1.156\n",
       "Skew:                           0.191   Prob(JB):                        0.561\n",
       "Kurtosis:                       3.211   Cond. No.                         11.1\n",
       "==============================================================================\n",
       "\n",
       "Notes:\n",
       "[1] Standard Errors assume that the covariance matrix of the errors is correctly specified.\n",
       "\"\"\""
      ]
     },
     "execution_count": 119,
     "metadata": {},
     "output_type": "execute_result"
    }
   ],
   "source": [
    "lm = smf.ols(formula='Root_BIKE_LANE_DENSITY ~ Root_WHITE_POP + Root_MEAN_INCOME + Root_POPULATION',data=data1).fit()\n",
    "lm.summary()"
   ]
  },
  {
   "cell_type": "markdown",
   "id": "5d847937",
   "metadata": {},
   "source": [
    "#### Best Model Currently"
   ]
  },
  {
   "cell_type": "code",
   "execution_count": 120,
   "id": "201a3de5",
   "metadata": {},
   "outputs": [
    {
     "data": {
      "text/html": [
       "<table class=\"simpletable\">\n",
       "<caption>OLS Regression Results</caption>\n",
       "<tr>\n",
       "  <th>Dep. Variable:</th>    <td>Root_BIKE_LANE_DENSITY</td> <th>  R-squared:         </th> <td>   0.251</td>\n",
       "</tr>\n",
       "<tr>\n",
       "  <th>Model:</th>                      <td>OLS</td>          <th>  Adj. R-squared:    </th> <td>   0.235</td>\n",
       "</tr>\n",
       "<tr>\n",
       "  <th>Method:</th>                <td>Least Squares</td>     <th>  F-statistic:       </th> <td>   15.84</td>\n",
       "</tr>\n",
       "<tr>\n",
       "  <th>Date:</th>                <td>Fri, 09 Dec 2022</td>    <th>  Prob (F-statistic):</th> <td>6.13e-09</td>\n",
       "</tr>\n",
       "<tr>\n",
       "  <th>Time:</th>                    <td>23:33:11</td>        <th>  Log-Likelihood:    </th> <td>  32.014</td>\n",
       "</tr>\n",
       "<tr>\n",
       "  <th>No. Observations:</th>         <td>   146</td>         <th>  AIC:               </th> <td>  -56.03</td>\n",
       "</tr>\n",
       "<tr>\n",
       "  <th>Df Residuals:</th>             <td>   142</td>         <th>  BIC:               </th> <td>  -44.09</td>\n",
       "</tr>\n",
       "<tr>\n",
       "  <th>Df Model:</th>                 <td>     3</td>         <th>                     </th>     <td> </td>   \n",
       "</tr>\n",
       "<tr>\n",
       "  <th>Covariance Type:</th>         <td>nonrobust</td>       <th>                     </th>     <td> </td>   \n",
       "</tr>\n",
       "</table>\n",
       "<table class=\"simpletable\">\n",
       "<tr>\n",
       "          <td></td>            <th>coef</th>     <th>std err</th>      <th>t</th>      <th>P>|t|</th>  <th>[0.025</th>    <th>0.975]</th>  \n",
       "</tr>\n",
       "<tr>\n",
       "  <th>Intercept</th>        <td>    0.2153</td> <td>    0.089</td> <td>    2.406</td> <td> 0.017</td> <td>    0.038</td> <td>    0.392</td>\n",
       "</tr>\n",
       "<tr>\n",
       "  <th>Log_WHITE_POP</th>    <td>    0.1056</td> <td>    0.055</td> <td>    1.923</td> <td> 0.057</td> <td>   -0.003</td> <td>    0.214</td>\n",
       "</tr>\n",
       "<tr>\n",
       "  <th>Root_MEAN_INCOME</th> <td>    0.4448</td> <td>    0.093</td> <td>    4.801</td> <td> 0.000</td> <td>    0.262</td> <td>    0.628</td>\n",
       "</tr>\n",
       "<tr>\n",
       "  <th>Root_POPULATION</th>  <td>    0.2203</td> <td>    0.086</td> <td>    2.551</td> <td> 0.012</td> <td>    0.050</td> <td>    0.391</td>\n",
       "</tr>\n",
       "</table>\n",
       "<table class=\"simpletable\">\n",
       "<tr>\n",
       "  <th>Omnibus:</th>       <td> 1.696</td> <th>  Durbin-Watson:     </th> <td>   1.819</td>\n",
       "</tr>\n",
       "<tr>\n",
       "  <th>Prob(Omnibus):</th> <td> 0.428</td> <th>  Jarque-Bera (JB):  </th> <td>   1.253</td>\n",
       "</tr>\n",
       "<tr>\n",
       "  <th>Skew:</th>          <td> 0.182</td> <th>  Prob(JB):          </th> <td>   0.535</td>\n",
       "</tr>\n",
       "<tr>\n",
       "  <th>Kurtosis:</th>      <td> 3.271</td> <th>  Cond. No.          </th> <td>    11.3</td>\n",
       "</tr>\n",
       "</table><br/><br/>Notes:<br/>[1] Standard Errors assume that the covariance matrix of the errors is correctly specified."
      ],
      "text/plain": [
       "<class 'statsmodels.iolib.summary.Summary'>\n",
       "\"\"\"\n",
       "                              OLS Regression Results                              \n",
       "==================================================================================\n",
       "Dep. Variable:     Root_BIKE_LANE_DENSITY   R-squared:                       0.251\n",
       "Model:                                OLS   Adj. R-squared:                  0.235\n",
       "Method:                     Least Squares   F-statistic:                     15.84\n",
       "Date:                    Fri, 09 Dec 2022   Prob (F-statistic):           6.13e-09\n",
       "Time:                            23:33:11   Log-Likelihood:                 32.014\n",
       "No. Observations:                     146   AIC:                            -56.03\n",
       "Df Residuals:                         142   BIC:                            -44.09\n",
       "Df Model:                               3                                         \n",
       "Covariance Type:                nonrobust                                         \n",
       "====================================================================================\n",
       "                       coef    std err          t      P>|t|      [0.025      0.975]\n",
       "------------------------------------------------------------------------------------\n",
       "Intercept            0.2153      0.089      2.406      0.017       0.038       0.392\n",
       "Log_WHITE_POP        0.1056      0.055      1.923      0.057      -0.003       0.214\n",
       "Root_MEAN_INCOME     0.4448      0.093      4.801      0.000       0.262       0.628\n",
       "Root_POPULATION      0.2203      0.086      2.551      0.012       0.050       0.391\n",
       "==============================================================================\n",
       "Omnibus:                        1.696   Durbin-Watson:                   1.819\n",
       "Prob(Omnibus):                  0.428   Jarque-Bera (JB):                1.253\n",
       "Skew:                           0.182   Prob(JB):                        0.535\n",
       "Kurtosis:                       3.271   Cond. No.                         11.3\n",
       "==============================================================================\n",
       "\n",
       "Notes:\n",
       "[1] Standard Errors assume that the covariance matrix of the errors is correctly specified.\n",
       "\"\"\""
      ]
     },
     "execution_count": 120,
     "metadata": {},
     "output_type": "execute_result"
    }
   ],
   "source": [
    "lm = smf.ols(formula='Root_BIKE_LANE_DENSITY ~ Log_WHITE_POP + Root_MEAN_INCOME + Root_POPULATION',data=data1).fit()\n",
    "lm.summary()"
   ]
  },
  {
   "cell_type": "markdown",
   "id": "c36081b6",
   "metadata": {},
   "source": [
    "L=[]\n",
    "tran=[\"Log_\",\"Root_\"]\n",
    "\n",
    "for i in tran:\n",
    "    for j in tran:\n",
    "        for k in tran:\n",
    "            for l in tran:\n",
    "                lm = smf.ols(formula='{}BIKE_LANE_DENSITY ~ {}Root_WHITE_POP + {}Root_MEAN_INCOME + {}Root_POPULATION'.format(i,j,k,l),data=data1).fit()\n",
    "                L.append([i,j,k,l,lm.rsquared_adj,[lm.pvalues]])\n",
    "                \n",
    "L"
   ]
  },
  {
   "cell_type": "code",
   "execution_count": 121,
   "id": "1caee5fa",
   "metadata": {
    "scrolled": true
   },
   "outputs": [
    {
     "data": {
      "text/html": [
       "<table class=\"simpletable\">\n",
       "<caption>OLS Regression Results</caption>\n",
       "<tr>\n",
       "  <th>Dep. Variable:</th>    <td>Log_BIKE_LANE_DENSITY</td> <th>  R-squared:         </th> <td>   0.207</td>\n",
       "</tr>\n",
       "<tr>\n",
       "  <th>Model:</th>                     <td>OLS</td>          <th>  Adj. R-squared:    </th> <td>   0.190</td>\n",
       "</tr>\n",
       "<tr>\n",
       "  <th>Method:</th>               <td>Least Squares</td>     <th>  F-statistic:       </th> <td>   12.33</td>\n",
       "</tr>\n",
       "<tr>\n",
       "  <th>Date:</th>               <td>Fri, 09 Dec 2022</td>    <th>  Prob (F-statistic):</th> <td>3.24e-07</td>\n",
       "</tr>\n",
       "<tr>\n",
       "  <th>Time:</th>                   <td>23:33:11</td>        <th>  Log-Likelihood:    </th> <td> -67.391</td>\n",
       "</tr>\n",
       "<tr>\n",
       "  <th>No. Observations:</th>        <td>   146</td>         <th>  AIC:               </th> <td>   142.8</td>\n",
       "</tr>\n",
       "<tr>\n",
       "  <th>Df Residuals:</th>            <td>   142</td>         <th>  BIC:               </th> <td>   154.7</td>\n",
       "</tr>\n",
       "<tr>\n",
       "  <th>Df Model:</th>                <td>     3</td>         <th>                     </th>     <td> </td>   \n",
       "</tr>\n",
       "<tr>\n",
       "  <th>Covariance Type:</th>        <td>nonrobust</td>       <th>                     </th>     <td> </td>   \n",
       "</tr>\n",
       "</table>\n",
       "<table class=\"simpletable\">\n",
       "<tr>\n",
       "          <td></td>            <th>coef</th>     <th>std err</th>      <th>t</th>      <th>P>|t|</th>  <th>[0.025</th>    <th>0.975]</th>  \n",
       "</tr>\n",
       "<tr>\n",
       "  <th>Intercept</th>        <td>   -1.5104</td> <td>    0.170</td> <td>   -8.888</td> <td> 0.000</td> <td>   -1.846</td> <td>   -1.174</td>\n",
       "</tr>\n",
       "<tr>\n",
       "  <th>Root_WHITE_POP</th>   <td>    0.3051</td> <td>    0.196</td> <td>    1.555</td> <td> 0.122</td> <td>   -0.083</td> <td>    0.693</td>\n",
       "</tr>\n",
       "<tr>\n",
       "  <th>Root_MEAN_INCOME</th> <td>    0.7520</td> <td>    0.196</td> <td>    3.844</td> <td> 0.000</td> <td>    0.365</td> <td>    1.139</td>\n",
       "</tr>\n",
       "<tr>\n",
       "  <th>Root_POPULATION</th>  <td>    0.5130</td> <td>    0.171</td> <td>    3.007</td> <td> 0.003</td> <td>    0.176</td> <td>    0.850</td>\n",
       "</tr>\n",
       "</table>\n",
       "<table class=\"simpletable\">\n",
       "<tr>\n",
       "  <th>Omnibus:</th>       <td>16.530</td> <th>  Durbin-Watson:     </th> <td>   1.764</td>\n",
       "</tr>\n",
       "<tr>\n",
       "  <th>Prob(Omnibus):</th> <td> 0.000</td> <th>  Jarque-Bera (JB):  </th> <td>  19.067</td>\n",
       "</tr>\n",
       "<tr>\n",
       "  <th>Skew:</th>          <td>-0.753</td> <th>  Prob(JB):          </th> <td>7.24e-05</td>\n",
       "</tr>\n",
       "<tr>\n",
       "  <th>Kurtosis:</th>      <td> 3.930</td> <th>  Cond. No.          </th> <td>    11.1</td>\n",
       "</tr>\n",
       "</table><br/><br/>Notes:<br/>[1] Standard Errors assume that the covariance matrix of the errors is correctly specified."
      ],
      "text/plain": [
       "<class 'statsmodels.iolib.summary.Summary'>\n",
       "\"\"\"\n",
       "                              OLS Regression Results                             \n",
       "=================================================================================\n",
       "Dep. Variable:     Log_BIKE_LANE_DENSITY   R-squared:                       0.207\n",
       "Model:                               OLS   Adj. R-squared:                  0.190\n",
       "Method:                    Least Squares   F-statistic:                     12.33\n",
       "Date:                   Fri, 09 Dec 2022   Prob (F-statistic):           3.24e-07\n",
       "Time:                           23:33:11   Log-Likelihood:                -67.391\n",
       "No. Observations:                    146   AIC:                             142.8\n",
       "Df Residuals:                        142   BIC:                             154.7\n",
       "Df Model:                              3                                         \n",
       "Covariance Type:               nonrobust                                         \n",
       "====================================================================================\n",
       "                       coef    std err          t      P>|t|      [0.025      0.975]\n",
       "------------------------------------------------------------------------------------\n",
       "Intercept           -1.5104      0.170     -8.888      0.000      -1.846      -1.174\n",
       "Root_WHITE_POP       0.3051      0.196      1.555      0.122      -0.083       0.693\n",
       "Root_MEAN_INCOME     0.7520      0.196      3.844      0.000       0.365       1.139\n",
       "Root_POPULATION      0.5130      0.171      3.007      0.003       0.176       0.850\n",
       "==============================================================================\n",
       "Omnibus:                       16.530   Durbin-Watson:                   1.764\n",
       "Prob(Omnibus):                  0.000   Jarque-Bera (JB):               19.067\n",
       "Skew:                          -0.753   Prob(JB):                     7.24e-05\n",
       "Kurtosis:                       3.930   Cond. No.                         11.1\n",
       "==============================================================================\n",
       "\n",
       "Notes:\n",
       "[1] Standard Errors assume that the covariance matrix of the errors is correctly specified.\n",
       "\"\"\""
      ]
     },
     "execution_count": 121,
     "metadata": {},
     "output_type": "execute_result"
    }
   ],
   "source": [
    "lm = smf.ols(formula='Log_BIKE_LANE_DENSITY ~ Root_WHITE_POP + Root_MEAN_INCOME + Root_POPULATION',data=data1).fit()\n",
    "lm.summary()"
   ]
  },
  {
   "cell_type": "code",
   "execution_count": 122,
   "id": "1f465669",
   "metadata": {},
   "outputs": [
    {
     "data": {
      "text/plain": [
       "0.20667852694114996"
      ]
     },
     "execution_count": 122,
     "metadata": {},
     "output_type": "execute_result"
    }
   ],
   "source": [
    "lm.rsquared"
   ]
  },
  {
   "cell_type": "code",
   "execution_count": 123,
   "id": "1accdb2a",
   "metadata": {},
   "outputs": [
    {
     "data": {
      "text/plain": [
       "Intercept           2.534931e-15\n",
       "Root_WHITE_POP      1.221801e-01\n",
       "Root_MEAN_INCOME    1.818222e-04\n",
       "Root_POPULATION     3.123461e-03\n",
       "dtype: float64"
      ]
     },
     "execution_count": 123,
     "metadata": {},
     "output_type": "execute_result"
    }
   ],
   "source": [
    "lm.pvalues"
   ]
  },
  {
   "cell_type": "markdown",
   "id": "a40d0cf6",
   "metadata": {},
   "source": [
    "### Decision Tree"
   ]
  },
  {
   "cell_type": "code",
   "execution_count": 38,
   "id": "b1834e66",
   "metadata": {},
   "outputs": [
    {
     "data": {
      "text/plain": [
       "{'ccp_alpha': 0.01,\n",
       " 'criterion': 'absolute_error',\n",
       " 'max_depth': 2,\n",
       " 'max_features': 'auto',\n",
       " 'min_samples_leaf': 5,\n",
       " 'random_state': 123,\n",
       " 'splitter': 'best'}"
      ]
     },
     "execution_count": 38,
     "metadata": {},
     "output_type": "execute_result"
    }
   ],
   "source": [
    "param_grid_dtr = {'random_state':[123],'min_samples_leaf':[5, 10, 20, 50, 100],'max_depth':[2, 3, 5, 10, 20],'splitter':['best'],'criterion':['squared_error','friedman_mse','absolute_error','poisson'],'max_features':['auto','sqrt','log2'],'ccp_alpha':[1e-2,1e-1,1]}\n",
    "dtr=DecisionTreeRegressor()\n",
    "\n",
    "gr=GridSearchCV(dtr,param_grid=param_grid_dtr,cv=5)\n",
    "\n",
    "gr.fit(data1[[\"WHITE_POP\",\"NLog_MEAN_INCOME\",\"NLog_POPULATION\"]],np.array(data1[\"NLog_BIKE_LANE_DENSITY\"]).reshape(-1,1))\n",
    "\n",
    "gr.best_params_"
   ]
  },
  {
   "cell_type": "code",
   "execution_count": 40,
   "id": "85e301a8",
   "metadata": {},
   "outputs": [
    {
     "data": {
      "text/plain": [
       "0.06747350546048281"
      ]
     },
     "execution_count": 40,
     "metadata": {},
     "output_type": "execute_result"
    }
   ],
   "source": [
    "y_train=np.array(data1[\"NLog_BIKE_LANE_DENSITY\"]).reshape(-1,1)\n",
    "y_train_pred = gr.predict(data1[[\"WHITE_POP\",\"NLog_MEAN_INCOME\",\"NLog_POPULATION\"]])\n",
    "\n",
    "r2_score(y_train, y_train_pred)"
   ]
  },
  {
   "cell_type": "markdown",
   "id": "655f0578",
   "metadata": {},
   "source": [
    "#### Random Forest"
   ]
  },
  {
   "cell_type": "code",
   "execution_count": 41,
   "id": "9f25016b",
   "metadata": {},
   "outputs": [],
   "source": [
    "param_grid_rfr={'n_estimators':[2000],'criterion':['squared_error','poisson'],'max_features':[None],'ccp_alpha':[1e-2,1e-3]}\n",
    "#param_grid_rfr = {'ccp_alpha':[1,1e-1],'criterion': ['squared_error','absolute_error'],'max_features': ['sqrt'],'n_estimators': [2000]}"
   ]
  },
  {
   "cell_type": "code",
   "execution_count": 42,
   "id": "329b3cec",
   "metadata": {},
   "outputs": [
    {
     "data": {
      "text/plain": [
       "{'ccp_alpha': 0.01,\n",
       " 'criterion': 'squared_error',\n",
       " 'max_features': None,\n",
       " 'n_estimators': 2000}"
      ]
     },
     "execution_count": 42,
     "metadata": {},
     "output_type": "execute_result"
    }
   ],
   "source": [
    "rfr = RandomForestRegressor()\n",
    "\n",
    "gr=GridSearchCV(rfr,param_grid=param_grid_rfr,cv=5)\n",
    "#gr=GridSearchCV(rfr,param_grid=param_grid_rfr,cv=5,verbose=2)\n",
    "#gr =GridSearchCV(gbr,param_grid=param_grid_gbr,cv=5,verbose=1)\n",
    "gr.fit(data1[[\"WHITE_POP\",\"NLog_MEAN_INCOME\",\"NLog_POPULATION\"]],np.array(data1[\"NLog_BIKE_LANE_DENSITY\"]).reshape(-1,1))                  \n",
    "\n",
    "#Output the best parameter\n",
    "gr.best_params_"
   ]
  },
  {
   "cell_type": "code",
   "execution_count": 43,
   "id": "3edc837a",
   "metadata": {},
   "outputs": [
    {
     "data": {
      "text/plain": [
       "0.8422257263534687"
      ]
     },
     "execution_count": 43,
     "metadata": {},
     "output_type": "execute_result"
    }
   ],
   "source": [
    "y_train=np.array(data1[\"NLog_BIKE_LANE_DENSITY\"]).reshape(-1,1)\n",
    "y_train_pred = gr.predict(data1[[\"WHITE_POP\",\"NLog_MEAN_INCOME\",\"NLog_POPULATION\"]])\n",
    "\n",
    "r2_score(y_train, y_train_pred)"
   ]
  },
  {
   "cell_type": "code",
   "execution_count": 48,
   "id": "ea52c872",
   "metadata": {},
   "outputs": [
    {
     "data": {
      "text/html": [
       "<style>#sk-container-id-1 {color: black;background-color: white;}#sk-container-id-1 pre{padding: 0;}#sk-container-id-1 div.sk-toggleable {background-color: white;}#sk-container-id-1 label.sk-toggleable__label {cursor: pointer;display: block;width: 100%;margin-bottom: 0;padding: 0.3em;box-sizing: border-box;text-align: center;}#sk-container-id-1 label.sk-toggleable__label-arrow:before {content: \"▸\";float: left;margin-right: 0.25em;color: #696969;}#sk-container-id-1 label.sk-toggleable__label-arrow:hover:before {color: black;}#sk-container-id-1 div.sk-estimator:hover label.sk-toggleable__label-arrow:before {color: black;}#sk-container-id-1 div.sk-toggleable__content {max-height: 0;max-width: 0;overflow: hidden;text-align: left;background-color: #f0f8ff;}#sk-container-id-1 div.sk-toggleable__content pre {margin: 0.2em;color: black;border-radius: 0.25em;background-color: #f0f8ff;}#sk-container-id-1 input.sk-toggleable__control:checked~div.sk-toggleable__content {max-height: 200px;max-width: 100%;overflow: auto;}#sk-container-id-1 input.sk-toggleable__control:checked~label.sk-toggleable__label-arrow:before {content: \"▾\";}#sk-container-id-1 div.sk-estimator input.sk-toggleable__control:checked~label.sk-toggleable__label {background-color: #d4ebff;}#sk-container-id-1 div.sk-label input.sk-toggleable__control:checked~label.sk-toggleable__label {background-color: #d4ebff;}#sk-container-id-1 input.sk-hidden--visually {border: 0;clip: rect(1px 1px 1px 1px);clip: rect(1px, 1px, 1px, 1px);height: 1px;margin: -1px;overflow: hidden;padding: 0;position: absolute;width: 1px;}#sk-container-id-1 div.sk-estimator {font-family: monospace;background-color: #f0f8ff;border: 1px dotted black;border-radius: 0.25em;box-sizing: border-box;margin-bottom: 0.5em;}#sk-container-id-1 div.sk-estimator:hover {background-color: #d4ebff;}#sk-container-id-1 div.sk-parallel-item::after {content: \"\";width: 100%;border-bottom: 1px solid gray;flex-grow: 1;}#sk-container-id-1 div.sk-label:hover label.sk-toggleable__label {background-color: #d4ebff;}#sk-container-id-1 div.sk-serial::before {content: \"\";position: absolute;border-left: 1px solid gray;box-sizing: border-box;top: 0;bottom: 0;left: 50%;z-index: 0;}#sk-container-id-1 div.sk-serial {display: flex;flex-direction: column;align-items: center;background-color: white;padding-right: 0.2em;padding-left: 0.2em;position: relative;}#sk-container-id-1 div.sk-item {position: relative;z-index: 1;}#sk-container-id-1 div.sk-parallel {display: flex;align-items: stretch;justify-content: center;background-color: white;position: relative;}#sk-container-id-1 div.sk-item::before, #sk-container-id-1 div.sk-parallel-item::before {content: \"\";position: absolute;border-left: 1px solid gray;box-sizing: border-box;top: 0;bottom: 0;left: 50%;z-index: -1;}#sk-container-id-1 div.sk-parallel-item {display: flex;flex-direction: column;z-index: 1;position: relative;background-color: white;}#sk-container-id-1 div.sk-parallel-item:first-child::after {align-self: flex-end;width: 50%;}#sk-container-id-1 div.sk-parallel-item:last-child::after {align-self: flex-start;width: 50%;}#sk-container-id-1 div.sk-parallel-item:only-child::after {width: 0;}#sk-container-id-1 div.sk-dashed-wrapped {border: 1px dashed gray;margin: 0 0.4em 0.5em 0.4em;box-sizing: border-box;padding-bottom: 0.4em;background-color: white;}#sk-container-id-1 div.sk-label label {font-family: monospace;font-weight: bold;display: inline-block;line-height: 1.2em;}#sk-container-id-1 div.sk-label-container {text-align: center;}#sk-container-id-1 div.sk-container {/* jupyter's `normalize.less` sets `[hidden] { display: none; }` but bootstrap.min.css set `[hidden] { display: none !important; }` so we also need the `!important` here to be able to override the default hidden behavior on the sphinx rendered scikit-learn.org. See: https://github.com/scikit-learn/scikit-learn/issues/21755 */display: inline-block !important;position: relative;}#sk-container-id-1 div.sk-text-repr-fallback {display: none;}</style><div id=\"sk-container-id-1\" class=\"sk-top-container\"><div class=\"sk-text-repr-fallback\"><pre>RandomForestRegressor(ccp_alpha=0.01, max_features=None, n_estimators=2000)</pre><b>In a Jupyter environment, please rerun this cell to show the HTML representation or trust the notebook. <br />On GitHub, the HTML representation is unable to render, please try loading this page with nbviewer.org.</b></div><div class=\"sk-container\" hidden><div class=\"sk-item\"><div class=\"sk-estimator sk-toggleable\"><input class=\"sk-toggleable__control sk-hidden--visually\" id=\"sk-estimator-id-1\" type=\"checkbox\" checked><label for=\"sk-estimator-id-1\" class=\"sk-toggleable__label sk-toggleable__label-arrow\">RandomForestRegressor</label><div class=\"sk-toggleable__content\"><pre>RandomForestRegressor(ccp_alpha=0.01, max_features=None, n_estimators=2000)</pre></div></div></div></div></div>"
      ],
      "text/plain": [
       "RandomForestRegressor(ccp_alpha=0.01, max_features=None, n_estimators=2000)"
      ]
     },
     "execution_count": 48,
     "metadata": {},
     "output_type": "execute_result"
    }
   ],
   "source": [
    "rfr=RandomForestRegressor(ccp_alpha= 0.01,\n",
    " criterion= 'squared_error',\n",
    " max_features= None,\n",
    " n_estimators= 2000)\n",
    "rfr.fit(data1[[\"WHITE_POP\",\"NLog_MEAN_INCOME\",\"NLog_POPULATION\"]],np.array(data1[\"NLog_BIKE_LANE_DENSITY\"]).reshape(-1,1))"
   ]
  },
  {
   "cell_type": "code",
   "execution_count": 49,
   "id": "1f3cc591",
   "metadata": {},
   "outputs": [
    {
     "data": {
      "text/plain": [
       "0.8352785770485156"
      ]
     },
     "execution_count": 49,
     "metadata": {},
     "output_type": "execute_result"
    }
   ],
   "source": [
    "y_train=np.array(data1[\"NLog_BIKE_LANE_DENSITY\"]).reshape(-1,1)\n",
    "y_train_pred = rfr.predict(data1[[\"WHITE_POP\",\"NLog_MEAN_INCOME\",\"NLog_POPULATION\"]])\n",
    "\n",
    "r2_score(y_train, y_train_pred)"
   ]
  },
  {
   "cell_type": "code",
   "execution_count": 50,
   "id": "78a30b3e",
   "metadata": {},
   "outputs": [
    {
     "data": {
      "text/plain": [
       "array([0.29689792, 0.29645034, 0.40665174])"
      ]
     },
     "execution_count": 50,
     "metadata": {},
     "output_type": "execute_result"
    }
   ],
   "source": [
    "rfr.feature_importances_"
   ]
  },
  {
   "cell_type": "code",
   "execution_count": null,
   "id": "365413d9",
   "metadata": {},
   "outputs": [],
   "source": []
  }
 ],
 "metadata": {
  "kernelspec": {
   "display_name": "Python 3 (ipykernel)",
   "language": "python",
   "name": "python3"
  },
  "language_info": {
   "codemirror_mode": {
    "name": "ipython",
    "version": 3
   },
   "file_extension": ".py",
   "mimetype": "text/x-python",
   "name": "python",
   "nbconvert_exporter": "python",
   "pygments_lexer": "ipython3",
   "version": "3.10.6"
  }
 },
 "nbformat": 4,
 "nbformat_minor": 5
}
