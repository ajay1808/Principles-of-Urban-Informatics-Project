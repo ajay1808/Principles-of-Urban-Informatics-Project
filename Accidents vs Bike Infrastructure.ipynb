{
 "cells": [
  {
   "cell_type": "code",
   "execution_count": 1,
   "id": "36f47374",
   "metadata": {},
   "outputs": [],
   "source": [
    "import pandas as pd\n",
    "import numpy as np\n",
    "import statsmodels.formula.api as smf\n",
    "from matplotlib import pyplot as plt \n",
    "from IPython.display import Markdown as md"
   ]
  },
  {
   "cell_type": "code",
   "execution_count": 2,
   "id": "c8bb6930",
   "metadata": {},
   "outputs": [],
   "source": [
    "data = pd.read_csv('Features_Zipcode_Final.csv')"
   ]
  },
  {
   "cell_type": "code",
   "execution_count": 3,
   "id": "ab388a91",
   "metadata": {
    "scrolled": true
   },
   "outputs": [
    {
     "data": {
      "text/html": [
       "<div>\n",
       "<style scoped>\n",
       "    .dataframe tbody tr th:only-of-type {\n",
       "        vertical-align: middle;\n",
       "    }\n",
       "\n",
       "    .dataframe tbody tr th {\n",
       "        vertical-align: top;\n",
       "    }\n",
       "\n",
       "    .dataframe thead th {\n",
       "        text-align: right;\n",
       "    }\n",
       "</style>\n",
       "<table border=\"1\" class=\"dataframe\">\n",
       "  <thead>\n",
       "    <tr style=\"text-align: right;\">\n",
       "      <th></th>\n",
       "      <th>ZIPCODE</th>\n",
       "      <th>TOTAL STREET LENGTH</th>\n",
       "      <th>TOTAL BIKE LANE LENGTH</th>\n",
       "      <th>BIKE LANE DENSITY</th>\n",
       "      <th>NUM_DOCKS_AVAILABLE</th>\n",
       "      <th>TRIPS</th>\n",
       "      <th>NORMALIZED ACCIDENT COUNT</th>\n",
       "      <th>WHITE_POP %</th>\n",
       "      <th>POPULATION</th>\n",
       "      <th>ACCIDENT COUNT</th>\n",
       "      <th>MEAN INCOME</th>\n",
       "    </tr>\n",
       "  </thead>\n",
       "  <tbody>\n",
       "    <tr>\n",
       "      <th>0</th>\n",
       "      <td>11436</td>\n",
       "      <td>NaN</td>\n",
       "      <td>NaN</td>\n",
       "      <td>NaN</td>\n",
       "      <td>NaN</td>\n",
       "      <td>8192.653036</td>\n",
       "      <td>0.378388</td>\n",
       "      <td>7.031032</td>\n",
       "      <td>17949.0</td>\n",
       "      <td>31.0</td>\n",
       "      <td>29271.0</td>\n",
       "    </tr>\n",
       "    <tr>\n",
       "      <th>1</th>\n",
       "      <td>11213</td>\n",
       "      <td>146367.805288</td>\n",
       "      <td>28632.146155</td>\n",
       "      <td>0.195618</td>\n",
       "      <td>NaN</td>\n",
       "      <td>780.000000</td>\n",
       "      <td>45.128205</td>\n",
       "      <td>28.880142</td>\n",
       "      <td>63767.0</td>\n",
       "      <td>352.0</td>\n",
       "      <td>29216.0</td>\n",
       "    </tr>\n",
       "    <tr>\n",
       "      <th>2</th>\n",
       "      <td>11212</td>\n",
       "      <td>215912.786687</td>\n",
       "      <td>40575.901547</td>\n",
       "      <td>0.187927</td>\n",
       "      <td>NaN</td>\n",
       "      <td>87326.231788</td>\n",
       "      <td>0.381329</td>\n",
       "      <td>11.172781</td>\n",
       "      <td>84500.0</td>\n",
       "      <td>333.0</td>\n",
       "      <td>20958.0</td>\n",
       "    </tr>\n",
       "    <tr>\n",
       "      <th>3</th>\n",
       "      <td>11225</td>\n",
       "      <td>114141.251961</td>\n",
       "      <td>26079.822125</td>\n",
       "      <td>0.228487</td>\n",
       "      <td>149.0</td>\n",
       "      <td>6879.000000</td>\n",
       "      <td>4.564617</td>\n",
       "      <td>31.436415</td>\n",
       "      <td>56829.0</td>\n",
       "      <td>314.0</td>\n",
       "      <td>38992.0</td>\n",
       "    </tr>\n",
       "    <tr>\n",
       "      <th>4</th>\n",
       "      <td>11218</td>\n",
       "      <td>208355.389994</td>\n",
       "      <td>24186.845000</td>\n",
       "      <td>0.116085</td>\n",
       "      <td>23.0</td>\n",
       "      <td>1186.000000</td>\n",
       "      <td>28.667791</td>\n",
       "      <td>62.269343</td>\n",
       "      <td>75220.0</td>\n",
       "      <td>340.0</td>\n",
       "      <td>36189.0</td>\n",
       "    </tr>\n",
       "  </tbody>\n",
       "</table>\n",
       "</div>"
      ],
      "text/plain": [
       "   ZIPCODE  TOTAL STREET LENGTH  TOTAL BIKE LANE LENGTH  BIKE LANE DENSITY  \\\n",
       "0    11436                  NaN                     NaN                NaN   \n",
       "1    11213        146367.805288            28632.146155           0.195618   \n",
       "2    11212        215912.786687            40575.901547           0.187927   \n",
       "3    11225        114141.251961            26079.822125           0.228487   \n",
       "4    11218        208355.389994            24186.845000           0.116085   \n",
       "\n",
       "   NUM_DOCKS_AVAILABLE         TRIPS  NORMALIZED ACCIDENT COUNT  WHITE_POP %  \\\n",
       "0                  NaN   8192.653036                   0.378388     7.031032   \n",
       "1                  NaN    780.000000                  45.128205    28.880142   \n",
       "2                  NaN  87326.231788                   0.381329    11.172781   \n",
       "3                149.0   6879.000000                   4.564617    31.436415   \n",
       "4                 23.0   1186.000000                  28.667791    62.269343   \n",
       "\n",
       "   POPULATION  ACCIDENT COUNT  MEAN INCOME  \n",
       "0     17949.0            31.0      29271.0  \n",
       "1     63767.0           352.0      29216.0  \n",
       "2     84500.0           333.0      20958.0  \n",
       "3     56829.0           314.0      38992.0  \n",
       "4     75220.0           340.0      36189.0  "
      ]
     },
     "execution_count": 3,
     "metadata": {},
     "output_type": "execute_result"
    }
   ],
   "source": [
    "data.head()"
   ]
  },
  {
   "cell_type": "code",
   "execution_count": 4,
   "id": "3352e25c",
   "metadata": {},
   "outputs": [
    {
     "name": "stdout",
     "output_type": "stream",
     "text": [
      "<class 'pandas.core.frame.DataFrame'>\n",
      "RangeIndex: 248 entries, 0 to 247\n",
      "Data columns (total 11 columns):\n",
      " #   Column                     Non-Null Count  Dtype  \n",
      "---  ------                     --------------  -----  \n",
      " 0   ZIPCODE                    248 non-null    int64  \n",
      " 1   TOTAL STREET LENGTH        178 non-null    float64\n",
      " 2   TOTAL BIKE LANE LENGTH     178 non-null    float64\n",
      " 3   BIKE LANE DENSITY          178 non-null    float64\n",
      " 4   NUM_DOCKS_AVAILABLE        54 non-null     float64\n",
      " 5   TRIPS                      248 non-null    float64\n",
      " 6   NORMALIZED ACCIDENT COUNT  248 non-null    float64\n",
      " 7   WHITE_POP %                209 non-null    float64\n",
      " 8   POPULATION                 209 non-null    float64\n",
      " 9   ACCIDENT COUNT             248 non-null    float64\n",
      " 10  MEAN INCOME                183 non-null    float64\n",
      "dtypes: float64(10), int64(1)\n",
      "memory usage: 21.4 KB\n"
     ]
    }
   ],
   "source": [
    "data.info()"
   ]
  },
  {
   "cell_type": "code",
   "execution_count": 5,
   "id": "a9fd2b18",
   "metadata": {},
   "outputs": [
    {
     "data": {
      "text/plain": [
       "(248, 11)"
      ]
     },
     "execution_count": 5,
     "metadata": {},
     "output_type": "execute_result"
    }
   ],
   "source": [
    "data.shape"
   ]
  },
  {
   "cell_type": "code",
   "execution_count": 6,
   "id": "e1e9a874",
   "metadata": {},
   "outputs": [
    {
     "data": {
      "text/plain": [
       "(178, 2)"
      ]
     },
     "execution_count": 6,
     "metadata": {},
     "output_type": "execute_result"
    }
   ],
   "source": [
    "mean = data[['BIKE LANE DENSITY']].dropna().mean()\n",
    "\n",
    "data1 = data[['ZIPCODE','BIKE LANE DENSITY','NORMALIZED ACCIDENT COUNT']].set_index('ZIPCODE',drop=True).dropna()\n",
    "data1.columns = data1.columns.str.replace(' ', '_')\n",
    "data1.shape"
   ]
  },
  {
   "cell_type": "code",
   "execution_count": 7,
   "id": "e517f6e2",
   "metadata": {},
   "outputs": [
    {
     "data": {
      "text/html": [
       "<div>\n",
       "<style scoped>\n",
       "    .dataframe tbody tr th:only-of-type {\n",
       "        vertical-align: middle;\n",
       "    }\n",
       "\n",
       "    .dataframe tbody tr th {\n",
       "        vertical-align: top;\n",
       "    }\n",
       "\n",
       "    .dataframe thead th {\n",
       "        text-align: right;\n",
       "    }\n",
       "</style>\n",
       "<table border=\"1\" class=\"dataframe\">\n",
       "  <thead>\n",
       "    <tr style=\"text-align: right;\">\n",
       "      <th></th>\n",
       "      <th>BIKE_LANE_DENSITY</th>\n",
       "      <th>NORMALIZED_ACCIDENT_COUNT</th>\n",
       "    </tr>\n",
       "  </thead>\n",
       "  <tbody>\n",
       "    <tr>\n",
       "      <th>count</th>\n",
       "      <td>178.000000</td>\n",
       "      <td>178.000000</td>\n",
       "    </tr>\n",
       "    <tr>\n",
       "      <th>mean</th>\n",
       "      <td>0.176869</td>\n",
       "      <td>5.509394</td>\n",
       "    </tr>\n",
       "    <tr>\n",
       "      <th>std</th>\n",
       "      <td>0.132892</td>\n",
       "      <td>24.134541</td>\n",
       "    </tr>\n",
       "    <tr>\n",
       "      <th>min</th>\n",
       "      <td>0.000243</td>\n",
       "      <td>0.000000</td>\n",
       "    </tr>\n",
       "    <tr>\n",
       "      <th>25%</th>\n",
       "      <td>0.073142</td>\n",
       "      <td>0.375112</td>\n",
       "    </tr>\n",
       "    <tr>\n",
       "      <th>50%</th>\n",
       "      <td>0.156311</td>\n",
       "      <td>0.400976</td>\n",
       "    </tr>\n",
       "    <tr>\n",
       "      <th>75%</th>\n",
       "      <td>0.252600</td>\n",
       "      <td>1.141723</td>\n",
       "    </tr>\n",
       "    <tr>\n",
       "      <th>max</th>\n",
       "      <td>0.574144</td>\n",
       "      <td>260.621762</td>\n",
       "    </tr>\n",
       "  </tbody>\n",
       "</table>\n",
       "</div>"
      ],
      "text/plain": [
       "       BIKE_LANE_DENSITY  NORMALIZED_ACCIDENT_COUNT\n",
       "count         178.000000                 178.000000\n",
       "mean            0.176869                   5.509394\n",
       "std             0.132892                  24.134541\n",
       "min             0.000243                   0.000000\n",
       "25%             0.073142                   0.375112\n",
       "50%             0.156311                   0.400976\n",
       "75%             0.252600                   1.141723\n",
       "max             0.574144                 260.621762"
      ]
     },
     "execution_count": 7,
     "metadata": {},
     "output_type": "execute_result"
    }
   ],
   "source": [
    "data1.describe()"
   ]
  },
  {
   "cell_type": "code",
   "execution_count": 8,
   "id": "47dc17c6",
   "metadata": {},
   "outputs": [],
   "source": [
    "perc = 0.95\n",
    "\n",
    "qhi = data1['NORMALIZED_ACCIDENT_COUNT'].quantile(perc)\n",
    "qlow = data1['NORMALIZED_ACCIDENT_COUNT'].quantile(1-perc)\n",
    "\n",
    "data1 = data1[(data1['NORMALIZED_ACCIDENT_COUNT'] >= qlow) & (data1['NORMALIZED_ACCIDENT_COUNT'] <= qhi)].reset_index(drop=True)"
   ]
  },
  {
   "cell_type": "code",
   "execution_count": 9,
   "id": "82b5a4a1",
   "metadata": {},
   "outputs": [],
   "source": [
    "#from sklearn.preprocessing import MinMaxScaler\n",
    "\n",
    "#scaler = MinMaxScaler()\n",
    "\n",
    "#data1['NORMALIZED_ACCIDENT_COUNT'] = scaler.fit_transform(np.array(data1['NORMALIZED_ACCIDENT_COUNT']).reshape(-1, 1)) \n",
    "\n",
    "\n",
    "base = 10\n",
    "\n",
    "data1['Log_NORMALIZED_ACCIDENT_COUNT'] = np.log(np.array(data1['NORMALIZED_ACCIDENT_COUNT'])+1e-1)/np.log(base)\n",
    "data1['Log_BIKE_LANE_DENSITY'] = np.log(np.array(data1['BIKE_LANE_DENSITY'])+1e-9)/np.log(base)\n",
    "\n",
    "\n",
    "root = 3\n",
    "data1['Root_NORMALIZED_ACCIDENT_COUNT'] = np.power((np.array(data1['NORMALIZED_ACCIDENT_COUNT'])),1/root)\n",
    "data1['Root_BIKE_LANE_DENSITY'] = np.power((np.array(data1['BIKE_LANE_DENSITY'])),1/root)\n",
    "\n",
    "data1['LR_NORMALIZED_ACCIDENT_COUNT'] = np.log(np.array(data1['Root_NORMALIZED_ACCIDENT_COUNT'])+1e-1)/np.log(base)\n",
    "data1['LR_BIKE_LANE_DENSITY'] = np.log(np.array(data1['Root_BIKE_LANE_DENSITY'])+1e-9)/np.log(base)"
   ]
  },
  {
   "cell_type": "code",
   "execution_count": 10,
   "id": "a75fdb3a",
   "metadata": {
    "scrolled": true
   },
   "outputs": [
    {
     "data": {
      "text/html": [
       "<div>\n",
       "<style scoped>\n",
       "    .dataframe tbody tr th:only-of-type {\n",
       "        vertical-align: middle;\n",
       "    }\n",
       "\n",
       "    .dataframe tbody tr th {\n",
       "        vertical-align: top;\n",
       "    }\n",
       "\n",
       "    .dataframe thead th {\n",
       "        text-align: right;\n",
       "    }\n",
       "</style>\n",
       "<table border=\"1\" class=\"dataframe\">\n",
       "  <thead>\n",
       "    <tr style=\"text-align: right;\">\n",
       "      <th></th>\n",
       "      <th>BIKE_LANE_DENSITY</th>\n",
       "      <th>NORMALIZED_ACCIDENT_COUNT</th>\n",
       "      <th>Log_NORMALIZED_ACCIDENT_COUNT</th>\n",
       "      <th>Log_BIKE_LANE_DENSITY</th>\n",
       "      <th>Root_NORMALIZED_ACCIDENT_COUNT</th>\n",
       "      <th>Root_BIKE_LANE_DENSITY</th>\n",
       "      <th>LR_NORMALIZED_ACCIDENT_COUNT</th>\n",
       "      <th>LR_BIKE_LANE_DENSITY</th>\n",
       "    </tr>\n",
       "  </thead>\n",
       "  <tbody>\n",
       "    <tr>\n",
       "      <th>0</th>\n",
       "      <td>0.187927</td>\n",
       "      <td>0.381329</td>\n",
       "      <td>-0.317558</td>\n",
       "      <td>-0.726010</td>\n",
       "      <td>0.725159</td>\n",
       "      <td>0.572792</td>\n",
       "      <td>-0.083462</td>\n",
       "      <td>-0.242003</td>\n",
       "    </tr>\n",
       "    <tr>\n",
       "      <th>1</th>\n",
       "      <td>0.228487</td>\n",
       "      <td>4.564617</td>\n",
       "      <td>0.668816</td>\n",
       "      <td>-0.641138</td>\n",
       "      <td>1.658828</td>\n",
       "      <td>0.611346</td>\n",
       "      <td>0.245223</td>\n",
       "      <td>-0.213713</td>\n",
       "    </tr>\n",
       "    <tr>\n",
       "      <th>2</th>\n",
       "      <td>0.080448</td>\n",
       "      <td>0.375178</td>\n",
       "      <td>-0.323144</td>\n",
       "      <td>-1.094484</td>\n",
       "      <td>0.721239</td>\n",
       "      <td>0.431690</td>\n",
       "      <td>-0.085531</td>\n",
       "      <td>-0.364828</td>\n",
       "    </tr>\n",
       "    <tr>\n",
       "      <th>3</th>\n",
       "      <td>0.075781</td>\n",
       "      <td>0.369500</td>\n",
       "      <td>-0.328364</td>\n",
       "      <td>-1.120440</td>\n",
       "      <td>0.717582</td>\n",
       "      <td>0.423175</td>\n",
       "      <td>-0.087469</td>\n",
       "      <td>-0.373480</td>\n",
       "    </tr>\n",
       "    <tr>\n",
       "      <th>4</th>\n",
       "      <td>0.067137</td>\n",
       "      <td>0.366497</td>\n",
       "      <td>-0.331151</td>\n",
       "      <td>-1.173041</td>\n",
       "      <td>0.715633</td>\n",
       "      <td>0.406431</td>\n",
       "      <td>-0.088505</td>\n",
       "      <td>-0.391014</td>\n",
       "    </tr>\n",
       "  </tbody>\n",
       "</table>\n",
       "</div>"
      ],
      "text/plain": [
       "   BIKE_LANE_DENSITY  NORMALIZED_ACCIDENT_COUNT  \\\n",
       "0           0.187927                   0.381329   \n",
       "1           0.228487                   4.564617   \n",
       "2           0.080448                   0.375178   \n",
       "3           0.075781                   0.369500   \n",
       "4           0.067137                   0.366497   \n",
       "\n",
       "   Log_NORMALIZED_ACCIDENT_COUNT  Log_BIKE_LANE_DENSITY  \\\n",
       "0                      -0.317558              -0.726010   \n",
       "1                       0.668816              -0.641138   \n",
       "2                      -0.323144              -1.094484   \n",
       "3                      -0.328364              -1.120440   \n",
       "4                      -0.331151              -1.173041   \n",
       "\n",
       "   Root_NORMALIZED_ACCIDENT_COUNT  Root_BIKE_LANE_DENSITY  \\\n",
       "0                        0.725159                0.572792   \n",
       "1                        1.658828                0.611346   \n",
       "2                        0.721239                0.431690   \n",
       "3                        0.717582                0.423175   \n",
       "4                        0.715633                0.406431   \n",
       "\n",
       "   LR_NORMALIZED_ACCIDENT_COUNT  LR_BIKE_LANE_DENSITY  \n",
       "0                     -0.083462             -0.242003  \n",
       "1                      0.245223             -0.213713  \n",
       "2                     -0.085531             -0.364828  \n",
       "3                     -0.087469             -0.373480  \n",
       "4                     -0.088505             -0.391014  "
      ]
     },
     "execution_count": 10,
     "metadata": {},
     "output_type": "execute_result"
    }
   ],
   "source": [
    "data1.head()"
   ]
  },
  {
   "cell_type": "code",
   "execution_count": 11,
   "id": "9d447f55",
   "metadata": {},
   "outputs": [
    {
     "data": {
      "text/html": [
       "<div>\n",
       "<style scoped>\n",
       "    .dataframe tbody tr th:only-of-type {\n",
       "        vertical-align: middle;\n",
       "    }\n",
       "\n",
       "    .dataframe tbody tr th {\n",
       "        vertical-align: top;\n",
       "    }\n",
       "\n",
       "    .dataframe thead th {\n",
       "        text-align: right;\n",
       "    }\n",
       "</style>\n",
       "<table border=\"1\" class=\"dataframe\">\n",
       "  <thead>\n",
       "    <tr style=\"text-align: right;\">\n",
       "      <th></th>\n",
       "      <th>BIKE_LANE_DENSITY</th>\n",
       "      <th>NORMALIZED_ACCIDENT_COUNT</th>\n",
       "      <th>Log_NORMALIZED_ACCIDENT_COUNT</th>\n",
       "      <th>Log_BIKE_LANE_DENSITY</th>\n",
       "      <th>Root_NORMALIZED_ACCIDENT_COUNT</th>\n",
       "      <th>Root_BIKE_LANE_DENSITY</th>\n",
       "      <th>LR_NORMALIZED_ACCIDENT_COUNT</th>\n",
       "      <th>LR_BIKE_LANE_DENSITY</th>\n",
       "    </tr>\n",
       "  </thead>\n",
       "  <tbody>\n",
       "    <tr>\n",
       "      <th>count</th>\n",
       "      <td>160.000000</td>\n",
       "      <td>160.000000</td>\n",
       "      <td>160.000000</td>\n",
       "      <td>160.000000</td>\n",
       "      <td>160.000000</td>\n",
       "      <td>160.000000</td>\n",
       "      <td>160.000000</td>\n",
       "      <td>160.000000</td>\n",
       "    </tr>\n",
       "    <tr>\n",
       "      <th>mean</th>\n",
       "      <td>0.168451</td>\n",
       "      <td>1.842764</td>\n",
       "      <td>-0.074438</td>\n",
       "      <td>-0.972416</td>\n",
       "      <td>0.969743</td>\n",
       "      <td>0.508445</td>\n",
       "      <td>-0.002649</td>\n",
       "      <td>-0.324139</td>\n",
       "    </tr>\n",
       "    <tr>\n",
       "      <th>std</th>\n",
       "      <td>0.127503</td>\n",
       "      <td>3.679156</td>\n",
       "      <td>0.460212</td>\n",
       "      <td>0.554453</td>\n",
       "      <td>0.491091</td>\n",
       "      <td>0.159954</td>\n",
       "      <td>0.152974</td>\n",
       "      <td>0.184818</td>\n",
       "    </tr>\n",
       "    <tr>\n",
       "      <th>min</th>\n",
       "      <td>0.000243</td>\n",
       "      <td>0.187014</td>\n",
       "      <td>-0.542096</td>\n",
       "      <td>-3.614273</td>\n",
       "      <td>0.571863</td>\n",
       "      <td>0.062408</td>\n",
       "      <td>-0.172719</td>\n",
       "      <td>-1.204758</td>\n",
       "    </tr>\n",
       "    <tr>\n",
       "      <th>25%</th>\n",
       "      <td>0.067154</td>\n",
       "      <td>0.378402</td>\n",
       "      <td>-0.320207</td>\n",
       "      <td>-1.172931</td>\n",
       "      <td>0.723299</td>\n",
       "      <td>0.406465</td>\n",
       "      <td>-0.084443</td>\n",
       "      <td>-0.390977</td>\n",
       "    </tr>\n",
       "    <tr>\n",
       "      <th>50%</th>\n",
       "      <td>0.146042</td>\n",
       "      <td>0.400976</td>\n",
       "      <td>-0.300184</td>\n",
       "      <td>-0.835522</td>\n",
       "      <td>0.737405</td>\n",
       "      <td>0.526614</td>\n",
       "      <td>-0.077065</td>\n",
       "      <td>-0.278507</td>\n",
       "    </tr>\n",
       "    <tr>\n",
       "      <th>75%</th>\n",
       "      <td>0.245186</td>\n",
       "      <td>0.838912</td>\n",
       "      <td>-0.027476</td>\n",
       "      <td>-0.610506</td>\n",
       "      <td>0.943070</td>\n",
       "      <td>0.625890</td>\n",
       "      <td>0.018302</td>\n",
       "      <td>-0.203502</td>\n",
       "    </tr>\n",
       "    <tr>\n",
       "      <th>max</th>\n",
       "      <td>0.540497</td>\n",
       "      <td>25.983760</td>\n",
       "      <td>1.416370</td>\n",
       "      <td>-0.267207</td>\n",
       "      <td>2.961879</td>\n",
       "      <td>0.814575</td>\n",
       "      <td>0.485988</td>\n",
       "      <td>-0.089069</td>\n",
       "    </tr>\n",
       "  </tbody>\n",
       "</table>\n",
       "</div>"
      ],
      "text/plain": [
       "       BIKE_LANE_DENSITY  NORMALIZED_ACCIDENT_COUNT  \\\n",
       "count         160.000000                 160.000000   \n",
       "mean            0.168451                   1.842764   \n",
       "std             0.127503                   3.679156   \n",
       "min             0.000243                   0.187014   \n",
       "25%             0.067154                   0.378402   \n",
       "50%             0.146042                   0.400976   \n",
       "75%             0.245186                   0.838912   \n",
       "max             0.540497                  25.983760   \n",
       "\n",
       "       Log_NORMALIZED_ACCIDENT_COUNT  Log_BIKE_LANE_DENSITY  \\\n",
       "count                     160.000000             160.000000   \n",
       "mean                       -0.074438              -0.972416   \n",
       "std                         0.460212               0.554453   \n",
       "min                        -0.542096              -3.614273   \n",
       "25%                        -0.320207              -1.172931   \n",
       "50%                        -0.300184              -0.835522   \n",
       "75%                        -0.027476              -0.610506   \n",
       "max                         1.416370              -0.267207   \n",
       "\n",
       "       Root_NORMALIZED_ACCIDENT_COUNT  Root_BIKE_LANE_DENSITY  \\\n",
       "count                      160.000000              160.000000   \n",
       "mean                         0.969743                0.508445   \n",
       "std                          0.491091                0.159954   \n",
       "min                          0.571863                0.062408   \n",
       "25%                          0.723299                0.406465   \n",
       "50%                          0.737405                0.526614   \n",
       "75%                          0.943070                0.625890   \n",
       "max                          2.961879                0.814575   \n",
       "\n",
       "       LR_NORMALIZED_ACCIDENT_COUNT  LR_BIKE_LANE_DENSITY  \n",
       "count                    160.000000            160.000000  \n",
       "mean                      -0.002649             -0.324139  \n",
       "std                        0.152974              0.184818  \n",
       "min                       -0.172719             -1.204758  \n",
       "25%                       -0.084443             -0.390977  \n",
       "50%                       -0.077065             -0.278507  \n",
       "75%                        0.018302             -0.203502  \n",
       "max                        0.485988             -0.089069  "
      ]
     },
     "execution_count": 11,
     "metadata": {},
     "output_type": "execute_result"
    }
   ],
   "source": [
    "data1.describe()"
   ]
  },
  {
   "cell_type": "code",
   "execution_count": 12,
   "id": "1ab0db87",
   "metadata": {
    "scrolled": true
   },
   "outputs": [
    {
     "data": {
      "text/plain": [
       "(160, 8)"
      ]
     },
     "execution_count": 12,
     "metadata": {},
     "output_type": "execute_result"
    }
   ],
   "source": [
    "data1.shape"
   ]
  },
  {
   "cell_type": "code",
   "execution_count": 13,
   "id": "33c48846",
   "metadata": {
    "scrolled": true
   },
   "outputs": [
    {
     "data": {
      "text/html": [
       "<table class=\"simpletable\">\n",
       "<caption>OLS Regression Results</caption>\n",
       "<tr>\n",
       "  <th>Dep. Variable:</th>    <td>Root_NORMALIZED_ACCIDENT_COUNT</td> <th>  R-squared (uncentered):</th>      <td>   0.524</td>\n",
       "</tr>\n",
       "<tr>\n",
       "  <th>Model:</th>                          <td>OLS</td>              <th>  Adj. R-squared (uncentered):</th> <td>   0.521</td>\n",
       "</tr>\n",
       "<tr>\n",
       "  <th>Method:</th>                    <td>Least Squares</td>         <th>  F-statistic:       </th>          <td>   175.1</td>\n",
       "</tr>\n",
       "<tr>\n",
       "  <th>Date:</th>                    <td>Fri, 09 Dec 2022</td>        <th>  Prob (F-statistic):</th>          <td>2.01e-27</td>\n",
       "</tr>\n",
       "<tr>\n",
       "  <th>Time:</th>                        <td>23:35:10</td>            <th>  Log-Likelihood:    </th>          <td> -180.87</td>\n",
       "</tr>\n",
       "<tr>\n",
       "  <th>No. Observations:</th>             <td>   160</td>             <th>  AIC:               </th>          <td>   363.7</td>\n",
       "</tr>\n",
       "<tr>\n",
       "  <th>Df Residuals:</th>                 <td>   159</td>             <th>  BIC:               </th>          <td>   366.8</td>\n",
       "</tr>\n",
       "<tr>\n",
       "  <th>Df Model:</th>                     <td>     1</td>             <th>                     </th>              <td> </td>   \n",
       "</tr>\n",
       "<tr>\n",
       "  <th>Covariance Type:</th>             <td>nonrobust</td>           <th>                     </th>              <td> </td>   \n",
       "</tr>\n",
       "</table>\n",
       "<table class=\"simpletable\">\n",
       "<tr>\n",
       "            <td></td>               <th>coef</th>     <th>std err</th>      <th>t</th>      <th>P>|t|</th>  <th>[0.025</th>    <th>0.975]</th>  \n",
       "</tr>\n",
       "<tr>\n",
       "  <th>Log_BIKE_LANE_DENSITY</th> <td>   -0.7031</td> <td>    0.053</td> <td>  -13.232</td> <td> 0.000</td> <td>   -0.808</td> <td>   -0.598</td>\n",
       "</tr>\n",
       "</table>\n",
       "<table class=\"simpletable\">\n",
       "<tr>\n",
       "  <th>Omnibus:</th>       <td>10.734</td> <th>  Durbin-Watson:     </th> <td>   1.257</td>\n",
       "</tr>\n",
       "<tr>\n",
       "  <th>Prob(Omnibus):</th> <td> 0.005</td> <th>  Jarque-Bera (JB):  </th> <td>  14.264</td>\n",
       "</tr>\n",
       "<tr>\n",
       "  <th>Skew:</th>          <td> 0.418</td> <th>  Prob(JB):          </th> <td>0.000799</td>\n",
       "</tr>\n",
       "<tr>\n",
       "  <th>Kurtosis:</th>      <td> 4.201</td> <th>  Cond. No.          </th> <td>    1.00</td>\n",
       "</tr>\n",
       "</table><br/><br/>Notes:<br/>[1] R² is computed without centering (uncentered) since the model does not contain a constant.<br/>[2] Standard Errors assume that the covariance matrix of the errors is correctly specified."
      ],
      "text/plain": [
       "<class 'statsmodels.iolib.summary.Summary'>\n",
       "\"\"\"\n",
       "                                       OLS Regression Results                                      \n",
       "===================================================================================================\n",
       "Dep. Variable:     Root_NORMALIZED_ACCIDENT_COUNT   R-squared (uncentered):                   0.524\n",
       "Model:                                        OLS   Adj. R-squared (uncentered):              0.521\n",
       "Method:                             Least Squares   F-statistic:                              175.1\n",
       "Date:                            Fri, 09 Dec 2022   Prob (F-statistic):                    2.01e-27\n",
       "Time:                                    23:35:10   Log-Likelihood:                         -180.87\n",
       "No. Observations:                             160   AIC:                                      363.7\n",
       "Df Residuals:                                 159   BIC:                                      366.8\n",
       "Df Model:                                       1                                                  \n",
       "Covariance Type:                        nonrobust                                                  \n",
       "=========================================================================================\n",
       "                            coef    std err          t      P>|t|      [0.025      0.975]\n",
       "-----------------------------------------------------------------------------------------\n",
       "Log_BIKE_LANE_DENSITY    -0.7031      0.053    -13.232      0.000      -0.808      -0.598\n",
       "==============================================================================\n",
       "Omnibus:                       10.734   Durbin-Watson:                   1.257\n",
       "Prob(Omnibus):                  0.005   Jarque-Bera (JB):               14.264\n",
       "Skew:                           0.418   Prob(JB):                     0.000799\n",
       "Kurtosis:                       4.201   Cond. No.                         1.00\n",
       "==============================================================================\n",
       "\n",
       "Notes:\n",
       "[1] R² is computed without centering (uncentered) since the model does not contain a constant.\n",
       "[2] Standard Errors assume that the covariance matrix of the errors is correctly specified.\n",
       "\"\"\""
      ]
     },
     "execution_count": 13,
     "metadata": {},
     "output_type": "execute_result"
    }
   ],
   "source": [
    "lm = smf.ols(formula='Root_NORMALIZED_ACCIDENT_COUNT~Log_BIKE_LANE_DENSITY-1',data=data1).fit()\n",
    "lm.summary()"
   ]
  },
  {
   "cell_type": "code",
   "execution_count": 14,
   "id": "2a0bea3c",
   "metadata": {},
   "outputs": [
    {
     "data": {
      "text/markdown": [
       "<b>The p-value is 0.00 and the rsquared is 0.52"
      ],
      "text/plain": [
       "<IPython.core.display.Markdown object>"
      ]
     },
     "execution_count": 14,
     "metadata": {},
     "output_type": "execute_result"
    }
   ],
   "source": [
    "md(\"<b>The p-value is {:.2f} and the rsquared is {:.2f}\".format(lm.pvalues[0],lm.rsquared))"
   ]
  },
  {
   "cell_type": "markdown",
   "id": "2556bc44",
   "metadata": {},
   "source": [
    "Let us plot and see the result"
   ]
  },
  {
   "cell_type": "code",
   "execution_count": 15,
   "id": "30ca99ce",
   "metadata": {
    "scrolled": true
   },
   "outputs": [
    {
     "data": {
      "text/plain": [
       "<AxesSubplot:xlabel='Log_BIKE_LANE_DENSITY', ylabel='Root_NORMALIZED_ACCIDENT_COUNT'>"
      ]
     },
     "execution_count": 15,
     "metadata": {},
     "output_type": "execute_result"
    },
    {
     "data": {
      "image/png": "[encoded data removed]",
      "text/plain": [
       "<Figure size 576x576 with 1 Axes>"
      ]
     },
     "metadata": {},
     "output_type": "display_data"
    }
   ],
   "source": [
    "import seaborn as sns\n",
    "sns.set(rc={'figure.figsize':(8,8)})\n",
    "sns.regplot(x='Log_BIKE_LANE_DENSITY', y='Root_NORMALIZED_ACCIDENT_COUNT',data=data1)"
   ]
  },
  {
   "cell_type": "code",
   "execution_count": 16,
   "id": "d0f6d659",
   "metadata": {},
   "outputs": [
    {
     "data": {
      "text/markdown": [
       "$$Normalized Accident Count= (-0.7030858612205734*log(Bike Lane Density))^3$$"
      ],
      "text/plain": [
       "<IPython.core.display.Markdown object>"
      ]
     },
     "execution_count": 16,
     "metadata": {},
     "output_type": "execute_result"
    }
   ],
   "source": [
    "md(\"$$Normalized Accident Count= ({}*log(Bike Lane Density))^{}$$\".format(lm.params[0],root))"
   ]
  },
  {
   "cell_type": "markdown",
   "id": "2e2d6270",
   "metadata": {},
   "source": [
    "In our range from 0 to 1 for bike lane density, this would mean that as bike lane density increases, the Normalized Accident count decreases rapidly."
   ]
  },
  {
   "cell_type": "code",
   "execution_count": 17,
   "id": "bf595e3d",
   "metadata": {},
   "outputs": [],
   "source": [
    "x_mesh = np.linspace(np.min(data1['BIKE_LANE_DENSITY']),np.max(data1['BIKE_LANE_DENSITY']),100)\n",
    "y_mesh = np.power(lm.params[0]*np.log(x_mesh)/np.log(base),root)"
   ]
  },
  {
   "cell_type": "code",
   "execution_count": 18,
   "id": "f3efc99f",
   "metadata": {
    "scrolled": false
   },
   "outputs": [
    {
     "data": {
      "text/plain": [
       "Text(0, 0.5, 'Normalized Accident Count')"
      ]
     },
     "execution_count": 18,
     "metadata": {},
     "output_type": "execute_result"
    },
    {
     "data": {
      "image/png": "[encoded data removed]",
      "text/plain": [
       "<Figure size 504x504 with 1 Axes>"
      ]
     },
     "metadata": {},
     "output_type": "display_data"
    }
   ],
   "source": [
    "plt.rcParams[\"figure.figsize\"] = (7,7)\n",
    "plt.plot(x_mesh,y_mesh,'-r')\n",
    "plt.xlabel('Bike Lane Density')\n",
    "plt.ylabel('Normalized Accident Count')"
   ]
  }
 ],
 "metadata": {
  "kernelspec": {
   "display_name": "Python 3 (ipykernel)",
   "language": "python",
   "name": "python3"
  },
  "language_info": {
   "codemirror_mode": {
    "name": "ipython",
    "version": 3
   },
   "file_extension": ".py",
   "mimetype": "text/x-python",
   "name": "python",
   "nbconvert_exporter": "python",
   "pygments_lexer": "ipython3",
   "version": "3.9.12"
  }
 },
 "nbformat": 4,
 "nbformat_minor": 5
}
