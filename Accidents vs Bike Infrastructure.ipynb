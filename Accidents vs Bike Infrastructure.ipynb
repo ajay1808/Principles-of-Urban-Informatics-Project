{
 "cells": [
  {
   "cell_type": "code",
   "execution_count": 1,
   "id": "c3d010ba",
   "metadata": {},
   "outputs": [],
   "source": [
    "import pandas as pd\n",
    "import numpy as np\n",
    "import statsmodels.formula.api as smf\n",
    "from matplotlib import pyplot as plt "
   ]
  },
  {
   "cell_type": "code",
   "execution_count": 2,
   "id": "35d0a547",
   "metadata": {},
   "outputs": [],
   "source": [
    "data = pd.read_csv('Features_Zipcode_Final.csv')"
   ]
  },
  {
   "cell_type": "code",
   "execution_count": 3,
   "id": "10a460ec",
   "metadata": {},
   "outputs": [
    {
     "data": {
      "text/html": [
       "<div>\n",
       "<style scoped>\n",
       "    .dataframe tbody tr th:only-of-type {\n",
       "        vertical-align: middle;\n",
       "    }\n",
       "\n",
       "    .dataframe tbody tr th {\n",
       "        vertical-align: top;\n",
       "    }\n",
       "\n",
       "    .dataframe thead th {\n",
       "        text-align: right;\n",
       "    }\n",
       "</style>\n",
       "<table border=\"1\" class=\"dataframe\">\n",
       "  <thead>\n",
       "    <tr style=\"text-align: right;\">\n",
       "      <th></th>\n",
       "      <th>ZIPCODE</th>\n",
       "      <th>TOTAL STREET LENGTH</th>\n",
       "      <th>TOTAL BIKE LANE LENGTH</th>\n",
       "      <th>BIKE LANE DENSITY</th>\n",
       "      <th>NUM_DOCKS_AVAILABLE</th>\n",
       "      <th>TRIPS</th>\n",
       "      <th>NORMALIZED ACCIDENT COUNT</th>\n",
       "      <th>WHITE_POP %</th>\n",
       "      <th>POPULATION</th>\n",
       "      <th>ACCIDENT COUNT</th>\n",
       "      <th>MEAN INCOME</th>\n",
       "    </tr>\n",
       "  </thead>\n",
       "  <tbody>\n",
       "    <tr>\n",
       "      <th>0</th>\n",
       "      <td>11436</td>\n",
       "      <td>NaN</td>\n",
       "      <td>NaN</td>\n",
       "      <td>NaN</td>\n",
       "      <td>NaN</td>\n",
       "      <td>8192.653036</td>\n",
       "      <td>0.378388</td>\n",
       "      <td>7.031032</td>\n",
       "      <td>17949.0</td>\n",
       "      <td>31.0</td>\n",
       "      <td>29271.0</td>\n",
       "    </tr>\n",
       "    <tr>\n",
       "      <th>1</th>\n",
       "      <td>11213</td>\n",
       "      <td>146367.805288</td>\n",
       "      <td>28632.146155</td>\n",
       "      <td>0.195618</td>\n",
       "      <td>NaN</td>\n",
       "      <td>780.000000</td>\n",
       "      <td>45.128205</td>\n",
       "      <td>28.880142</td>\n",
       "      <td>63767.0</td>\n",
       "      <td>352.0</td>\n",
       "      <td>29216.0</td>\n",
       "    </tr>\n",
       "    <tr>\n",
       "      <th>2</th>\n",
       "      <td>11212</td>\n",
       "      <td>215912.786687</td>\n",
       "      <td>40575.901547</td>\n",
       "      <td>0.187927</td>\n",
       "      <td>NaN</td>\n",
       "      <td>87326.231788</td>\n",
       "      <td>0.381329</td>\n",
       "      <td>11.172781</td>\n",
       "      <td>84500.0</td>\n",
       "      <td>333.0</td>\n",
       "      <td>20958.0</td>\n",
       "    </tr>\n",
       "    <tr>\n",
       "      <th>3</th>\n",
       "      <td>11225</td>\n",
       "      <td>114141.251961</td>\n",
       "      <td>26079.822125</td>\n",
       "      <td>0.228487</td>\n",
       "      <td>149.0</td>\n",
       "      <td>6879.000000</td>\n",
       "      <td>4.564617</td>\n",
       "      <td>31.436415</td>\n",
       "      <td>56829.0</td>\n",
       "      <td>314.0</td>\n",
       "      <td>38992.0</td>\n",
       "    </tr>\n",
       "    <tr>\n",
       "      <th>4</th>\n",
       "      <td>11218</td>\n",
       "      <td>208355.389994</td>\n",
       "      <td>24186.845000</td>\n",
       "      <td>0.116085</td>\n",
       "      <td>23.0</td>\n",
       "      <td>1186.000000</td>\n",
       "      <td>28.667791</td>\n",
       "      <td>62.269343</td>\n",
       "      <td>75220.0</td>\n",
       "      <td>340.0</td>\n",
       "      <td>36189.0</td>\n",
       "    </tr>\n",
       "  </tbody>\n",
       "</table>\n",
       "</div>"
      ],
      "text/plain": [
       "   ZIPCODE  TOTAL STREET LENGTH  TOTAL BIKE LANE LENGTH  BIKE LANE DENSITY  \\\n",
       "0    11436                  NaN                     NaN                NaN   \n",
       "1    11213        146367.805288            28632.146155           0.195618   \n",
       "2    11212        215912.786687            40575.901547           0.187927   \n",
       "3    11225        114141.251961            26079.822125           0.228487   \n",
       "4    11218        208355.389994            24186.845000           0.116085   \n",
       "\n",
       "   NUM_DOCKS_AVAILABLE         TRIPS  NORMALIZED ACCIDENT COUNT  WHITE_POP %  \\\n",
       "0                  NaN   8192.653036                   0.378388     7.031032   \n",
       "1                  NaN    780.000000                  45.128205    28.880142   \n",
       "2                  NaN  87326.231788                   0.381329    11.172781   \n",
       "3                149.0   6879.000000                   4.564617    31.436415   \n",
       "4                 23.0   1186.000000                  28.667791    62.269343   \n",
       "\n",
       "   POPULATION  ACCIDENT COUNT  MEAN INCOME  \n",
       "0     17949.0            31.0      29271.0  \n",
       "1     63767.0           352.0      29216.0  \n",
       "2     84500.0           333.0      20958.0  \n",
       "3     56829.0           314.0      38992.0  \n",
       "4     75220.0           340.0      36189.0  "
      ]
     },
     "execution_count": 3,
     "metadata": {},
     "output_type": "execute_result"
    }
   ],
   "source": [
    "data.head()"
   ]
  },
  {
   "cell_type": "code",
   "execution_count": 4,
   "id": "40f11407",
   "metadata": {},
   "outputs": [
    {
     "data": {
      "text/plain": [
       "(248, 11)"
      ]
     },
     "execution_count": 4,
     "metadata": {},
     "output_type": "execute_result"
    }
   ],
   "source": [
    "data.shape"
   ]
  },
  {
   "cell_type": "code",
   "execution_count": 5,
   "id": "065c2065",
   "metadata": {},
   "outputs": [
    {
     "data": {
      "text/plain": [
       "(178, 2)"
      ]
     },
     "execution_count": 5,
     "metadata": {},
     "output_type": "execute_result"
    }
   ],
   "source": [
    "data1 = data[['ZIPCODE','BIKE LANE DENSITY','NORMALIZED ACCIDENT COUNT']].dropna().set_index('ZIPCODE',drop=True)\n",
    "data1.columns = data1.columns.str.replace(' ', '_')\n",
    "data1.shape"
   ]
  },
  {
   "cell_type": "code",
   "execution_count": 6,
   "id": "9341686f",
   "metadata": {},
   "outputs": [],
   "source": [
    "base = 10\n",
    "\n",
    "data1['Log_NORMALIZED_ACCIDENT_COUNT'] = np.log(np.array(data1['NORMALIZED_ACCIDENT_COUNT'])+1e-1)/np.log(base)\n",
    "data1['Log_BIKE_LANE_DENSITY'] = np.log(np.array(data1['BIKE_LANE_DENSITY'])+1e-9)/np.log(base)\n",
    "\n",
    "\n",
    "root = 2\n",
    "data1['Root_NORMALIZED_ACCIDENT_COUNT'] = np.power((np.array(data1['NORMALIZED_ACCIDENT_COUNT'])),1/root)\n",
    "data1['Root_BIKE_LANE_DENSITY'] = np.power((np.array(data1['BIKE_LANE_DENSITY'])),1/root)\n",
    "\n",
    "data1['LR_NORMALIZED_ACCIDENT_COUNT'] = np.log(np.array(data1['Root_NORMALIZED_ACCIDENT_COUNT'])+1e-1)/np.log(base)\n",
    "data1['LR_BIKE_LANE_DENSITY'] = np.log(np.array(data1['Root_BIKE_LANE_DENSITY'])+1e-9)/np.log(base)"
   ]
  },
  {
   "cell_type": "code",
   "execution_count": 7,
   "id": "fe13a1ec",
   "metadata": {},
   "outputs": [
    {
     "data": {
      "text/html": [
       "<div>\n",
       "<style scoped>\n",
       "    .dataframe tbody tr th:only-of-type {\n",
       "        vertical-align: middle;\n",
       "    }\n",
       "\n",
       "    .dataframe tbody tr th {\n",
       "        vertical-align: top;\n",
       "    }\n",
       "\n",
       "    .dataframe thead th {\n",
       "        text-align: right;\n",
       "    }\n",
       "</style>\n",
       "<table border=\"1\" class=\"dataframe\">\n",
       "  <thead>\n",
       "    <tr style=\"text-align: right;\">\n",
       "      <th></th>\n",
       "      <th>BIKE_LANE_DENSITY</th>\n",
       "      <th>NORMALIZED_ACCIDENT_COUNT</th>\n",
       "      <th>Log_NORMALIZED_ACCIDENT_COUNT</th>\n",
       "      <th>Log_BIKE_LANE_DENSITY</th>\n",
       "      <th>Root_NORMALIZED_ACCIDENT_COUNT</th>\n",
       "      <th>Root_BIKE_LANE_DENSITY</th>\n",
       "      <th>LR_NORMALIZED_ACCIDENT_COUNT</th>\n",
       "      <th>LR_BIKE_LANE_DENSITY</th>\n",
       "    </tr>\n",
       "    <tr>\n",
       "      <th>ZIPCODE</th>\n",
       "      <th></th>\n",
       "      <th></th>\n",
       "      <th></th>\n",
       "      <th></th>\n",
       "      <th></th>\n",
       "      <th></th>\n",
       "      <th></th>\n",
       "      <th></th>\n",
       "    </tr>\n",
       "  </thead>\n",
       "  <tbody>\n",
       "    <tr>\n",
       "      <th>11213</th>\n",
       "      <td>0.195618</td>\n",
       "      <td>45.128205</td>\n",
       "      <td>1.655409</td>\n",
       "      <td>-0.708592</td>\n",
       "      <td>6.717753</td>\n",
       "      <td>0.442287</td>\n",
       "      <td>0.833641</td>\n",
       "      <td>-0.354296</td>\n",
       "    </tr>\n",
       "    <tr>\n",
       "      <th>11212</th>\n",
       "      <td>0.187927</td>\n",
       "      <td>0.381329</td>\n",
       "      <td>-0.317558</td>\n",
       "      <td>-0.726010</td>\n",
       "      <td>0.617518</td>\n",
       "      <td>0.433506</td>\n",
       "      <td>-0.144167</td>\n",
       "      <td>-0.363005</td>\n",
       "    </tr>\n",
       "    <tr>\n",
       "      <th>11225</th>\n",
       "      <td>0.228487</td>\n",
       "      <td>4.564617</td>\n",
       "      <td>0.668816</td>\n",
       "      <td>-0.641138</td>\n",
       "      <td>2.136496</td>\n",
       "      <td>0.478003</td>\n",
       "      <td>0.349568</td>\n",
       "      <td>-0.320569</td>\n",
       "    </tr>\n",
       "    <tr>\n",
       "      <th>11218</th>\n",
       "      <td>0.116085</td>\n",
       "      <td>28.667791</td>\n",
       "      <td>1.458907</td>\n",
       "      <td>-0.935226</td>\n",
       "      <td>5.354231</td>\n",
       "      <td>0.340712</td>\n",
       "      <td>0.736734</td>\n",
       "      <td>-0.467613</td>\n",
       "    </tr>\n",
       "    <tr>\n",
       "      <th>11226</th>\n",
       "      <td>0.136211</td>\n",
       "      <td>260.621762</td>\n",
       "      <td>2.416177</td>\n",
       "      <td>-0.865787</td>\n",
       "      <td>16.143784</td>\n",
       "      <td>0.369068</td>\n",
       "      <td>1.210687</td>\n",
       "      <td>-0.432894</td>\n",
       "    </tr>\n",
       "  </tbody>\n",
       "</table>\n",
       "</div>"
      ],
      "text/plain": [
       "         BIKE_LANE_DENSITY  NORMALIZED_ACCIDENT_COUNT  \\\n",
       "ZIPCODE                                                 \n",
       "11213             0.195618                  45.128205   \n",
       "11212             0.187927                   0.381329   \n",
       "11225             0.228487                   4.564617   \n",
       "11218             0.116085                  28.667791   \n",
       "11226             0.136211                 260.621762   \n",
       "\n",
       "         Log_NORMALIZED_ACCIDENT_COUNT  Log_BIKE_LANE_DENSITY  \\\n",
       "ZIPCODE                                                         \n",
       "11213                         1.655409              -0.708592   \n",
       "11212                        -0.317558              -0.726010   \n",
       "11225                         0.668816              -0.641138   \n",
       "11218                         1.458907              -0.935226   \n",
       "11226                         2.416177              -0.865787   \n",
       "\n",
       "         Root_NORMALIZED_ACCIDENT_COUNT  Root_BIKE_LANE_DENSITY  \\\n",
       "ZIPCODE                                                           \n",
       "11213                          6.717753                0.442287   \n",
       "11212                          0.617518                0.433506   \n",
       "11225                          2.136496                0.478003   \n",
       "11218                          5.354231                0.340712   \n",
       "11226                         16.143784                0.369068   \n",
       "\n",
       "         LR_NORMALIZED_ACCIDENT_COUNT  LR_BIKE_LANE_DENSITY  \n",
       "ZIPCODE                                                      \n",
       "11213                        0.833641             -0.354296  \n",
       "11212                       -0.144167             -0.363005  \n",
       "11225                        0.349568             -0.320569  \n",
       "11218                        0.736734             -0.467613  \n",
       "11226                        1.210687             -0.432894  "
      ]
     },
     "execution_count": 7,
     "metadata": {},
     "output_type": "execute_result"
    }
   ],
   "source": [
    "data1.head()"
   ]
  },
  {
   "cell_type": "code",
   "execution_count": 8,
   "id": "e867b725",
   "metadata": {},
   "outputs": [
    {
     "data": {
      "text/html": [
       "<div>\n",
       "<style scoped>\n",
       "    .dataframe tbody tr th:only-of-type {\n",
       "        vertical-align: middle;\n",
       "    }\n",
       "\n",
       "    .dataframe tbody tr th {\n",
       "        vertical-align: top;\n",
       "    }\n",
       "\n",
       "    .dataframe thead th {\n",
       "        text-align: right;\n",
       "    }\n",
       "</style>\n",
       "<table border=\"1\" class=\"dataframe\">\n",
       "  <thead>\n",
       "    <tr style=\"text-align: right;\">\n",
       "      <th></th>\n",
       "      <th>BIKE_LANE_DENSITY</th>\n",
       "      <th>NORMALIZED_ACCIDENT_COUNT</th>\n",
       "      <th>Log_NORMALIZED_ACCIDENT_COUNT</th>\n",
       "      <th>Log_BIKE_LANE_DENSITY</th>\n",
       "      <th>Root_NORMALIZED_ACCIDENT_COUNT</th>\n",
       "      <th>Root_BIKE_LANE_DENSITY</th>\n",
       "      <th>LR_NORMALIZED_ACCIDENT_COUNT</th>\n",
       "      <th>LR_BIKE_LANE_DENSITY</th>\n",
       "    </tr>\n",
       "  </thead>\n",
       "  <tbody>\n",
       "    <tr>\n",
       "      <th>count</th>\n",
       "      <td>178.000000</td>\n",
       "      <td>178.000000</td>\n",
       "      <td>178.000000</td>\n",
       "      <td>178.000000</td>\n",
       "      <td>178.000000</td>\n",
       "      <td>178.000000</td>\n",
       "      <td>178.000000</td>\n",
       "      <td>178.000000</td>\n",
       "    </tr>\n",
       "    <tr>\n",
       "      <th>mean</th>\n",
       "      <td>0.176869</td>\n",
       "      <td>5.509394</td>\n",
       "      <td>-0.023510</td>\n",
       "      <td>-0.944565</td>\n",
       "      <td>1.339503</td>\n",
       "      <td>0.386637</td>\n",
       "      <td>-0.009585</td>\n",
       "      <td>-0.472282</td>\n",
       "    </tr>\n",
       "    <tr>\n",
       "      <th>std</th>\n",
       "      <td>0.132892</td>\n",
       "      <td>24.134541</td>\n",
       "      <td>0.624936</td>\n",
       "      <td>0.541144</td>\n",
       "      <td>1.932903</td>\n",
       "      <td>0.165938</td>\n",
       "      <td>0.335844</td>\n",
       "      <td>0.270572</td>\n",
       "    </tr>\n",
       "    <tr>\n",
       "      <th>min</th>\n",
       "      <td>0.000243</td>\n",
       "      <td>0.000000</td>\n",
       "      <td>-1.000000</td>\n",
       "      <td>-3.614273</td>\n",
       "      <td>0.000000</td>\n",
       "      <td>0.015591</td>\n",
       "      <td>-1.000000</td>\n",
       "      <td>-1.807137</td>\n",
       "    </tr>\n",
       "    <tr>\n",
       "      <th>25%</th>\n",
       "      <td>0.073142</td>\n",
       "      <td>0.375112</td>\n",
       "      <td>-0.323204</td>\n",
       "      <td>-1.135838</td>\n",
       "      <td>0.612464</td>\n",
       "      <td>0.270447</td>\n",
       "      <td>-0.147237</td>\n",
       "      <td>-0.567919</td>\n",
       "    </tr>\n",
       "    <tr>\n",
       "      <th>50%</th>\n",
       "      <td>0.156311</td>\n",
       "      <td>0.400976</td>\n",
       "      <td>-0.300184</td>\n",
       "      <td>-0.806034</td>\n",
       "      <td>0.633226</td>\n",
       "      <td>0.395356</td>\n",
       "      <td>-0.134762</td>\n",
       "      <td>-0.403017</td>\n",
       "    </tr>\n",
       "    <tr>\n",
       "      <th>75%</th>\n",
       "      <td>0.252600</td>\n",
       "      <td>1.141723</td>\n",
       "      <td>0.094022</td>\n",
       "      <td>-0.597567</td>\n",
       "      <td>1.068512</td>\n",
       "      <td>0.502593</td>\n",
       "      <td>0.067633</td>\n",
       "      <td>-0.298783</td>\n",
       "    </tr>\n",
       "    <tr>\n",
       "      <th>max</th>\n",
       "      <td>0.574144</td>\n",
       "      <td>260.621762</td>\n",
       "      <td>2.416177</td>\n",
       "      <td>-0.240979</td>\n",
       "      <td>16.143784</td>\n",
       "      <td>0.757723</td>\n",
       "      <td>1.210687</td>\n",
       "      <td>-0.120490</td>\n",
       "    </tr>\n",
       "  </tbody>\n",
       "</table>\n",
       "</div>"
      ],
      "text/plain": [
       "       BIKE_LANE_DENSITY  NORMALIZED_ACCIDENT_COUNT  \\\n",
       "count         178.000000                 178.000000   \n",
       "mean            0.176869                   5.509394   \n",
       "std             0.132892                  24.134541   \n",
       "min             0.000243                   0.000000   \n",
       "25%             0.073142                   0.375112   \n",
       "50%             0.156311                   0.400976   \n",
       "75%             0.252600                   1.141723   \n",
       "max             0.574144                 260.621762   \n",
       "\n",
       "       Log_NORMALIZED_ACCIDENT_COUNT  Log_BIKE_LANE_DENSITY  \\\n",
       "count                     178.000000             178.000000   \n",
       "mean                       -0.023510              -0.944565   \n",
       "std                         0.624936               0.541144   \n",
       "min                        -1.000000              -3.614273   \n",
       "25%                        -0.323204              -1.135838   \n",
       "50%                        -0.300184              -0.806034   \n",
       "75%                         0.094022              -0.597567   \n",
       "max                         2.416177              -0.240979   \n",
       "\n",
       "       Root_NORMALIZED_ACCIDENT_COUNT  Root_BIKE_LANE_DENSITY  \\\n",
       "count                      178.000000              178.000000   \n",
       "mean                         1.339503                0.386637   \n",
       "std                          1.932903                0.165938   \n",
       "min                          0.000000                0.015591   \n",
       "25%                          0.612464                0.270447   \n",
       "50%                          0.633226                0.395356   \n",
       "75%                          1.068512                0.502593   \n",
       "max                         16.143784                0.757723   \n",
       "\n",
       "       LR_NORMALIZED_ACCIDENT_COUNT  LR_BIKE_LANE_DENSITY  \n",
       "count                    178.000000            178.000000  \n",
       "mean                      -0.009585             -0.472282  \n",
       "std                        0.335844              0.270572  \n",
       "min                       -1.000000             -1.807137  \n",
       "25%                       -0.147237             -0.567919  \n",
       "50%                       -0.134762             -0.403017  \n",
       "75%                        0.067633             -0.298783  \n",
       "max                        1.210687             -0.120490  "
      ]
     },
     "execution_count": 8,
     "metadata": {},
     "output_type": "execute_result"
    }
   ],
   "source": [
    "data1.describe()"
   ]
  },
  {
   "cell_type": "code",
   "execution_count": 9,
   "id": "5ae570bf",
   "metadata": {
    "scrolled": true
   },
   "outputs": [
    {
     "data": {
      "text/plain": [
       "(178, 8)"
      ]
     },
     "execution_count": 9,
     "metadata": {},
     "output_type": "execute_result"
    }
   ],
   "source": [
    "data1.shape"
   ]
  },
  {
   "cell_type": "code",
   "execution_count": 10,
   "id": "9b712174",
   "metadata": {},
   "outputs": [
    {
     "data": {
      "text/html": [
       "<table class=\"simpletable\">\n",
       "<caption>OLS Regression Results</caption>\n",
       "<tr>\n",
       "  <th>Dep. Variable:</th>    <td>Root_NORMALIZED_ACCIDENT_COUNT</td> <th>  R-squared (uncentered):</th>      <td>   0.208</td>\n",
       "</tr>\n",
       "<tr>\n",
       "  <th>Model:</th>                          <td>OLS</td>              <th>  Adj. R-squared (uncentered):</th> <td>   0.203</td>\n",
       "</tr>\n",
       "<tr>\n",
       "  <th>Method:</th>                    <td>Least Squares</td>         <th>  F-statistic:       </th>          <td>   46.36</td>\n",
       "</tr>\n",
       "<tr>\n",
       "  <th>Date:</th>                    <td>Fri, 09 Dec 2022</td>        <th>  Prob (F-statistic):</th>          <td>1.47e-10</td>\n",
       "</tr>\n",
       "<tr>\n",
       "  <th>Time:</th>                        <td>11:26:36</td>            <th>  Log-Likelihood:    </th>          <td> -383.74</td>\n",
       "</tr>\n",
       "<tr>\n",
       "  <th>No. Observations:</th>             <td>   178</td>             <th>  AIC:               </th>          <td>   769.5</td>\n",
       "</tr>\n",
       "<tr>\n",
       "  <th>Df Residuals:</th>                 <td>   177</td>             <th>  BIC:               </th>          <td>   772.7</td>\n",
       "</tr>\n",
       "<tr>\n",
       "  <th>Df Model:</th>                     <td>     1</td>             <th>                     </th>              <td> </td>   \n",
       "</tr>\n",
       "<tr>\n",
       "  <th>Covariance Type:</th>             <td>nonrobust</td>           <th>                     </th>              <td> </td>   \n",
       "</tr>\n",
       "</table>\n",
       "<table class=\"simpletable\">\n",
       "<tr>\n",
       "            <td></td>               <th>coef</th>     <th>std err</th>      <th>t</th>      <th>P>|t|</th>  <th>[0.025</th>    <th>0.975]</th>  \n",
       "</tr>\n",
       "<tr>\n",
       "  <th>Log_BIKE_LANE_DENSITY</th> <td>   -0.9830</td> <td>    0.144</td> <td>   -6.809</td> <td> 0.000</td> <td>   -1.268</td> <td>   -0.698</td>\n",
       "</tr>\n",
       "</table>\n",
       "<table class=\"simpletable\">\n",
       "<tr>\n",
       "  <th>Omnibus:</th>       <td>174.531</td> <th>  Durbin-Watson:     </th> <td>   1.534</td>\n",
       "</tr>\n",
       "<tr>\n",
       "  <th>Prob(Omnibus):</th> <td> 0.000</td>  <th>  Jarque-Bera (JB):  </th> <td>3467.900</td>\n",
       "</tr>\n",
       "<tr>\n",
       "  <th>Skew:</th>          <td> 3.728</td>  <th>  Prob(JB):          </th> <td>    0.00</td>\n",
       "</tr>\n",
       "<tr>\n",
       "  <th>Kurtosis:</th>      <td>23.297</td>  <th>  Cond. No.          </th> <td>    1.00</td>\n",
       "</tr>\n",
       "</table><br/><br/>Notes:<br/>[1] R² is computed without centering (uncentered) since the model does not contain a constant.<br/>[2] Standard Errors assume that the covariance matrix of the errors is correctly specified."
      ],
      "text/plain": [
       "<class 'statsmodels.iolib.summary.Summary'>\n",
       "\"\"\"\n",
       "                                       OLS Regression Results                                      \n",
       "===================================================================================================\n",
       "Dep. Variable:     Root_NORMALIZED_ACCIDENT_COUNT   R-squared (uncentered):                   0.208\n",
       "Model:                                        OLS   Adj. R-squared (uncentered):              0.203\n",
       "Method:                             Least Squares   F-statistic:                              46.36\n",
       "Date:                            Fri, 09 Dec 2022   Prob (F-statistic):                    1.47e-10\n",
       "Time:                                    11:26:36   Log-Likelihood:                         -383.74\n",
       "No. Observations:                             178   AIC:                                      769.5\n",
       "Df Residuals:                                 177   BIC:                                      772.7\n",
       "Df Model:                                       1                                                  \n",
       "Covariance Type:                        nonrobust                                                  \n",
       "=========================================================================================\n",
       "                            coef    std err          t      P>|t|      [0.025      0.975]\n",
       "-----------------------------------------------------------------------------------------\n",
       "Log_BIKE_LANE_DENSITY    -0.9830      0.144     -6.809      0.000      -1.268      -0.698\n",
       "==============================================================================\n",
       "Omnibus:                      174.531   Durbin-Watson:                   1.534\n",
       "Prob(Omnibus):                  0.000   Jarque-Bera (JB):             3467.900\n",
       "Skew:                           3.728   Prob(JB):                         0.00\n",
       "Kurtosis:                      23.297   Cond. No.                         1.00\n",
       "==============================================================================\n",
       "\n",
       "Notes:\n",
       "[1] R² is computed without centering (uncentered) since the model does not contain a constant.\n",
       "[2] Standard Errors assume that the covariance matrix of the errors is correctly specified.\n",
       "\"\"\""
      ]
     },
     "execution_count": 10,
     "metadata": {},
     "output_type": "execute_result"
    }
   ],
   "source": [
    "lm = smf.ols(formula='Root_NORMALIZED_ACCIDENT_COUNT~Log_BIKE_LANE_DENSITY-1',data=data1).fit()\n",
    "lm.summary()"
   ]
  },
  {
   "cell_type": "markdown",
   "id": "4552c401",
   "metadata": {},
   "source": [
    "<b>The p-value is <5% indicating that is it statistically significant"
   ]
  },
  {
   "cell_type": "markdown",
   "id": "5ecdb553",
   "metadata": {},
   "source": [
    "Let us plot and see the result"
   ]
  },
  {
   "cell_type": "code",
   "execution_count": 11,
   "id": "42399687",
   "metadata": {
    "scrolled": true
   },
   "outputs": [
    {
     "data": {
      "text/plain": [
       "<AxesSubplot:xlabel='Log_BIKE_LANE_DENSITY', ylabel='Root_NORMALIZED_ACCIDENT_COUNT'>"
      ]
     },
     "execution_count": 11,
     "metadata": {},
     "output_type": "execute_result"
    },
    {
     "data": {
      "image/png": "[encoded data removed]",
      "text/plain": [
       "<Figure size 576x576 with 1 Axes>"
      ]
     },
     "metadata": {},
     "output_type": "display_data"
    }
   ],
   "source": [
    "import seaborn as sns\n",
    "sns.set(rc={'figure.figsize':(8,8)})\n",
    "sns.regplot(x='Log_BIKE_LANE_DENSITY', y='Root_NORMALIZED_ACCIDENT_COUNT',data=data1)"
   ]
  },
  {
   "cell_type": "markdown",
   "id": "1d226cb3",
   "metadata": {},
   "source": [
    "$$\\sqrt{Normalized Accident Count}= -0.9830log(Bike Lane Density)$$ \n",
    "\n",
    "$$Normalized Accident Count= (-0.9830log(Bike Lane Density))^2$$ "
   ]
  },
  {
   "cell_type": "markdown",
   "id": "018017e7",
   "metadata": {},
   "source": [
    "In our range from 0 to 1 for bike lane density, this would mean that as bike lane density increases, the Normalized Accident count decreases exponentially."
   ]
  },
  {
   "cell_type": "code",
   "execution_count": 12,
   "id": "0d13ac25",
   "metadata": {},
   "outputs": [],
   "source": [
    "x_mesh = np.linspace(np.min(data1['BIKE_LANE_DENSITY']),np.max(data1['BIKE_LANE_DENSITY']),100)\n",
    "y_mesh = np.power(-0.9830*np.log(x_mesh),2)"
   ]
  },
  {
   "cell_type": "code",
   "execution_count": 13,
   "id": "ed6142c9",
   "metadata": {},
   "outputs": [
    {
     "data": {
      "text/plain": [
       "Text(0, 0.5, 'Normalized Accident Count')"
      ]
     },
     "execution_count": 13,
     "metadata": {},
     "output_type": "execute_result"
    },
    {
     "data": {
      "image/png": "[encoded data removed]",
      "text/plain": [
       "<Figure size 576x576 with 1 Axes>"
      ]
     },
     "metadata": {},
     "output_type": "display_data"
    }
   ],
   "source": [
    "plt.plot(x_mesh,y_mesh,'-r')\n",
    "plt.xlabel('Bike Lane Density')\n",
    "plt.ylabel('Normalized Accident Count')"
   ]
  }
 ],
 "metadata": {
  "kernelspec": {
   "display_name": "Python 3 (ipykernel)",
   "language": "python",
   "name": "python3"
  },
  "language_info": {
   "codemirror_mode": {
    "name": "ipython",
    "version": 3
   },
   "file_extension": ".py",
   "mimetype": "text/x-python",
   "name": "python",
   "nbconvert_exporter": "python",
   "pygments_lexer": "ipython3",
   "version": "3.9.12"
  }
 },
 "nbformat": 4,
 "nbformat_minor": 5
}
