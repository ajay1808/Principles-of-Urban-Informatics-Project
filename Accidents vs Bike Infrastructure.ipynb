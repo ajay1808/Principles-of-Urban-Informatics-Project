{
 "cells": [
  {
   "cell_type": "code",
   "execution_count": 1,
   "id": "36f47374",
   "metadata": {},
   "outputs": [],
   "source": [
    "import pandas as pd\n",
    "import numpy as np\n",
    "import statsmodels.formula.api as smf\n",
    "from matplotlib import pyplot as plt \n",
    "from IPython.display import Markdown as md"
   ]
  },
  {
   "cell_type": "code",
   "execution_count": 2,
   "id": "c8bb6930",
   "metadata": {},
   "outputs": [],
   "source": [
    "data = pd.read_csv('Features_Zipcode_Final.csv')"
   ]
  },
  {
   "cell_type": "code",
   "execution_count": 3,
   "id": "ab388a91",
   "metadata": {
    "scrolled": true
   },
   "outputs": [
    {
     "data": {
      "text/html": [
       "<div>\n",
       "<style scoped>\n",
       "    .dataframe tbody tr th:only-of-type {\n",
       "        vertical-align: middle;\n",
       "    }\n",
       "\n",
       "    .dataframe tbody tr th {\n",
       "        vertical-align: top;\n",
       "    }\n",
       "\n",
       "    .dataframe thead th {\n",
       "        text-align: right;\n",
       "    }\n",
       "</style>\n",
       "<table border=\"1\" class=\"dataframe\">\n",
       "  <thead>\n",
       "    <tr style=\"text-align: right;\">\n",
       "      <th></th>\n",
       "      <th>ZIPCODE</th>\n",
       "      <th>TOTAL STREET LENGTH</th>\n",
       "      <th>TOTAL BIKE LANE LENGTH</th>\n",
       "      <th>BIKE LANE DENSITY</th>\n",
       "      <th>NUM_DOCKS_AVAILABLE</th>\n",
       "      <th>TRIPS</th>\n",
       "      <th>NORMALIZED ACCIDENT COUNT</th>\n",
       "      <th>WHITE_POP %</th>\n",
       "      <th>POPULATION</th>\n",
       "      <th>ACCIDENT COUNT</th>\n",
       "      <th>MEAN INCOME</th>\n",
       "    </tr>\n",
       "  </thead>\n",
       "  <tbody>\n",
       "    <tr>\n",
       "      <th>0</th>\n",
       "      <td>11436</td>\n",
       "      <td>NaN</td>\n",
       "      <td>NaN</td>\n",
       "      <td>NaN</td>\n",
       "      <td>NaN</td>\n",
       "      <td>8192.653036</td>\n",
       "      <td>0.378388</td>\n",
       "      <td>7.031032</td>\n",
       "      <td>17949.0</td>\n",
       "      <td>31.0</td>\n",
       "      <td>29271.0</td>\n",
       "    </tr>\n",
       "    <tr>\n",
       "      <th>1</th>\n",
       "      <td>11213</td>\n",
       "      <td>146367.805288</td>\n",
       "      <td>28632.146155</td>\n",
       "      <td>0.195618</td>\n",
       "      <td>NaN</td>\n",
       "      <td>780.000000</td>\n",
       "      <td>45.128205</td>\n",
       "      <td>28.880142</td>\n",
       "      <td>63767.0</td>\n",
       "      <td>352.0</td>\n",
       "      <td>29216.0</td>\n",
       "    </tr>\n",
       "    <tr>\n",
       "      <th>2</th>\n",
       "      <td>11212</td>\n",
       "      <td>215912.786687</td>\n",
       "      <td>40575.901547</td>\n",
       "      <td>0.187927</td>\n",
       "      <td>NaN</td>\n",
       "      <td>87326.231788</td>\n",
       "      <td>0.381329</td>\n",
       "      <td>11.172781</td>\n",
       "      <td>84500.0</td>\n",
       "      <td>333.0</td>\n",
       "      <td>20958.0</td>\n",
       "    </tr>\n",
       "    <tr>\n",
       "      <th>3</th>\n",
       "      <td>11225</td>\n",
       "      <td>114141.251961</td>\n",
       "      <td>26079.822125</td>\n",
       "      <td>0.228487</td>\n",
       "      <td>149.0</td>\n",
       "      <td>6879.000000</td>\n",
       "      <td>4.564617</td>\n",
       "      <td>31.436415</td>\n",
       "      <td>56829.0</td>\n",
       "      <td>314.0</td>\n",
       "      <td>38992.0</td>\n",
       "    </tr>\n",
       "    <tr>\n",
       "      <th>4</th>\n",
       "      <td>11218</td>\n",
       "      <td>208355.389994</td>\n",
       "      <td>24186.845000</td>\n",
       "      <td>0.116085</td>\n",
       "      <td>23.0</td>\n",
       "      <td>1186.000000</td>\n",
       "      <td>28.667791</td>\n",
       "      <td>62.269343</td>\n",
       "      <td>75220.0</td>\n",
       "      <td>340.0</td>\n",
       "      <td>36189.0</td>\n",
       "    </tr>\n",
       "  </tbody>\n",
       "</table>\n",
       "</div>"
      ],
      "text/plain": [
       "   ZIPCODE  TOTAL STREET LENGTH  TOTAL BIKE LANE LENGTH  BIKE LANE DENSITY  \\\n",
       "0    11436                  NaN                     NaN                NaN   \n",
       "1    11213        146367.805288            28632.146155           0.195618   \n",
       "2    11212        215912.786687            40575.901547           0.187927   \n",
       "3    11225        114141.251961            26079.822125           0.228487   \n",
       "4    11218        208355.389994            24186.845000           0.116085   \n",
       "\n",
       "   NUM_DOCKS_AVAILABLE         TRIPS  NORMALIZED ACCIDENT COUNT  WHITE_POP %  \\\n",
       "0                  NaN   8192.653036                   0.378388     7.031032   \n",
       "1                  NaN    780.000000                  45.128205    28.880142   \n",
       "2                  NaN  87326.231788                   0.381329    11.172781   \n",
       "3                149.0   6879.000000                   4.564617    31.436415   \n",
       "4                 23.0   1186.000000                  28.667791    62.269343   \n",
       "\n",
       "   POPULATION  ACCIDENT COUNT  MEAN INCOME  \n",
       "0     17949.0            31.0      29271.0  \n",
       "1     63767.0           352.0      29216.0  \n",
       "2     84500.0           333.0      20958.0  \n",
       "3     56829.0           314.0      38992.0  \n",
       "4     75220.0           340.0      36189.0  "
      ]
     },
     "execution_count": 3,
     "metadata": {},
     "output_type": "execute_result"
    }
   ],
   "source": [
    "data.head()"
   ]
  },
  {
   "cell_type": "code",
   "execution_count": 4,
   "id": "b9194119",
   "metadata": {},
   "outputs": [
    {
     "name": "stdout",
     "output_type": "stream",
     "text": [
      "<class 'pandas.core.frame.DataFrame'>\n",
      "RangeIndex: 248 entries, 0 to 247\n",
      "Data columns (total 11 columns):\n",
      " #   Column                     Non-Null Count  Dtype  \n",
      "---  ------                     --------------  -----  \n",
      " 0   ZIPCODE                    248 non-null    int64  \n",
      " 1   TOTAL STREET LENGTH        178 non-null    float64\n",
      " 2   TOTAL BIKE LANE LENGTH     178 non-null    float64\n",
      " 3   BIKE LANE DENSITY          178 non-null    float64\n",
      " 4   NUM_DOCKS_AVAILABLE        54 non-null     float64\n",
      " 5   TRIPS                      248 non-null    float64\n",
      " 6   NORMALIZED ACCIDENT COUNT  248 non-null    float64\n",
      " 7   WHITE_POP %                209 non-null    float64\n",
      " 8   POPULATION                 209 non-null    float64\n",
      " 9   ACCIDENT COUNT             248 non-null    float64\n",
      " 10  MEAN INCOME                183 non-null    float64\n",
      "dtypes: float64(10), int64(1)\n",
      "memory usage: 21.4 KB\n"
     ]
    }
   ],
   "source": [
    "data.info()"
   ]
  },
  {
   "cell_type": "code",
   "execution_count": 5,
   "id": "a9fd2b18",
   "metadata": {},
   "outputs": [
    {
     "data": {
      "text/plain": [
       "(248, 11)"
      ]
     },
     "execution_count": 5,
     "metadata": {},
     "output_type": "execute_result"
    }
   ],
   "source": [
    "data.shape"
   ]
  },
  {
   "cell_type": "code",
   "execution_count": 6,
   "id": "e1e9a874",
   "metadata": {},
   "outputs": [
    {
     "data": {
      "text/plain": [
       "(178, 2)"
      ]
     },
     "execution_count": 6,
     "metadata": {},
     "output_type": "execute_result"
    }
   ],
   "source": [
    "mean = data[['BIKE LANE DENSITY']].dropna().mean()\n",
    "\n",
    "data1 = data[['ZIPCODE','BIKE LANE DENSITY','NORMALIZED ACCIDENT COUNT']].set_index('ZIPCODE',drop=True).dropna()\n",
    "data1.columns = data1.columns.str.replace(' ', '_')\n",
    "data1.shape"
   ]
  },
  {
   "cell_type": "code",
   "execution_count": 7,
   "id": "f5a3f6d5",
   "metadata": {},
   "outputs": [
    {
     "data": {
      "text/html": [
       "<div>\n",
       "<style scoped>\n",
       "    .dataframe tbody tr th:only-of-type {\n",
       "        vertical-align: middle;\n",
       "    }\n",
       "\n",
       "    .dataframe tbody tr th {\n",
       "        vertical-align: top;\n",
       "    }\n",
       "\n",
       "    .dataframe thead th {\n",
       "        text-align: right;\n",
       "    }\n",
       "</style>\n",
       "<table border=\"1\" class=\"dataframe\">\n",
       "  <thead>\n",
       "    <tr style=\"text-align: right;\">\n",
       "      <th></th>\n",
       "      <th>BIKE_LANE_DENSITY</th>\n",
       "      <th>NORMALIZED_ACCIDENT_COUNT</th>\n",
       "    </tr>\n",
       "  </thead>\n",
       "  <tbody>\n",
       "    <tr>\n",
       "      <th>count</th>\n",
       "      <td>178.000000</td>\n",
       "      <td>178.000000</td>\n",
       "    </tr>\n",
       "    <tr>\n",
       "      <th>mean</th>\n",
       "      <td>0.176869</td>\n",
       "      <td>5.509394</td>\n",
       "    </tr>\n",
       "    <tr>\n",
       "      <th>std</th>\n",
       "      <td>0.132892</td>\n",
       "      <td>24.134541</td>\n",
       "    </tr>\n",
       "    <tr>\n",
       "      <th>min</th>\n",
       "      <td>0.000243</td>\n",
       "      <td>0.000000</td>\n",
       "    </tr>\n",
       "    <tr>\n",
       "      <th>25%</th>\n",
       "      <td>0.073142</td>\n",
       "      <td>0.375112</td>\n",
       "    </tr>\n",
       "    <tr>\n",
       "      <th>50%</th>\n",
       "      <td>0.156311</td>\n",
       "      <td>0.400976</td>\n",
       "    </tr>\n",
       "    <tr>\n",
       "      <th>75%</th>\n",
       "      <td>0.252600</td>\n",
       "      <td>1.141723</td>\n",
       "    </tr>\n",
       "    <tr>\n",
       "      <th>max</th>\n",
       "      <td>0.574144</td>\n",
       "      <td>260.621762</td>\n",
       "    </tr>\n",
       "  </tbody>\n",
       "</table>\n",
       "</div>"
      ],
      "text/plain": [
       "       BIKE_LANE_DENSITY  NORMALIZED_ACCIDENT_COUNT\n",
       "count         178.000000                 178.000000\n",
       "mean            0.176869                   5.509394\n",
       "std             0.132892                  24.134541\n",
       "min             0.000243                   0.000000\n",
       "25%             0.073142                   0.375112\n",
       "50%             0.156311                   0.400976\n",
       "75%             0.252600                   1.141723\n",
       "max             0.574144                 260.621762"
      ]
     },
     "execution_count": 7,
     "metadata": {},
     "output_type": "execute_result"
    }
   ],
   "source": [
    "data1.describe()"
   ]
  },
  {
   "cell_type": "code",
   "execution_count": 8,
   "id": "7ddb676b",
   "metadata": {},
   "outputs": [],
   "source": [
    "perc = 0.95\n",
    "\n",
    "qhi = data1['NORMALIZED_ACCIDENT_COUNT'].quantile(perc)\n",
    "qlow = data1['NORMALIZED_ACCIDENT_COUNT'].quantile(1-perc)\n",
    "\n",
    "data1 = data1[(data1['NORMALIZED_ACCIDENT_COUNT'] >= qlow) & (data1['NORMALIZED_ACCIDENT_COUNT'] <= qhi)].reset_index(drop=True)"
   ]
  },
  {
   "cell_type": "code",
   "execution_count": 9,
   "id": "82b5a4a1",
   "metadata": {},
   "outputs": [],
   "source": [
    "#from sklearn.preprocessing import MinMaxScaler\n",
    "\n",
    "#scaler = MinMaxScaler()\n",
    "\n",
    "#data1['NORMALIZED_ACCIDENT_COUNT'] = scaler.fit_transform(np.array(data1['NORMALIZED_ACCIDENT_COUNT']).reshape(-1, 1)) \n",
    "\n",
    "\n",
    "base = 10\n",
    "\n",
    "data1['Log_NORMALIZED_ACCIDENT_COUNT'] = np.log(np.array(data1['NORMALIZED_ACCIDENT_COUNT'])+1e-1)/np.log(base)\n",
    "data1['Log_BIKE_LANE_DENSITY'] = np.log(np.array(data1['BIKE_LANE_DENSITY'])+1e-9)/np.log(base)\n",
    "\n",
    "\n",
    "root = 3.5\n",
    "data1['Root_NORMALIZED_ACCIDENT_COUNT'] = np.power((np.array(data1['NORMALIZED_ACCIDENT_COUNT'])),1/root)\n",
    "data1['Root_BIKE_LANE_DENSITY'] = np.power((np.array(data1['BIKE_LANE_DENSITY'])),1/root)\n",
    "\n",
    "data1['LR_NORMALIZED_ACCIDENT_COUNT'] = np.log(np.array(data1['Root_NORMALIZED_ACCIDENT_COUNT'])+1e-1)/np.log(base)\n",
    "data1['LR_BIKE_LANE_DENSITY'] = np.log(np.array(data1['Root_BIKE_LANE_DENSITY'])+1e-9)/np.log(base)"
   ]
  },
  {
   "cell_type": "code",
   "execution_count": 10,
   "id": "a75fdb3a",
   "metadata": {
    "scrolled": true
   },
   "outputs": [
    {
     "data": {
      "text/html": [
       "<div>\n",
       "<style scoped>\n",
       "    .dataframe tbody tr th:only-of-type {\n",
       "        vertical-align: middle;\n",
       "    }\n",
       "\n",
       "    .dataframe tbody tr th {\n",
       "        vertical-align: top;\n",
       "    }\n",
       "\n",
       "    .dataframe thead th {\n",
       "        text-align: right;\n",
       "    }\n",
       "</style>\n",
       "<table border=\"1\" class=\"dataframe\">\n",
       "  <thead>\n",
       "    <tr style=\"text-align: right;\">\n",
       "      <th></th>\n",
       "      <th>BIKE_LANE_DENSITY</th>\n",
       "      <th>NORMALIZED_ACCIDENT_COUNT</th>\n",
       "      <th>Log_NORMALIZED_ACCIDENT_COUNT</th>\n",
       "      <th>Log_BIKE_LANE_DENSITY</th>\n",
       "      <th>Root_NORMALIZED_ACCIDENT_COUNT</th>\n",
       "      <th>Root_BIKE_LANE_DENSITY</th>\n",
       "      <th>LR_NORMALIZED_ACCIDENT_COUNT</th>\n",
       "      <th>LR_BIKE_LANE_DENSITY</th>\n",
       "    </tr>\n",
       "  </thead>\n",
       "  <tbody>\n",
       "    <tr>\n",
       "      <th>0</th>\n",
       "      <td>0.187927</td>\n",
       "      <td>0.381329</td>\n",
       "      <td>-0.317558</td>\n",
       "      <td>-0.726010</td>\n",
       "      <td>0.759226</td>\n",
       "      <td>0.620252</td>\n",
       "      <td>-0.065892</td>\n",
       "      <td>-0.207431</td>\n",
       "    </tr>\n",
       "    <tr>\n",
       "      <th>1</th>\n",
       "      <td>0.228487</td>\n",
       "      <td>4.564617</td>\n",
       "      <td>0.668816</td>\n",
       "      <td>-0.641138</td>\n",
       "      <td>1.543125</td>\n",
       "      <td>0.655870</td>\n",
       "      <td>0.215671</td>\n",
       "      <td>-0.183182</td>\n",
       "    </tr>\n",
       "    <tr>\n",
       "      <th>2</th>\n",
       "      <td>0.080448</td>\n",
       "      <td>0.375178</td>\n",
       "      <td>-0.323144</td>\n",
       "      <td>-1.094484</td>\n",
       "      <td>0.755707</td>\n",
       "      <td>0.486733</td>\n",
       "      <td>-0.067675</td>\n",
       "      <td>-0.312710</td>\n",
       "    </tr>\n",
       "    <tr>\n",
       "      <th>3</th>\n",
       "      <td>0.075781</td>\n",
       "      <td>0.369500</td>\n",
       "      <td>-0.328364</td>\n",
       "      <td>-1.120440</td>\n",
       "      <td>0.752422</td>\n",
       "      <td>0.478492</td>\n",
       "      <td>-0.069345</td>\n",
       "      <td>-0.320126</td>\n",
       "    </tr>\n",
       "    <tr>\n",
       "      <th>4</th>\n",
       "      <td>0.067137</td>\n",
       "      <td>0.366497</td>\n",
       "      <td>-0.331151</td>\n",
       "      <td>-1.173041</td>\n",
       "      <td>0.750670</td>\n",
       "      <td>0.462216</td>\n",
       "      <td>-0.070239</td>\n",
       "      <td>-0.335155</td>\n",
       "    </tr>\n",
       "  </tbody>\n",
       "</table>\n",
       "</div>"
      ],
      "text/plain": [
       "   BIKE_LANE_DENSITY  NORMALIZED_ACCIDENT_COUNT  \\\n",
       "0           0.187927                   0.381329   \n",
       "1           0.228487                   4.564617   \n",
       "2           0.080448                   0.375178   \n",
       "3           0.075781                   0.369500   \n",
       "4           0.067137                   0.366497   \n",
       "\n",
       "   Log_NORMALIZED_ACCIDENT_COUNT  Log_BIKE_LANE_DENSITY  \\\n",
       "0                      -0.317558              -0.726010   \n",
       "1                       0.668816              -0.641138   \n",
       "2                      -0.323144              -1.094484   \n",
       "3                      -0.328364              -1.120440   \n",
       "4                      -0.331151              -1.173041   \n",
       "\n",
       "   Root_NORMALIZED_ACCIDENT_COUNT  Root_BIKE_LANE_DENSITY  \\\n",
       "0                        0.759226                0.620252   \n",
       "1                        1.543125                0.655870   \n",
       "2                        0.755707                0.486733   \n",
       "3                        0.752422                0.478492   \n",
       "4                        0.750670                0.462216   \n",
       "\n",
       "   LR_NORMALIZED_ACCIDENT_COUNT  LR_BIKE_LANE_DENSITY  \n",
       "0                     -0.065892             -0.207431  \n",
       "1                      0.215671             -0.183182  \n",
       "2                     -0.067675             -0.312710  \n",
       "3                     -0.069345             -0.320126  \n",
       "4                     -0.070239             -0.335155  "
      ]
     },
     "execution_count": 10,
     "metadata": {},
     "output_type": "execute_result"
    }
   ],
   "source": [
    "data1.head()"
   ]
  },
  {
   "cell_type": "code",
   "execution_count": 11,
   "id": "9d447f55",
   "metadata": {},
   "outputs": [
    {
     "data": {
      "text/html": [
       "<div>\n",
       "<style scoped>\n",
       "    .dataframe tbody tr th:only-of-type {\n",
       "        vertical-align: middle;\n",
       "    }\n",
       "\n",
       "    .dataframe tbody tr th {\n",
       "        vertical-align: top;\n",
       "    }\n",
       "\n",
       "    .dataframe thead th {\n",
       "        text-align: right;\n",
       "    }\n",
       "</style>\n",
       "<table border=\"1\" class=\"dataframe\">\n",
       "  <thead>\n",
       "    <tr style=\"text-align: right;\">\n",
       "      <th></th>\n",
       "      <th>BIKE_LANE_DENSITY</th>\n",
       "      <th>NORMALIZED_ACCIDENT_COUNT</th>\n",
       "      <th>Log_NORMALIZED_ACCIDENT_COUNT</th>\n",
       "      <th>Log_BIKE_LANE_DENSITY</th>\n",
       "      <th>Root_NORMALIZED_ACCIDENT_COUNT</th>\n",
       "      <th>Root_BIKE_LANE_DENSITY</th>\n",
       "      <th>LR_NORMALIZED_ACCIDENT_COUNT</th>\n",
       "      <th>LR_BIKE_LANE_DENSITY</th>\n",
       "    </tr>\n",
       "  </thead>\n",
       "  <tbody>\n",
       "    <tr>\n",
       "      <th>count</th>\n",
       "      <td>160.000000</td>\n",
       "      <td>160.000000</td>\n",
       "      <td>160.000000</td>\n",
       "      <td>160.000000</td>\n",
       "      <td>160.000000</td>\n",
       "      <td>160.000000</td>\n",
       "      <td>160.000000</td>\n",
       "      <td>160.000000</td>\n",
       "    </tr>\n",
       "    <tr>\n",
       "      <th>mean</th>\n",
       "      <td>0.168451</td>\n",
       "      <td>1.842764</td>\n",
       "      <td>-0.074438</td>\n",
       "      <td>-0.972416</td>\n",
       "      <td>0.962099</td>\n",
       "      <td>0.556141</td>\n",
       "      <td>0.003315</td>\n",
       "      <td>-0.277833</td>\n",
       "    </tr>\n",
       "    <tr>\n",
       "      <th>std</th>\n",
       "      <td>0.127503</td>\n",
       "      <td>3.679156</td>\n",
       "      <td>0.460212</td>\n",
       "      <td>0.554453</td>\n",
       "      <td>0.402740</td>\n",
       "      <td>0.154432</td>\n",
       "      <td>0.130975</td>\n",
       "      <td>0.158415</td>\n",
       "    </tr>\n",
       "    <tr>\n",
       "      <th>min</th>\n",
       "      <td>0.000243</td>\n",
       "      <td>0.187014</td>\n",
       "      <td>-0.542096</td>\n",
       "      <td>-3.614273</td>\n",
       "      <td>0.619390</td>\n",
       "      <td>0.092758</td>\n",
       "      <td>-0.143035</td>\n",
       "      <td>-1.032650</td>\n",
       "    </tr>\n",
       "    <tr>\n",
       "      <th>25%</th>\n",
       "      <td>0.067154</td>\n",
       "      <td>0.378402</td>\n",
       "      <td>-0.320207</td>\n",
       "      <td>-1.172931</td>\n",
       "      <td>0.757557</td>\n",
       "      <td>0.462250</td>\n",
       "      <td>-0.066737</td>\n",
       "      <td>-0.335123</td>\n",
       "    </tr>\n",
       "    <tr>\n",
       "      <th>50%</th>\n",
       "      <td>0.146042</td>\n",
       "      <td>0.400976</td>\n",
       "      <td>-0.300184</td>\n",
       "      <td>-0.835522</td>\n",
       "      <td>0.770203</td>\n",
       "      <td>0.577138</td>\n",
       "      <td>-0.060380</td>\n",
       "      <td>-0.238721</td>\n",
       "    </tr>\n",
       "    <tr>\n",
       "      <th>75%</th>\n",
       "      <td>0.245186</td>\n",
       "      <td>0.838912</td>\n",
       "      <td>-0.027476</td>\n",
       "      <td>-0.610506</td>\n",
       "      <td>0.950997</td>\n",
       "      <td>0.669222</td>\n",
       "      <td>0.021593</td>\n",
       "      <td>-0.174430</td>\n",
       "    </tr>\n",
       "    <tr>\n",
       "      <th>max</th>\n",
       "      <td>0.540497</td>\n",
       "      <td>25.983760</td>\n",
       "      <td>1.416370</td>\n",
       "      <td>-0.267207</td>\n",
       "      <td>2.536300</td>\n",
       "      <td>0.838794</td>\n",
       "      <td>0.420995</td>\n",
       "      <td>-0.076345</td>\n",
       "    </tr>\n",
       "  </tbody>\n",
       "</table>\n",
       "</div>"
      ],
      "text/plain": [
       "       BIKE_LANE_DENSITY  NORMALIZED_ACCIDENT_COUNT  \\\n",
       "count         160.000000                 160.000000   \n",
       "mean            0.168451                   1.842764   \n",
       "std             0.127503                   3.679156   \n",
       "min             0.000243                   0.187014   \n",
       "25%             0.067154                   0.378402   \n",
       "50%             0.146042                   0.400976   \n",
       "75%             0.245186                   0.838912   \n",
       "max             0.540497                  25.983760   \n",
       "\n",
       "       Log_NORMALIZED_ACCIDENT_COUNT  Log_BIKE_LANE_DENSITY  \\\n",
       "count                     160.000000             160.000000   \n",
       "mean                       -0.074438              -0.972416   \n",
       "std                         0.460212               0.554453   \n",
       "min                        -0.542096              -3.614273   \n",
       "25%                        -0.320207              -1.172931   \n",
       "50%                        -0.300184              -0.835522   \n",
       "75%                        -0.027476              -0.610506   \n",
       "max                         1.416370              -0.267207   \n",
       "\n",
       "       Root_NORMALIZED_ACCIDENT_COUNT  Root_BIKE_LANE_DENSITY  \\\n",
       "count                      160.000000              160.000000   \n",
       "mean                         0.962099                0.556141   \n",
       "std                          0.402740                0.154432   \n",
       "min                          0.619390                0.092758   \n",
       "25%                          0.757557                0.462250   \n",
       "50%                          0.770203                0.577138   \n",
       "75%                          0.950997                0.669222   \n",
       "max                          2.536300                0.838794   \n",
       "\n",
       "       LR_NORMALIZED_ACCIDENT_COUNT  LR_BIKE_LANE_DENSITY  \n",
       "count                    160.000000            160.000000  \n",
       "mean                       0.003315             -0.277833  \n",
       "std                        0.130975              0.158415  \n",
       "min                       -0.143035             -1.032650  \n",
       "25%                       -0.066737             -0.335123  \n",
       "50%                       -0.060380             -0.238721  \n",
       "75%                        0.021593             -0.174430  \n",
       "max                        0.420995             -0.076345  "
      ]
     },
     "execution_count": 11,
     "metadata": {},
     "output_type": "execute_result"
    }
   ],
   "source": [
    "data1.describe()"
   ]
  },
  {
   "cell_type": "code",
   "execution_count": 12,
   "id": "1ab0db87",
   "metadata": {
    "scrolled": true
   },
   "outputs": [
    {
     "data": {
      "text/plain": [
       "(160, 8)"
      ]
     },
     "execution_count": 12,
     "metadata": {},
     "output_type": "execute_result"
    }
   ],
   "source": [
    "data1.shape"
   ]
  },
  {
   "cell_type": "code",
   "execution_count": 13,
   "id": "33c48846",
   "metadata": {
    "scrolled": true
   },
   "outputs": [
    {
     "data": {
      "text/html": [
       "<table class=\"simpletable\">\n",
       "<caption>OLS Regression Results</caption>\n",
       "<tr>\n",
       "  <th>Dep. Variable:</th>    <td>Root_NORMALIZED_ACCIDENT_COUNT</td> <th>  R-squared (uncentered):</th>      <td>   0.574</td>\n",
       "</tr>\n",
       "<tr>\n",
       "  <th>Model:</th>                          <td>OLS</td>              <th>  Adj. R-squared (uncentered):</th> <td>   0.571</td>\n",
       "</tr>\n",
       "<tr>\n",
       "  <th>Method:</th>                    <td>Least Squares</td>         <th>  F-statistic:       </th>          <td>   213.9</td>\n",
       "</tr>\n",
       "<tr>\n",
       "  <th>Date:</th>                    <td>Fri, 09 Dec 2022</td>        <th>  Prob (F-statistic):</th>          <td>3.11e-31</td>\n",
       "</tr>\n",
       "<tr>\n",
       "  <th>Time:</th>                        <td>23:33:51</td>            <th>  Log-Likelihood:    </th>          <td> -165.51</td>\n",
       "</tr>\n",
       "<tr>\n",
       "  <th>No. Observations:</th>             <td>   160</td>             <th>  AIC:               </th>          <td>   333.0</td>\n",
       "</tr>\n",
       "<tr>\n",
       "  <th>Df Residuals:</th>                 <td>   159</td>             <th>  BIC:               </th>          <td>   336.1</td>\n",
       "</tr>\n",
       "<tr>\n",
       "  <th>Df Model:</th>                     <td>     1</td>             <th>                     </th>              <td> </td>   \n",
       "</tr>\n",
       "<tr>\n",
       "  <th>Covariance Type:</th>             <td>nonrobust</td>           <th>                     </th>              <td> </td>   \n",
       "</tr>\n",
       "</table>\n",
       "<table class=\"simpletable\">\n",
       "<tr>\n",
       "            <td></td>               <th>coef</th>     <th>std err</th>      <th>t</th>      <th>P>|t|</th>  <th>[0.025</th>    <th>0.975]</th>  \n",
       "</tr>\n",
       "<tr>\n",
       "  <th>Log_BIKE_LANE_DENSITY</th> <td>   -0.7059</td> <td>    0.048</td> <td>  -14.624</td> <td> 0.000</td> <td>   -0.801</td> <td>   -0.611</td>\n",
       "</tr>\n",
       "</table>\n",
       "<table class=\"simpletable\">\n",
       "<tr>\n",
       "  <th>Omnibus:</th>       <td> 6.341</td> <th>  Durbin-Watson:     </th> <td>   1.248</td>\n",
       "</tr>\n",
       "<tr>\n",
       "  <th>Prob(Omnibus):</th> <td> 0.042</td> <th>  Jarque-Bera (JB):  </th> <td>  10.408</td>\n",
       "</tr>\n",
       "<tr>\n",
       "  <th>Skew:</th>          <td> 0.029</td> <th>  Prob(JB):          </th> <td> 0.00550</td>\n",
       "</tr>\n",
       "<tr>\n",
       "  <th>Kurtosis:</th>      <td> 4.248</td> <th>  Cond. No.          </th> <td>    1.00</td>\n",
       "</tr>\n",
       "</table><br/><br/>Notes:<br/>[1] R² is computed without centering (uncentered) since the model does not contain a constant.<br/>[2] Standard Errors assume that the covariance matrix of the errors is correctly specified."
      ],
      "text/plain": [
       "<class 'statsmodels.iolib.summary.Summary'>\n",
       "\"\"\"\n",
       "                                       OLS Regression Results                                      \n",
       "===================================================================================================\n",
       "Dep. Variable:     Root_NORMALIZED_ACCIDENT_COUNT   R-squared (uncentered):                   0.574\n",
       "Model:                                        OLS   Adj. R-squared (uncentered):              0.571\n",
       "Method:                             Least Squares   F-statistic:                              213.9\n",
       "Date:                            Fri, 09 Dec 2022   Prob (F-statistic):                    3.11e-31\n",
       "Time:                                    23:33:51   Log-Likelihood:                         -165.51\n",
       "No. Observations:                             160   AIC:                                      333.0\n",
       "Df Residuals:                                 159   BIC:                                      336.1\n",
       "Df Model:                                       1                                                  \n",
       "Covariance Type:                        nonrobust                                                  \n",
       "=========================================================================================\n",
       "                            coef    std err          t      P>|t|      [0.025      0.975]\n",
       "-----------------------------------------------------------------------------------------\n",
       "Log_BIKE_LANE_DENSITY    -0.7059      0.048    -14.624      0.000      -0.801      -0.611\n",
       "==============================================================================\n",
       "Omnibus:                        6.341   Durbin-Watson:                   1.248\n",
       "Prob(Omnibus):                  0.042   Jarque-Bera (JB):               10.408\n",
       "Skew:                           0.029   Prob(JB):                      0.00550\n",
       "Kurtosis:                       4.248   Cond. No.                         1.00\n",
       "==============================================================================\n",
       "\n",
       "Notes:\n",
       "[1] R² is computed without centering (uncentered) since the model does not contain a constant.\n",
       "[2] Standard Errors assume that the covariance matrix of the errors is correctly specified.\n",
       "\"\"\""
      ]
     },
     "execution_count": 13,
     "metadata": {},
     "output_type": "execute_result"
    }
   ],
   "source": [
    "lm = smf.ols(formula='Root_NORMALIZED_ACCIDENT_COUNT~Log_BIKE_LANE_DENSITY-1',data=data1).fit()\n",
    "lm.summary()"
   ]
  },
  {
   "cell_type": "code",
   "execution_count": 14,
   "id": "31e49be1",
   "metadata": {},
   "outputs": [
    {
     "data": {
      "text/markdown": [
       "<b>The p-value is 0.00 and the rsquared is 0.57"
      ],
      "text/plain": [
       "<IPython.core.display.Markdown object>"
      ]
     },
     "execution_count": 14,
     "metadata": {},
     "output_type": "execute_result"
    }
   ],
   "source": [
    "md(\"<b>The p-value is {:.2f} and the rsquared is {:.2f}\".format(lm.pvalues[0],lm.rsquared))"
   ]
  },
  {
   "cell_type": "markdown",
   "id": "2556bc44",
   "metadata": {},
   "source": [
    "Let us plot and see the result"
   ]
  },
  {
   "cell_type": "code",
   "execution_count": 15,
   "id": "30ca99ce",
   "metadata": {
    "scrolled": true
   },
   "outputs": [
    {
     "data": {
      "text/plain": [
       "<AxesSubplot:xlabel='Log_BIKE_LANE_DENSITY', ylabel='Root_NORMALIZED_ACCIDENT_COUNT'>"
      ]
     },
     "execution_count": 15,
     "metadata": {},
     "output_type": "execute_result"
    },
    {
     "data": {
      "image/png": "[encoded data removed]",
      "text/plain": [
       "<Figure size 576x576 with 1 Axes>"
      ]
     },
     "metadata": {},
     "output_type": "display_data"
    }
   ],
   "source": [
    "import seaborn as sns\n",
    "sns.set(rc={'figure.figsize':(8,8)})\n",
    "sns.regplot(x='Log_BIKE_LANE_DENSITY', y='Root_NORMALIZED_ACCIDENT_COUNT',data=data1)"
   ]
  },
  {
   "cell_type": "code",
   "execution_count": 16,
   "id": "2ccdaf5a",
   "metadata": {},
   "outputs": [
    {
     "data": {
      "text/markdown": [
       "$$Normalized Accident Count= (-0.7058691218415555*log(Bike Lane Density))^3.5$$"
      ],
      "text/plain": [
       "<IPython.core.display.Markdown object>"
      ]
     },
     "execution_count": 16,
     "metadata": {},
     "output_type": "execute_result"
    }
   ],
   "source": [
    "md(\"$$Normalized Accident Count= ({}*log(Bike Lane Density))^{}$$\".format(lm.params[0],root))"
   ]
  },
  {
   "cell_type": "markdown",
   "id": "2e2d6270",
   "metadata": {},
   "source": [
    "In our range from 0 to 1 for bike lane density, this would mean that as bike lane density increases, the Normalized Accident count decreases rapidly."
   ]
  },
  {
   "cell_type": "code",
   "execution_count": 17,
   "id": "bf595e3d",
   "metadata": {},
   "outputs": [],
   "source": [
    "x_mesh = np.linspace(np.min(data1['BIKE_LANE_DENSITY']),np.max(data1['BIKE_LANE_DENSITY']),100)\n",
    "y_mesh = np.power(lm.params[0]*np.log(x_mesh)/np.log(base),root)"
   ]
  },
  {
   "cell_type": "code",
   "execution_count": 18,
   "id": "f3efc99f",
   "metadata": {
    "scrolled": false
   },
   "outputs": [
    {
     "data": {
      "text/plain": [
       "Text(0, 0.5, 'Normalized Accident Count')"
      ]
     },
     "execution_count": 18,
     "metadata": {},
     "output_type": "execute_result"
    },
    {
     "data": {
      "image/png": "[encoded data removed]",
      "text/plain": [
       "<Figure size 504x504 with 1 Axes>"
      ]
     },
     "metadata": {},
     "output_type": "display_data"
    }
   ],
   "source": [
    "plt.rcParams[\"figure.figsize\"] = (7,7)\n",
    "plt.plot(x_mesh,y_mesh,'-r')\n",
    "plt.xlabel('Bike Lane Density')\n",
    "plt.ylabel('Normalized Accident Count')"
   ]
  }
 ],
 "metadata": {
  "kernelspec": {
   "display_name": "Python 3 (ipykernel)",
   "language": "python",
   "name": "python3"
  },
  "language_info": {
   "codemirror_mode": {
    "name": "ipython",
    "version": 3
   },
   "file_extension": ".py",
   "mimetype": "text/x-python",
   "name": "python",
   "nbconvert_exporter": "python",
   "pygments_lexer": "ipython3",
   "version": "3.9.12"
  }
 },
 "nbformat": 4,
 "nbformat_minor": 5
}
